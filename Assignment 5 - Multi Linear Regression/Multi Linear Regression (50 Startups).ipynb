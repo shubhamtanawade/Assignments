{
 "cells": [
  {
   "cell_type": "markdown",
   "id": "8b5f6507",
   "metadata": {},
   "source": [
    "# Multi Linear Regression (50 Startups)"
   ]
  },
  {
   "cell_type": "markdown",
   "id": "0f1b4e3a",
   "metadata": {},
   "source": [
    "Shubham's Assignment"
   ]
  },
  {
   "cell_type": "code",
   "execution_count": 1,
   "id": "f1e70918",
   "metadata": {
    "ExecuteTime": {
     "end_time": "2023-03-15T14:33:52.542454Z",
     "start_time": "2023-03-15T14:33:50.452432Z"
    }
   },
   "outputs": [],
   "source": [
    "#import libraries\n",
    "import pandas as pd\n",
    "import numpy as np\n",
    "import matplotlib.pyplot as plt\n",
    "import seaborn as sns\n",
    "from numpy import math \n",
    "from sklearn.preprocessing import MinMaxScaler\n",
    "from sklearn.model_selection import train_test_split\n",
    "from sklearn.linear_model import LinearRegression\n",
    "from sklearn.metrics import r2_score\n",
    "from sklearn.metrics import mean_squared_error"
   ]
  },
  {
   "cell_type": "code",
   "execution_count": 2,
   "id": "fce6bef9",
   "metadata": {
    "ExecuteTime": {
     "end_time": "2023-03-15T14:34:01.742518Z",
     "start_time": "2023-03-15T14:34:01.722517Z"
    }
   },
   "outputs": [],
   "source": [
    "import warnings\n",
    "warnings.filterwarnings('ignore')"
   ]
  },
  {
   "cell_type": "code",
   "execution_count": 3,
   "id": "9b2ec2f7",
   "metadata": {
    "ExecuteTime": {
     "end_time": "2023-03-15T14:34:06.371011Z",
     "start_time": "2023-03-15T14:34:06.309009Z"
    }
   },
   "outputs": [
    {
     "data": {
      "text/html": [
       "<div>\n",
       "<style scoped>\n",
       "    .dataframe tbody tr th:only-of-type {\n",
       "        vertical-align: middle;\n",
       "    }\n",
       "\n",
       "    .dataframe tbody tr th {\n",
       "        vertical-align: top;\n",
       "    }\n",
       "\n",
       "    .dataframe thead th {\n",
       "        text-align: right;\n",
       "    }\n",
       "</style>\n",
       "<table border=\"1\" class=\"dataframe\">\n",
       "  <thead>\n",
       "    <tr style=\"text-align: right;\">\n",
       "      <th></th>\n",
       "      <th>R&amp;D Spend</th>\n",
       "      <th>Administration</th>\n",
       "      <th>Marketing Spend</th>\n",
       "      <th>State</th>\n",
       "      <th>Profit</th>\n",
       "    </tr>\n",
       "  </thead>\n",
       "  <tbody>\n",
       "    <tr>\n",
       "      <th>0</th>\n",
       "      <td>165349.20</td>\n",
       "      <td>136897.80</td>\n",
       "      <td>471784.10</td>\n",
       "      <td>New York</td>\n",
       "      <td>192261.83</td>\n",
       "    </tr>\n",
       "    <tr>\n",
       "      <th>1</th>\n",
       "      <td>162597.70</td>\n",
       "      <td>151377.59</td>\n",
       "      <td>443898.53</td>\n",
       "      <td>California</td>\n",
       "      <td>191792.06</td>\n",
       "    </tr>\n",
       "    <tr>\n",
       "      <th>2</th>\n",
       "      <td>153441.51</td>\n",
       "      <td>101145.55</td>\n",
       "      <td>407934.54</td>\n",
       "      <td>Florida</td>\n",
       "      <td>191050.39</td>\n",
       "    </tr>\n",
       "    <tr>\n",
       "      <th>3</th>\n",
       "      <td>144372.41</td>\n",
       "      <td>118671.85</td>\n",
       "      <td>383199.62</td>\n",
       "      <td>New York</td>\n",
       "      <td>182901.99</td>\n",
       "    </tr>\n",
       "    <tr>\n",
       "      <th>4</th>\n",
       "      <td>142107.34</td>\n",
       "      <td>91391.77</td>\n",
       "      <td>366168.42</td>\n",
       "      <td>Florida</td>\n",
       "      <td>166187.94</td>\n",
       "    </tr>\n",
       "    <tr>\n",
       "      <th>5</th>\n",
       "      <td>131876.90</td>\n",
       "      <td>99814.71</td>\n",
       "      <td>362861.36</td>\n",
       "      <td>New York</td>\n",
       "      <td>156991.12</td>\n",
       "    </tr>\n",
       "    <tr>\n",
       "      <th>6</th>\n",
       "      <td>134615.46</td>\n",
       "      <td>147198.87</td>\n",
       "      <td>127716.82</td>\n",
       "      <td>California</td>\n",
       "      <td>156122.51</td>\n",
       "    </tr>\n",
       "    <tr>\n",
       "      <th>7</th>\n",
       "      <td>130298.13</td>\n",
       "      <td>145530.06</td>\n",
       "      <td>323876.68</td>\n",
       "      <td>Florida</td>\n",
       "      <td>155752.60</td>\n",
       "    </tr>\n",
       "    <tr>\n",
       "      <th>8</th>\n",
       "      <td>120542.52</td>\n",
       "      <td>148718.95</td>\n",
       "      <td>311613.29</td>\n",
       "      <td>New York</td>\n",
       "      <td>152211.77</td>\n",
       "    </tr>\n",
       "    <tr>\n",
       "      <th>9</th>\n",
       "      <td>123334.88</td>\n",
       "      <td>108679.17</td>\n",
       "      <td>304981.62</td>\n",
       "      <td>California</td>\n",
       "      <td>149759.96</td>\n",
       "    </tr>\n",
       "    <tr>\n",
       "      <th>10</th>\n",
       "      <td>101913.08</td>\n",
       "      <td>110594.11</td>\n",
       "      <td>229160.95</td>\n",
       "      <td>Florida</td>\n",
       "      <td>146121.95</td>\n",
       "    </tr>\n",
       "    <tr>\n",
       "      <th>11</th>\n",
       "      <td>100671.96</td>\n",
       "      <td>91790.61</td>\n",
       "      <td>249744.55</td>\n",
       "      <td>California</td>\n",
       "      <td>144259.40</td>\n",
       "    </tr>\n",
       "    <tr>\n",
       "      <th>12</th>\n",
       "      <td>93863.75</td>\n",
       "      <td>127320.38</td>\n",
       "      <td>249839.44</td>\n",
       "      <td>Florida</td>\n",
       "      <td>141585.52</td>\n",
       "    </tr>\n",
       "    <tr>\n",
       "      <th>13</th>\n",
       "      <td>91992.39</td>\n",
       "      <td>135495.07</td>\n",
       "      <td>252664.93</td>\n",
       "      <td>California</td>\n",
       "      <td>134307.35</td>\n",
       "    </tr>\n",
       "    <tr>\n",
       "      <th>14</th>\n",
       "      <td>119943.24</td>\n",
       "      <td>156547.42</td>\n",
       "      <td>256512.92</td>\n",
       "      <td>Florida</td>\n",
       "      <td>132602.65</td>\n",
       "    </tr>\n",
       "    <tr>\n",
       "      <th>15</th>\n",
       "      <td>114523.61</td>\n",
       "      <td>122616.84</td>\n",
       "      <td>261776.23</td>\n",
       "      <td>New York</td>\n",
       "      <td>129917.04</td>\n",
       "    </tr>\n",
       "    <tr>\n",
       "      <th>16</th>\n",
       "      <td>78013.11</td>\n",
       "      <td>121597.55</td>\n",
       "      <td>264346.06</td>\n",
       "      <td>California</td>\n",
       "      <td>126992.93</td>\n",
       "    </tr>\n",
       "    <tr>\n",
       "      <th>17</th>\n",
       "      <td>94657.16</td>\n",
       "      <td>145077.58</td>\n",
       "      <td>282574.31</td>\n",
       "      <td>New York</td>\n",
       "      <td>125370.37</td>\n",
       "    </tr>\n",
       "    <tr>\n",
       "      <th>18</th>\n",
       "      <td>91749.16</td>\n",
       "      <td>114175.79</td>\n",
       "      <td>294919.57</td>\n",
       "      <td>Florida</td>\n",
       "      <td>124266.90</td>\n",
       "    </tr>\n",
       "    <tr>\n",
       "      <th>19</th>\n",
       "      <td>86419.70</td>\n",
       "      <td>153514.11</td>\n",
       "      <td>0.00</td>\n",
       "      <td>New York</td>\n",
       "      <td>122776.86</td>\n",
       "    </tr>\n",
       "    <tr>\n",
       "      <th>20</th>\n",
       "      <td>76253.86</td>\n",
       "      <td>113867.30</td>\n",
       "      <td>298664.47</td>\n",
       "      <td>California</td>\n",
       "      <td>118474.03</td>\n",
       "    </tr>\n",
       "    <tr>\n",
       "      <th>21</th>\n",
       "      <td>78389.47</td>\n",
       "      <td>153773.43</td>\n",
       "      <td>299737.29</td>\n",
       "      <td>New York</td>\n",
       "      <td>111313.02</td>\n",
       "    </tr>\n",
       "    <tr>\n",
       "      <th>22</th>\n",
       "      <td>73994.56</td>\n",
       "      <td>122782.75</td>\n",
       "      <td>303319.26</td>\n",
       "      <td>Florida</td>\n",
       "      <td>110352.25</td>\n",
       "    </tr>\n",
       "    <tr>\n",
       "      <th>23</th>\n",
       "      <td>67532.53</td>\n",
       "      <td>105751.03</td>\n",
       "      <td>304768.73</td>\n",
       "      <td>Florida</td>\n",
       "      <td>108733.99</td>\n",
       "    </tr>\n",
       "    <tr>\n",
       "      <th>24</th>\n",
       "      <td>77044.01</td>\n",
       "      <td>99281.34</td>\n",
       "      <td>140574.81</td>\n",
       "      <td>New York</td>\n",
       "      <td>108552.04</td>\n",
       "    </tr>\n",
       "    <tr>\n",
       "      <th>25</th>\n",
       "      <td>64664.71</td>\n",
       "      <td>139553.16</td>\n",
       "      <td>137962.62</td>\n",
       "      <td>California</td>\n",
       "      <td>107404.34</td>\n",
       "    </tr>\n",
       "    <tr>\n",
       "      <th>26</th>\n",
       "      <td>75328.87</td>\n",
       "      <td>144135.98</td>\n",
       "      <td>134050.07</td>\n",
       "      <td>Florida</td>\n",
       "      <td>105733.54</td>\n",
       "    </tr>\n",
       "    <tr>\n",
       "      <th>27</th>\n",
       "      <td>72107.60</td>\n",
       "      <td>127864.55</td>\n",
       "      <td>353183.81</td>\n",
       "      <td>New York</td>\n",
       "      <td>105008.31</td>\n",
       "    </tr>\n",
       "    <tr>\n",
       "      <th>28</th>\n",
       "      <td>66051.52</td>\n",
       "      <td>182645.56</td>\n",
       "      <td>118148.20</td>\n",
       "      <td>Florida</td>\n",
       "      <td>103282.38</td>\n",
       "    </tr>\n",
       "    <tr>\n",
       "      <th>29</th>\n",
       "      <td>65605.48</td>\n",
       "      <td>153032.06</td>\n",
       "      <td>107138.38</td>\n",
       "      <td>New York</td>\n",
       "      <td>101004.64</td>\n",
       "    </tr>\n",
       "    <tr>\n",
       "      <th>30</th>\n",
       "      <td>61994.48</td>\n",
       "      <td>115641.28</td>\n",
       "      <td>91131.24</td>\n",
       "      <td>Florida</td>\n",
       "      <td>99937.59</td>\n",
       "    </tr>\n",
       "    <tr>\n",
       "      <th>31</th>\n",
       "      <td>61136.38</td>\n",
       "      <td>152701.92</td>\n",
       "      <td>88218.23</td>\n",
       "      <td>New York</td>\n",
       "      <td>97483.56</td>\n",
       "    </tr>\n",
       "    <tr>\n",
       "      <th>32</th>\n",
       "      <td>63408.86</td>\n",
       "      <td>129219.61</td>\n",
       "      <td>46085.25</td>\n",
       "      <td>California</td>\n",
       "      <td>97427.84</td>\n",
       "    </tr>\n",
       "    <tr>\n",
       "      <th>33</th>\n",
       "      <td>55493.95</td>\n",
       "      <td>103057.49</td>\n",
       "      <td>214634.81</td>\n",
       "      <td>Florida</td>\n",
       "      <td>96778.92</td>\n",
       "    </tr>\n",
       "    <tr>\n",
       "      <th>34</th>\n",
       "      <td>46426.07</td>\n",
       "      <td>157693.92</td>\n",
       "      <td>210797.67</td>\n",
       "      <td>California</td>\n",
       "      <td>96712.80</td>\n",
       "    </tr>\n",
       "    <tr>\n",
       "      <th>35</th>\n",
       "      <td>46014.02</td>\n",
       "      <td>85047.44</td>\n",
       "      <td>205517.64</td>\n",
       "      <td>New York</td>\n",
       "      <td>96479.51</td>\n",
       "    </tr>\n",
       "    <tr>\n",
       "      <th>36</th>\n",
       "      <td>28663.76</td>\n",
       "      <td>127056.21</td>\n",
       "      <td>201126.82</td>\n",
       "      <td>Florida</td>\n",
       "      <td>90708.19</td>\n",
       "    </tr>\n",
       "    <tr>\n",
       "      <th>37</th>\n",
       "      <td>44069.95</td>\n",
       "      <td>51283.14</td>\n",
       "      <td>197029.42</td>\n",
       "      <td>California</td>\n",
       "      <td>89949.14</td>\n",
       "    </tr>\n",
       "    <tr>\n",
       "      <th>38</th>\n",
       "      <td>20229.59</td>\n",
       "      <td>65947.93</td>\n",
       "      <td>185265.10</td>\n",
       "      <td>New York</td>\n",
       "      <td>81229.06</td>\n",
       "    </tr>\n",
       "    <tr>\n",
       "      <th>39</th>\n",
       "      <td>38558.51</td>\n",
       "      <td>82982.09</td>\n",
       "      <td>174999.30</td>\n",
       "      <td>California</td>\n",
       "      <td>81005.76</td>\n",
       "    </tr>\n",
       "    <tr>\n",
       "      <th>40</th>\n",
       "      <td>28754.33</td>\n",
       "      <td>118546.05</td>\n",
       "      <td>172795.67</td>\n",
       "      <td>California</td>\n",
       "      <td>78239.91</td>\n",
       "    </tr>\n",
       "    <tr>\n",
       "      <th>41</th>\n",
       "      <td>27892.92</td>\n",
       "      <td>84710.77</td>\n",
       "      <td>164470.71</td>\n",
       "      <td>Florida</td>\n",
       "      <td>77798.83</td>\n",
       "    </tr>\n",
       "    <tr>\n",
       "      <th>42</th>\n",
       "      <td>23640.93</td>\n",
       "      <td>96189.63</td>\n",
       "      <td>148001.11</td>\n",
       "      <td>California</td>\n",
       "      <td>71498.49</td>\n",
       "    </tr>\n",
       "    <tr>\n",
       "      <th>43</th>\n",
       "      <td>15505.73</td>\n",
       "      <td>127382.30</td>\n",
       "      <td>35534.17</td>\n",
       "      <td>New York</td>\n",
       "      <td>69758.98</td>\n",
       "    </tr>\n",
       "    <tr>\n",
       "      <th>44</th>\n",
       "      <td>22177.74</td>\n",
       "      <td>154806.14</td>\n",
       "      <td>28334.72</td>\n",
       "      <td>California</td>\n",
       "      <td>65200.33</td>\n",
       "    </tr>\n",
       "    <tr>\n",
       "      <th>45</th>\n",
       "      <td>1000.23</td>\n",
       "      <td>124153.04</td>\n",
       "      <td>1903.93</td>\n",
       "      <td>New York</td>\n",
       "      <td>64926.08</td>\n",
       "    </tr>\n",
       "    <tr>\n",
       "      <th>46</th>\n",
       "      <td>1315.46</td>\n",
       "      <td>115816.21</td>\n",
       "      <td>297114.46</td>\n",
       "      <td>Florida</td>\n",
       "      <td>49490.75</td>\n",
       "    </tr>\n",
       "    <tr>\n",
       "      <th>47</th>\n",
       "      <td>0.00</td>\n",
       "      <td>135426.92</td>\n",
       "      <td>0.00</td>\n",
       "      <td>California</td>\n",
       "      <td>42559.73</td>\n",
       "    </tr>\n",
       "    <tr>\n",
       "      <th>48</th>\n",
       "      <td>542.05</td>\n",
       "      <td>51743.15</td>\n",
       "      <td>0.00</td>\n",
       "      <td>New York</td>\n",
       "      <td>35673.41</td>\n",
       "    </tr>\n",
       "    <tr>\n",
       "      <th>49</th>\n",
       "      <td>0.00</td>\n",
       "      <td>116983.80</td>\n",
       "      <td>45173.06</td>\n",
       "      <td>California</td>\n",
       "      <td>14681.40</td>\n",
       "    </tr>\n",
       "  </tbody>\n",
       "</table>\n",
       "</div>"
      ],
      "text/plain": [
       "    R&D Spend  Administration  Marketing Spend       State     Profit\n",
       "0   165349.20       136897.80        471784.10    New York  192261.83\n",
       "1   162597.70       151377.59        443898.53  California  191792.06\n",
       "2   153441.51       101145.55        407934.54     Florida  191050.39\n",
       "3   144372.41       118671.85        383199.62    New York  182901.99\n",
       "4   142107.34        91391.77        366168.42     Florida  166187.94\n",
       "5   131876.90        99814.71        362861.36    New York  156991.12\n",
       "6   134615.46       147198.87        127716.82  California  156122.51\n",
       "7   130298.13       145530.06        323876.68     Florida  155752.60\n",
       "8   120542.52       148718.95        311613.29    New York  152211.77\n",
       "9   123334.88       108679.17        304981.62  California  149759.96\n",
       "10  101913.08       110594.11        229160.95     Florida  146121.95\n",
       "11  100671.96        91790.61        249744.55  California  144259.40\n",
       "12   93863.75       127320.38        249839.44     Florida  141585.52\n",
       "13   91992.39       135495.07        252664.93  California  134307.35\n",
       "14  119943.24       156547.42        256512.92     Florida  132602.65\n",
       "15  114523.61       122616.84        261776.23    New York  129917.04\n",
       "16   78013.11       121597.55        264346.06  California  126992.93\n",
       "17   94657.16       145077.58        282574.31    New York  125370.37\n",
       "18   91749.16       114175.79        294919.57     Florida  124266.90\n",
       "19   86419.70       153514.11             0.00    New York  122776.86\n",
       "20   76253.86       113867.30        298664.47  California  118474.03\n",
       "21   78389.47       153773.43        299737.29    New York  111313.02\n",
       "22   73994.56       122782.75        303319.26     Florida  110352.25\n",
       "23   67532.53       105751.03        304768.73     Florida  108733.99\n",
       "24   77044.01        99281.34        140574.81    New York  108552.04\n",
       "25   64664.71       139553.16        137962.62  California  107404.34\n",
       "26   75328.87       144135.98        134050.07     Florida  105733.54\n",
       "27   72107.60       127864.55        353183.81    New York  105008.31\n",
       "28   66051.52       182645.56        118148.20     Florida  103282.38\n",
       "29   65605.48       153032.06        107138.38    New York  101004.64\n",
       "30   61994.48       115641.28         91131.24     Florida   99937.59\n",
       "31   61136.38       152701.92         88218.23    New York   97483.56\n",
       "32   63408.86       129219.61         46085.25  California   97427.84\n",
       "33   55493.95       103057.49        214634.81     Florida   96778.92\n",
       "34   46426.07       157693.92        210797.67  California   96712.80\n",
       "35   46014.02        85047.44        205517.64    New York   96479.51\n",
       "36   28663.76       127056.21        201126.82     Florida   90708.19\n",
       "37   44069.95        51283.14        197029.42  California   89949.14\n",
       "38   20229.59        65947.93        185265.10    New York   81229.06\n",
       "39   38558.51        82982.09        174999.30  California   81005.76\n",
       "40   28754.33       118546.05        172795.67  California   78239.91\n",
       "41   27892.92        84710.77        164470.71     Florida   77798.83\n",
       "42   23640.93        96189.63        148001.11  California   71498.49\n",
       "43   15505.73       127382.30         35534.17    New York   69758.98\n",
       "44   22177.74       154806.14         28334.72  California   65200.33\n",
       "45    1000.23       124153.04          1903.93    New York   64926.08\n",
       "46    1315.46       115816.21        297114.46     Florida   49490.75\n",
       "47       0.00       135426.92             0.00  California   42559.73\n",
       "48     542.05        51743.15             0.00    New York   35673.41\n",
       "49       0.00       116983.80         45173.06  California   14681.40"
      ]
     },
     "execution_count": 3,
     "metadata": {},
     "output_type": "execute_result"
    }
   ],
   "source": [
    "#import dataset\n",
    "startups = pd.read_csv('50_Startups.csv')\n",
    "startups"
   ]
  },
  {
   "cell_type": "code",
   "execution_count": 4,
   "id": "210ff13f",
   "metadata": {
    "ExecuteTime": {
     "end_time": "2023-03-15T14:34:12.439867Z",
     "start_time": "2023-03-15T14:34:12.420865Z"
    }
   },
   "outputs": [
    {
     "data": {
      "text/plain": [
       "50"
      ]
     },
     "execution_count": 4,
     "metadata": {},
     "output_type": "execute_result"
    }
   ],
   "source": [
    "len(startups)"
   ]
  },
  {
   "cell_type": "code",
   "execution_count": 5,
   "id": "2adb3b1c",
   "metadata": {
    "ExecuteTime": {
     "end_time": "2023-03-15T14:34:16.442534Z",
     "start_time": "2023-03-15T14:34:16.422537Z"
    }
   },
   "outputs": [
    {
     "data": {
      "text/html": [
       "<div>\n",
       "<style scoped>\n",
       "    .dataframe tbody tr th:only-of-type {\n",
       "        vertical-align: middle;\n",
       "    }\n",
       "\n",
       "    .dataframe tbody tr th {\n",
       "        vertical-align: top;\n",
       "    }\n",
       "\n",
       "    .dataframe thead th {\n",
       "        text-align: right;\n",
       "    }\n",
       "</style>\n",
       "<table border=\"1\" class=\"dataframe\">\n",
       "  <thead>\n",
       "    <tr style=\"text-align: right;\">\n",
       "      <th></th>\n",
       "      <th>R&amp;D Spend</th>\n",
       "      <th>Administration</th>\n",
       "      <th>Marketing Spend</th>\n",
       "      <th>State</th>\n",
       "      <th>Profit</th>\n",
       "    </tr>\n",
       "  </thead>\n",
       "  <tbody>\n",
       "    <tr>\n",
       "      <th>0</th>\n",
       "      <td>165349.20</td>\n",
       "      <td>136897.80</td>\n",
       "      <td>471784.10</td>\n",
       "      <td>New York</td>\n",
       "      <td>192261.83</td>\n",
       "    </tr>\n",
       "    <tr>\n",
       "      <th>1</th>\n",
       "      <td>162597.70</td>\n",
       "      <td>151377.59</td>\n",
       "      <td>443898.53</td>\n",
       "      <td>California</td>\n",
       "      <td>191792.06</td>\n",
       "    </tr>\n",
       "    <tr>\n",
       "      <th>2</th>\n",
       "      <td>153441.51</td>\n",
       "      <td>101145.55</td>\n",
       "      <td>407934.54</td>\n",
       "      <td>Florida</td>\n",
       "      <td>191050.39</td>\n",
       "    </tr>\n",
       "    <tr>\n",
       "      <th>3</th>\n",
       "      <td>144372.41</td>\n",
       "      <td>118671.85</td>\n",
       "      <td>383199.62</td>\n",
       "      <td>New York</td>\n",
       "      <td>182901.99</td>\n",
       "    </tr>\n",
       "    <tr>\n",
       "      <th>4</th>\n",
       "      <td>142107.34</td>\n",
       "      <td>91391.77</td>\n",
       "      <td>366168.42</td>\n",
       "      <td>Florida</td>\n",
       "      <td>166187.94</td>\n",
       "    </tr>\n",
       "  </tbody>\n",
       "</table>\n",
       "</div>"
      ],
      "text/plain": [
       "   R&D Spend  Administration  Marketing Spend       State     Profit\n",
       "0  165349.20       136897.80        471784.10    New York  192261.83\n",
       "1  162597.70       151377.59        443898.53  California  191792.06\n",
       "2  153441.51       101145.55        407934.54     Florida  191050.39\n",
       "3  144372.41       118671.85        383199.62    New York  182901.99\n",
       "4  142107.34        91391.77        366168.42     Florida  166187.94"
      ]
     },
     "execution_count": 5,
     "metadata": {},
     "output_type": "execute_result"
    }
   ],
   "source": [
    "startups.head()"
   ]
  },
  {
   "cell_type": "code",
   "execution_count": 6,
   "id": "510ef8fe",
   "metadata": {
    "ExecuteTime": {
     "end_time": "2023-03-15T14:34:21.542253Z",
     "start_time": "2023-03-15T14:34:21.531248Z"
    }
   },
   "outputs": [
    {
     "data": {
      "text/plain": [
       "(50, 5)"
      ]
     },
     "execution_count": 6,
     "metadata": {},
     "output_type": "execute_result"
    }
   ],
   "source": [
    "startups.shape"
   ]
  },
  {
   "cell_type": "code",
   "execution_count": 7,
   "id": "ebf31b49",
   "metadata": {
    "ExecuteTime": {
     "end_time": "2023-03-15T14:34:25.540133Z",
     "start_time": "2023-03-15T14:34:25.524132Z"
    }
   },
   "outputs": [],
   "source": [
    "#graphical representation"
   ]
  },
  {
   "cell_type": "code",
   "execution_count": 8,
   "id": "0f1b99d1",
   "metadata": {
    "ExecuteTime": {
     "end_time": "2023-03-15T14:34:29.993793Z",
     "start_time": "2023-03-15T14:34:29.799818Z"
    }
   },
   "outputs": [
    {
     "data": {
      "image/png": "[encoded data removed]",
      "text/plain": [
       "<Figure size 640x480 with 1 Axes>"
      ]
     },
     "metadata": {},
     "output_type": "display_data"
    }
   ],
   "source": [
    "plt.scatter(startups['Marketing Spend'], startups['Profit'], alpha=0.5)\n",
    "plt.title('Scatter plot of Profit with Marketing Spend')\n",
    "plt.xlabel('Marketing Spend')\n",
    "plt.ylabel('Profit')\n",
    "plt.show()"
   ]
  },
  {
   "cell_type": "code",
   "execution_count": 10,
   "id": "f9fccc04",
   "metadata": {
    "ExecuteTime": {
     "end_time": "2023-03-15T14:34:41.030005Z",
     "start_time": "2023-03-15T14:34:40.898083Z"
    }
   },
   "outputs": [
    {
     "data": {
      "image/png": "[encoded data removed]",
      "text/plain": [
       "<Figure size 640x480 with 1 Axes>"
      ]
     },
     "metadata": {},
     "output_type": "display_data"
    }
   ],
   "source": [
    "plt.scatter(startups['R&D Spend'], startups['Profit'], alpha=0.5)\n",
    "plt.title('Scatter plot of Profit with R&D Spend')\n",
    "plt.xlabel('R&D Spend')\n",
    "plt.ylabel('Profit')\n",
    "plt.show()"
   ]
  },
  {
   "cell_type": "code",
   "execution_count": 11,
   "id": "3391c78f",
   "metadata": {
    "ExecuteTime": {
     "end_time": "2023-03-15T14:34:46.549753Z",
     "start_time": "2023-03-15T14:34:46.410680Z"
    }
   },
   "outputs": [
    {
     "data": {
      "image/png": "[encoded data removed]",
      "text/plain": [
       "<Figure size 640x480 with 1 Axes>"
      ]
     },
     "metadata": {},
     "output_type": "display_data"
    }
   ],
   "source": [
    "plt.scatter(startups['Administration'], startups['Profit'], alpha=0.5)\n",
    "plt.title('Scatter plot of Profit with Administration')\n",
    "plt.xlabel('Administration')\n",
    "plt.ylabel('Profit')\n",
    "plt.show()"
   ]
  },
  {
   "cell_type": "code",
   "execution_count": 12,
   "id": "a597c5b8",
   "metadata": {
    "ExecuteTime": {
     "end_time": "2023-03-15T14:34:51.122872Z",
     "start_time": "2023-03-15T14:34:51.115863Z"
    }
   },
   "outputs": [],
   "source": [
    "#create figure object"
   ]
  },
  {
   "cell_type": "code",
   "execution_count": 13,
   "id": "5273d469",
   "metadata": {
    "ExecuteTime": {
     "end_time": "2023-03-15T14:34:56.630275Z",
     "start_time": "2023-03-15T14:34:56.475606Z"
    }
   },
   "outputs": [
    {
     "data": {
      "image/png": "[encoded data removed]",
      "text/plain": [
       "<Figure size 1200x600 with 1 Axes>"
      ]
     },
     "metadata": {},
     "output_type": "display_data"
    }
   ],
   "source": [
    "ax=startups.groupby(['State'])['Profit'].mean().plot.bar(figsize=(12,6), fontsize=12)"
   ]
  },
  {
   "cell_type": "code",
   "execution_count": 14,
   "id": "37951f0f",
   "metadata": {
    "ExecuteTime": {
     "end_time": "2023-03-15T14:35:05.569145Z",
     "start_time": "2023-03-15T14:35:03.410028Z"
    }
   },
   "outputs": [
    {
     "data": {
      "image/png": "[encoded data removed]",
      "text/plain": [
       "<Figure size 1000x1000 with 20 Axes>"
      ]
     },
     "metadata": {},
     "output_type": "display_data"
    }
   ],
   "source": [
    "ax=sns.pairplot(startups)"
   ]
  },
  {
   "cell_type": "code",
   "execution_count": 16,
   "id": "b94ab6c3",
   "metadata": {
    "ExecuteTime": {
     "end_time": "2023-03-15T14:35:22.013408Z",
     "start_time": "2023-03-15T14:35:21.998420Z"
    }
   },
   "outputs": [
    {
     "data": {
      "text/plain": [
       "New York      17\n",
       "California    17\n",
       "Florida       16\n",
       "Name: State, dtype: int64"
      ]
     },
     "execution_count": 16,
     "metadata": {},
     "output_type": "execute_result"
    }
   ],
   "source": [
    "startups.State.value_counts()"
   ]
  },
  {
   "cell_type": "code",
   "execution_count": 17,
   "id": "a02536af",
   "metadata": {
    "ExecuteTime": {
     "end_time": "2023-03-15T14:35:27.848524Z",
     "start_time": "2023-03-15T14:35:27.838525Z"
    }
   },
   "outputs": [],
   "source": [
    "#Create dummy variable for States"
   ]
  },
  {
   "cell_type": "code",
   "execution_count": 18,
   "id": "0502df46",
   "metadata": {
    "ExecuteTime": {
     "end_time": "2023-03-15T14:35:32.607490Z",
     "start_time": "2023-03-15T14:35:32.595501Z"
    }
   },
   "outputs": [],
   "source": [
    "startups['New York_State']= np.where(startups['State']=='New York',1,0)"
   ]
  },
  {
   "cell_type": "code",
   "execution_count": 19,
   "id": "a454447a",
   "metadata": {
    "ExecuteTime": {
     "end_time": "2023-03-15T14:35:37.908282Z",
     "start_time": "2023-03-15T14:35:37.888276Z"
    }
   },
   "outputs": [],
   "source": [
    "startups['California_State']= np.where(startups['State']=='California',1,0)"
   ]
  },
  {
   "cell_type": "code",
   "execution_count": 20,
   "id": "296a33d0",
   "metadata": {
    "ExecuteTime": {
     "end_time": "2023-03-15T14:35:44.076307Z",
     "start_time": "2023-03-15T14:35:44.065311Z"
    }
   },
   "outputs": [],
   "source": [
    "startups['Florida_State']= np.where(startups['State']=='Florida',1,0)"
   ]
  },
  {
   "cell_type": "code",
   "execution_count": 21,
   "id": "9fc98433",
   "metadata": {
    "ExecuteTime": {
     "end_time": "2023-03-15T14:35:48.565271Z",
     "start_time": "2023-03-15T14:35:48.556273Z"
    }
   },
   "outputs": [],
   "source": [
    "#drop original coloumn states from dataset"
   ]
  },
  {
   "cell_type": "code",
   "execution_count": 22,
   "id": "6ea9d013",
   "metadata": {
    "ExecuteTime": {
     "end_time": "2023-03-15T14:35:53.397037Z",
     "start_time": "2023-03-15T14:35:53.374036Z"
    }
   },
   "outputs": [],
   "source": [
    "startups.drop(columns=['State'], axis=1, inplace=True)"
   ]
  },
  {
   "cell_type": "code",
   "execution_count": 23,
   "id": "67b14623",
   "metadata": {
    "ExecuteTime": {
     "end_time": "2023-03-15T14:35:59.727538Z",
     "start_time": "2023-03-15T14:35:59.711536Z"
    }
   },
   "outputs": [
    {
     "data": {
      "text/html": [
       "<div>\n",
       "<style scoped>\n",
       "    .dataframe tbody tr th:only-of-type {\n",
       "        vertical-align: middle;\n",
       "    }\n",
       "\n",
       "    .dataframe tbody tr th {\n",
       "        vertical-align: top;\n",
       "    }\n",
       "\n",
       "    .dataframe thead th {\n",
       "        text-align: right;\n",
       "    }\n",
       "</style>\n",
       "<table border=\"1\" class=\"dataframe\">\n",
       "  <thead>\n",
       "    <tr style=\"text-align: right;\">\n",
       "      <th></th>\n",
       "      <th>R&amp;D Spend</th>\n",
       "      <th>Administration</th>\n",
       "      <th>Marketing Spend</th>\n",
       "      <th>Profit</th>\n",
       "      <th>New York_State</th>\n",
       "      <th>California_State</th>\n",
       "      <th>Florida_State</th>\n",
       "    </tr>\n",
       "  </thead>\n",
       "  <tbody>\n",
       "    <tr>\n",
       "      <th>0</th>\n",
       "      <td>165349.20</td>\n",
       "      <td>136897.80</td>\n",
       "      <td>471784.10</td>\n",
       "      <td>192261.83</td>\n",
       "      <td>1</td>\n",
       "      <td>0</td>\n",
       "      <td>0</td>\n",
       "    </tr>\n",
       "    <tr>\n",
       "      <th>1</th>\n",
       "      <td>162597.70</td>\n",
       "      <td>151377.59</td>\n",
       "      <td>443898.53</td>\n",
       "      <td>191792.06</td>\n",
       "      <td>0</td>\n",
       "      <td>1</td>\n",
       "      <td>0</td>\n",
       "    </tr>\n",
       "    <tr>\n",
       "      <th>2</th>\n",
       "      <td>153441.51</td>\n",
       "      <td>101145.55</td>\n",
       "      <td>407934.54</td>\n",
       "      <td>191050.39</td>\n",
       "      <td>0</td>\n",
       "      <td>0</td>\n",
       "      <td>1</td>\n",
       "    </tr>\n",
       "    <tr>\n",
       "      <th>3</th>\n",
       "      <td>144372.41</td>\n",
       "      <td>118671.85</td>\n",
       "      <td>383199.62</td>\n",
       "      <td>182901.99</td>\n",
       "      <td>1</td>\n",
       "      <td>0</td>\n",
       "      <td>0</td>\n",
       "    </tr>\n",
       "    <tr>\n",
       "      <th>4</th>\n",
       "      <td>142107.34</td>\n",
       "      <td>91391.77</td>\n",
       "      <td>366168.42</td>\n",
       "      <td>166187.94</td>\n",
       "      <td>0</td>\n",
       "      <td>0</td>\n",
       "      <td>1</td>\n",
       "    </tr>\n",
       "  </tbody>\n",
       "</table>\n",
       "</div>"
      ],
      "text/plain": [
       "   R&D Spend  Administration  Marketing Spend     Profit  New York_State  \\\n",
       "0  165349.20       136897.80        471784.10  192261.83               1   \n",
       "1  162597.70       151377.59        443898.53  191792.06               0   \n",
       "2  153441.51       101145.55        407934.54  191050.39               0   \n",
       "3  144372.41       118671.85        383199.62  182901.99               1   \n",
       "4  142107.34        91391.77        366168.42  166187.94               0   \n",
       "\n",
       "   California_State  Florida_State  \n",
       "0                 0              0  \n",
       "1                 1              0  \n",
       "2                 0              1  \n",
       "3                 0              0  \n",
       "4                 0              1  "
      ]
     },
     "execution_count": 23,
     "metadata": {},
     "output_type": "execute_result"
    }
   ],
   "source": [
    "startups.head()"
   ]
  },
  {
   "cell_type": "code",
   "execution_count": 24,
   "id": "b0ae1b25",
   "metadata": {
    "ExecuteTime": {
     "end_time": "2023-03-15T14:36:04.825694Z",
     "start_time": "2023-03-15T14:36:04.806704Z"
    }
   },
   "outputs": [],
   "source": [
    "dependent_variable='Profit'"
   ]
  },
  {
   "cell_type": "code",
   "execution_count": 25,
   "id": "488948e3",
   "metadata": {
    "ExecuteTime": {
     "end_time": "2023-03-15T14:36:16.181747Z",
     "start_time": "2023-03-15T14:36:16.166746Z"
    }
   },
   "outputs": [],
   "source": [
    "#create list of independent variables"
   ]
  },
  {
   "cell_type": "code",
   "execution_count": 26,
   "id": "d762b5b6",
   "metadata": {
    "ExecuteTime": {
     "end_time": "2023-03-15T14:36:23.726191Z",
     "start_time": "2023-03-15T14:36:23.720188Z"
    }
   },
   "outputs": [],
   "source": [
    "independent_variables=startups.columns.tolist()"
   ]
  },
  {
   "cell_type": "code",
   "execution_count": 27,
   "id": "a2a4fdfb",
   "metadata": {
    "ExecuteTime": {
     "end_time": "2023-03-15T14:36:28.974421Z",
     "start_time": "2023-03-15T14:36:28.965416Z"
    }
   },
   "outputs": [],
   "source": [
    "independent_variables.remove(dependent_variable)"
   ]
  },
  {
   "cell_type": "code",
   "execution_count": 28,
   "id": "7fc20efa",
   "metadata": {
    "ExecuteTime": {
     "end_time": "2023-03-15T14:36:33.907816Z",
     "start_time": "2023-03-15T14:36:33.891803Z"
    }
   },
   "outputs": [
    {
     "data": {
      "text/plain": [
       "['R&D Spend',\n",
       " 'Administration',\n",
       " 'Marketing Spend',\n",
       " 'New York_State',\n",
       " 'California_State',\n",
       " 'Florida_State']"
      ]
     },
     "execution_count": 28,
     "metadata": {},
     "output_type": "execute_result"
    }
   ],
   "source": [
    "independent_variables"
   ]
  },
  {
   "cell_type": "code",
   "execution_count": 29,
   "id": "5775ce14",
   "metadata": {
    "ExecuteTime": {
     "end_time": "2023-03-15T14:36:38.112816Z",
     "start_time": "2023-03-15T14:36:38.108825Z"
    }
   },
   "outputs": [],
   "source": [
    "#create data of independent variables"
   ]
  },
  {
   "cell_type": "code",
   "execution_count": 30,
   "id": "b4c6bc88",
   "metadata": {
    "ExecuteTime": {
     "end_time": "2023-03-15T14:36:44.231923Z",
     "start_time": "2023-03-15T14:36:44.212907Z"
    }
   },
   "outputs": [
    {
     "data": {
      "text/plain": [
       "array([[1.6534920e+05, 1.3689780e+05, 4.7178410e+05, 1.0000000e+00,\n",
       "        0.0000000e+00, 0.0000000e+00],\n",
       "       [1.6259770e+05, 1.5137759e+05, 4.4389853e+05, 0.0000000e+00,\n",
       "        1.0000000e+00, 0.0000000e+00],\n",
       "       [1.5344151e+05, 1.0114555e+05, 4.0793454e+05, 0.0000000e+00,\n",
       "        0.0000000e+00, 1.0000000e+00],\n",
       "       [1.4437241e+05, 1.1867185e+05, 3.8319962e+05, 1.0000000e+00,\n",
       "        0.0000000e+00, 0.0000000e+00],\n",
       "       [1.4210734e+05, 9.1391770e+04, 3.6616842e+05, 0.0000000e+00,\n",
       "        0.0000000e+00, 1.0000000e+00],\n",
       "       [1.3187690e+05, 9.9814710e+04, 3.6286136e+05, 1.0000000e+00,\n",
       "        0.0000000e+00, 0.0000000e+00],\n",
       "       [1.3461546e+05, 1.4719887e+05, 1.2771682e+05, 0.0000000e+00,\n",
       "        1.0000000e+00, 0.0000000e+00],\n",
       "       [1.3029813e+05, 1.4553006e+05, 3.2387668e+05, 0.0000000e+00,\n",
       "        0.0000000e+00, 1.0000000e+00],\n",
       "       [1.2054252e+05, 1.4871895e+05, 3.1161329e+05, 1.0000000e+00,\n",
       "        0.0000000e+00, 0.0000000e+00],\n",
       "       [1.2333488e+05, 1.0867917e+05, 3.0498162e+05, 0.0000000e+00,\n",
       "        1.0000000e+00, 0.0000000e+00],\n",
       "       [1.0191308e+05, 1.1059411e+05, 2.2916095e+05, 0.0000000e+00,\n",
       "        0.0000000e+00, 1.0000000e+00],\n",
       "       [1.0067196e+05, 9.1790610e+04, 2.4974455e+05, 0.0000000e+00,\n",
       "        1.0000000e+00, 0.0000000e+00],\n",
       "       [9.3863750e+04, 1.2732038e+05, 2.4983944e+05, 0.0000000e+00,\n",
       "        0.0000000e+00, 1.0000000e+00],\n",
       "       [9.1992390e+04, 1.3549507e+05, 2.5266493e+05, 0.0000000e+00,\n",
       "        1.0000000e+00, 0.0000000e+00],\n",
       "       [1.1994324e+05, 1.5654742e+05, 2.5651292e+05, 0.0000000e+00,\n",
       "        0.0000000e+00, 1.0000000e+00],\n",
       "       [1.1452361e+05, 1.2261684e+05, 2.6177623e+05, 1.0000000e+00,\n",
       "        0.0000000e+00, 0.0000000e+00],\n",
       "       [7.8013110e+04, 1.2159755e+05, 2.6434606e+05, 0.0000000e+00,\n",
       "        1.0000000e+00, 0.0000000e+00],\n",
       "       [9.4657160e+04, 1.4507758e+05, 2.8257431e+05, 1.0000000e+00,\n",
       "        0.0000000e+00, 0.0000000e+00],\n",
       "       [9.1749160e+04, 1.1417579e+05, 2.9491957e+05, 0.0000000e+00,\n",
       "        0.0000000e+00, 1.0000000e+00],\n",
       "       [8.6419700e+04, 1.5351411e+05, 0.0000000e+00, 1.0000000e+00,\n",
       "        0.0000000e+00, 0.0000000e+00],\n",
       "       [7.6253860e+04, 1.1386730e+05, 2.9866447e+05, 0.0000000e+00,\n",
       "        1.0000000e+00, 0.0000000e+00],\n",
       "       [7.8389470e+04, 1.5377343e+05, 2.9973729e+05, 1.0000000e+00,\n",
       "        0.0000000e+00, 0.0000000e+00],\n",
       "       [7.3994560e+04, 1.2278275e+05, 3.0331926e+05, 0.0000000e+00,\n",
       "        0.0000000e+00, 1.0000000e+00],\n",
       "       [6.7532530e+04, 1.0575103e+05, 3.0476873e+05, 0.0000000e+00,\n",
       "        0.0000000e+00, 1.0000000e+00],\n",
       "       [7.7044010e+04, 9.9281340e+04, 1.4057481e+05, 1.0000000e+00,\n",
       "        0.0000000e+00, 0.0000000e+00],\n",
       "       [6.4664710e+04, 1.3955316e+05, 1.3796262e+05, 0.0000000e+00,\n",
       "        1.0000000e+00, 0.0000000e+00],\n",
       "       [7.5328870e+04, 1.4413598e+05, 1.3405007e+05, 0.0000000e+00,\n",
       "        0.0000000e+00, 1.0000000e+00],\n",
       "       [7.2107600e+04, 1.2786455e+05, 3.5318381e+05, 1.0000000e+00,\n",
       "        0.0000000e+00, 0.0000000e+00],\n",
       "       [6.6051520e+04, 1.8264556e+05, 1.1814820e+05, 0.0000000e+00,\n",
       "        0.0000000e+00, 1.0000000e+00],\n",
       "       [6.5605480e+04, 1.5303206e+05, 1.0713838e+05, 1.0000000e+00,\n",
       "        0.0000000e+00, 0.0000000e+00],\n",
       "       [6.1994480e+04, 1.1564128e+05, 9.1131240e+04, 0.0000000e+00,\n",
       "        0.0000000e+00, 1.0000000e+00],\n",
       "       [6.1136380e+04, 1.5270192e+05, 8.8218230e+04, 1.0000000e+00,\n",
       "        0.0000000e+00, 0.0000000e+00],\n",
       "       [6.3408860e+04, 1.2921961e+05, 4.6085250e+04, 0.0000000e+00,\n",
       "        1.0000000e+00, 0.0000000e+00],\n",
       "       [5.5493950e+04, 1.0305749e+05, 2.1463481e+05, 0.0000000e+00,\n",
       "        0.0000000e+00, 1.0000000e+00],\n",
       "       [4.6426070e+04, 1.5769392e+05, 2.1079767e+05, 0.0000000e+00,\n",
       "        1.0000000e+00, 0.0000000e+00],\n",
       "       [4.6014020e+04, 8.5047440e+04, 2.0551764e+05, 1.0000000e+00,\n",
       "        0.0000000e+00, 0.0000000e+00],\n",
       "       [2.8663760e+04, 1.2705621e+05, 2.0112682e+05, 0.0000000e+00,\n",
       "        0.0000000e+00, 1.0000000e+00],\n",
       "       [4.4069950e+04, 5.1283140e+04, 1.9702942e+05, 0.0000000e+00,\n",
       "        1.0000000e+00, 0.0000000e+00],\n",
       "       [2.0229590e+04, 6.5947930e+04, 1.8526510e+05, 1.0000000e+00,\n",
       "        0.0000000e+00, 0.0000000e+00],\n",
       "       [3.8558510e+04, 8.2982090e+04, 1.7499930e+05, 0.0000000e+00,\n",
       "        1.0000000e+00, 0.0000000e+00],\n",
       "       [2.8754330e+04, 1.1854605e+05, 1.7279567e+05, 0.0000000e+00,\n",
       "        1.0000000e+00, 0.0000000e+00],\n",
       "       [2.7892920e+04, 8.4710770e+04, 1.6447071e+05, 0.0000000e+00,\n",
       "        0.0000000e+00, 1.0000000e+00],\n",
       "       [2.3640930e+04, 9.6189630e+04, 1.4800111e+05, 0.0000000e+00,\n",
       "        1.0000000e+00, 0.0000000e+00],\n",
       "       [1.5505730e+04, 1.2738230e+05, 3.5534170e+04, 1.0000000e+00,\n",
       "        0.0000000e+00, 0.0000000e+00],\n",
       "       [2.2177740e+04, 1.5480614e+05, 2.8334720e+04, 0.0000000e+00,\n",
       "        1.0000000e+00, 0.0000000e+00],\n",
       "       [1.0002300e+03, 1.2415304e+05, 1.9039300e+03, 1.0000000e+00,\n",
       "        0.0000000e+00, 0.0000000e+00],\n",
       "       [1.3154600e+03, 1.1581621e+05, 2.9711446e+05, 0.0000000e+00,\n",
       "        0.0000000e+00, 1.0000000e+00],\n",
       "       [0.0000000e+00, 1.3542692e+05, 0.0000000e+00, 0.0000000e+00,\n",
       "        1.0000000e+00, 0.0000000e+00],\n",
       "       [5.4205000e+02, 5.1743150e+04, 0.0000000e+00, 1.0000000e+00,\n",
       "        0.0000000e+00, 0.0000000e+00],\n",
       "       [0.0000000e+00, 1.1698380e+05, 4.5173060e+04, 0.0000000e+00,\n",
       "        1.0000000e+00, 0.0000000e+00]])"
      ]
     },
     "execution_count": 30,
     "metadata": {},
     "output_type": "execute_result"
    }
   ],
   "source": [
    "X=startups[independent_variables].values\n",
    "X"
   ]
  },
  {
   "cell_type": "code",
   "execution_count": 31,
   "id": "e7155918",
   "metadata": {
    "ExecuteTime": {
     "end_time": "2023-03-15T14:36:53.229928Z",
     "start_time": "2023-03-15T14:36:53.224931Z"
    }
   },
   "outputs": [],
   "source": [
    "# Create the Dependent Variables Data"
   ]
  },
  {
   "cell_type": "code",
   "execution_count": 32,
   "id": "b9792882",
   "metadata": {
    "ExecuteTime": {
     "end_time": "2023-03-15T14:36:58.767828Z",
     "start_time": "2023-03-15T14:36:58.749815Z"
    }
   },
   "outputs": [
    {
     "data": {
      "text/plain": [
       "array([192261.83, 191792.06, 191050.39, 182901.99, 166187.94, 156991.12,\n",
       "       156122.51, 155752.6 , 152211.77, 149759.96, 146121.95, 144259.4 ,\n",
       "       141585.52, 134307.35, 132602.65, 129917.04, 126992.93, 125370.37,\n",
       "       124266.9 , 122776.86, 118474.03, 111313.02, 110352.25, 108733.99,\n",
       "       108552.04, 107404.34, 105733.54, 105008.31, 103282.38, 101004.64,\n",
       "        99937.59,  97483.56,  97427.84,  96778.92,  96712.8 ,  96479.51,\n",
       "        90708.19,  89949.14,  81229.06,  81005.76,  78239.91,  77798.83,\n",
       "        71498.49,  69758.98,  65200.33,  64926.08,  49490.75,  42559.73,\n",
       "        35673.41,  14681.4 ])"
      ]
     },
     "execution_count": 32,
     "metadata": {},
     "output_type": "execute_result"
    }
   ],
   "source": [
    "y=startups[dependent_variable].values\n",
    "y"
   ]
  },
  {
   "cell_type": "code",
   "execution_count": 33,
   "id": "b5310e85",
   "metadata": {
    "ExecuteTime": {
     "end_time": "2023-03-15T14:37:05.821078Z",
     "start_time": "2023-03-15T14:37:05.811079Z"
    }
   },
   "outputs": [],
   "source": [
    "#Split data into training set and test set"
   ]
  },
  {
   "cell_type": "code",
   "execution_count": 34,
   "id": "ab942b57",
   "metadata": {
    "ExecuteTime": {
     "end_time": "2023-03-15T14:37:11.165814Z",
     "start_time": "2023-03-15T14:37:11.110756Z"
    }
   },
   "outputs": [],
   "source": [
    "X_train, X_test, y_train, y_test = train_test_split(X, y, test_size = 0.2, random_state = 0)"
   ]
  },
  {
   "cell_type": "code",
   "execution_count": 35,
   "id": "cff21cdb",
   "metadata": {
    "ExecuteTime": {
     "end_time": "2023-03-15T14:37:23.330455Z",
     "start_time": "2023-03-15T14:37:23.325442Z"
    }
   },
   "outputs": [],
   "source": [
    "#transform data"
   ]
  },
  {
   "cell_type": "code",
   "execution_count": 36,
   "id": "790a8c22",
   "metadata": {
    "ExecuteTime": {
     "end_time": "2023-03-15T14:37:27.217033Z",
     "start_time": "2023-03-15T14:37:27.211033Z"
    }
   },
   "outputs": [],
   "source": [
    "scaler=MinMaxScaler()"
   ]
  },
  {
   "cell_type": "code",
   "execution_count": 37,
   "id": "63eedf98",
   "metadata": {
    "ExecuteTime": {
     "end_time": "2023-03-15T14:37:32.213044Z",
     "start_time": "2023-03-15T14:37:32.207044Z"
    }
   },
   "outputs": [],
   "source": [
    "X_train=scaler.fit_transform(X_train)"
   ]
  },
  {
   "cell_type": "code",
   "execution_count": 38,
   "id": "28991f2f",
   "metadata": {
    "ExecuteTime": {
     "end_time": "2023-03-15T14:37:37.843398Z",
     "start_time": "2023-03-15T14:37:37.838407Z"
    }
   },
   "outputs": [],
   "source": [
    "X_test=scaler.transform(X_test)"
   ]
  },
  {
   "cell_type": "code",
   "execution_count": 39,
   "id": "1cce84ce",
   "metadata": {
    "ExecuteTime": {
     "end_time": "2023-03-15T14:37:45.897604Z",
     "start_time": "2023-03-15T14:37:45.888603Z"
    }
   },
   "outputs": [],
   "source": [
    "# Training the Multiple Linear Regression model on the Training set"
   ]
  },
  {
   "cell_type": "code",
   "execution_count": 40,
   "id": "b05988ce",
   "metadata": {
    "ExecuteTime": {
     "end_time": "2023-03-15T14:37:50.256327Z",
     "start_time": "2023-03-15T14:37:50.004517Z"
    }
   },
   "outputs": [
    {
     "data": {
      "text/plain": [
       "LinearRegression()"
      ]
     },
     "execution_count": 40,
     "metadata": {},
     "output_type": "execute_result"
    }
   ],
   "source": [
    "from sklearn.linear_model import LinearRegression\n",
    "regressor = LinearRegression()\n",
    "regressor.fit(X_train, y_train)\n"
   ]
  },
  {
   "cell_type": "code",
   "execution_count": 41,
   "id": "1c9f4de7",
   "metadata": {
    "ExecuteTime": {
     "end_time": "2023-03-15T14:37:55.929130Z",
     "start_time": "2023-03-15T14:37:55.917132Z"
    }
   },
   "outputs": [],
   "source": [
    "# Predicting the Test set results"
   ]
  },
  {
   "cell_type": "code",
   "execution_count": 42,
   "id": "dd542990",
   "metadata": {
    "ExecuteTime": {
     "end_time": "2023-03-15T14:38:03.174914Z",
     "start_time": "2023-03-15T14:38:03.157913Z"
    }
   },
   "outputs": [],
   "source": [
    "y_pred = regressor.predict(X_test)"
   ]
  },
  {
   "cell_type": "code",
   "execution_count": 43,
   "id": "49389bd0",
   "metadata": {
    "ExecuteTime": {
     "end_time": "2023-03-15T14:38:08.977928Z",
     "start_time": "2023-03-15T14:38:08.959930Z"
    }
   },
   "outputs": [
    {
     "data": {
      "text/plain": [
       "9137.990152794959"
      ]
     },
     "execution_count": 43,
     "metadata": {},
     "output_type": "execute_result"
    }
   ],
   "source": [
    "math.sqrt(mean_squared_error(y_test, y_pred))"
   ]
  },
  {
   "cell_type": "code",
   "execution_count": 44,
   "id": "e234e735",
   "metadata": {
    "ExecuteTime": {
     "end_time": "2023-03-15T14:38:15.946551Z",
     "start_time": "2023-03-15T14:38:15.933551Z"
    }
   },
   "outputs": [
    {
     "data": {
      "text/plain": [
       "0.9347068473282423"
      ]
     },
     "execution_count": 44,
     "metadata": {},
     "output_type": "execute_result"
    }
   ],
   "source": [
    "r2_score(y_test, y_pred)"
   ]
  },
  {
   "cell_type": "code",
   "execution_count": 45,
   "id": "40affdbf",
   "metadata": {
    "ExecuteTime": {
     "end_time": "2023-03-15T14:38:24.297028Z",
     "start_time": "2023-03-15T14:38:24.288016Z"
    }
   },
   "outputs": [],
   "source": [
    "#Done"
   ]
  },
  {
   "cell_type": "code",
   "execution_count": null,
   "id": "febc5785",
   "metadata": {},
   "outputs": [],
   "source": []
  }
 ],
 "metadata": {
  "kernelspec": {
   "display_name": "Python 3 (ipykernel)",
   "language": "python",
   "name": "python3"
  },
  "language_info": {
   "codemirror_mode": {
    "name": "ipython",
    "version": 3
   },
   "file_extension": ".py",
   "mimetype": "text/x-python",
   "name": "python",
   "nbconvert_exporter": "python",
   "pygments_lexer": "ipython3",
   "version": "3.9.13"
  }
 },
 "nbformat": 4,
 "nbformat_minor": 5
}
