{
 "cells": [
  {
   "cell_type": "code",
   "execution_count": 1,
   "id": "94393f80",
   "metadata": {
    "ExecuteTime": {
     "end_time": "2023-01-25T06:54:04.684002Z",
     "start_time": "2023-01-25T06:54:04.661061Z"
    }
   },
   "outputs": [],
   "source": [
    "d=\"It's notebook\""
   ]
  },
  {
   "cell_type": "markdown",
   "id": "591d5fa1",
   "metadata": {},
   "source": [
    "Data Types\n"
   ]
  },
  {
   "cell_type": "code",
   "execution_count": 2,
   "id": "6aed7169",
   "metadata": {
    "ExecuteTime": {
     "end_time": "2023-01-25T06:54:04.731626Z",
     "start_time": "2023-01-25T06:54:04.688001Z"
    }
   },
   "outputs": [
    {
     "data": {
      "text/plain": [
       "3"
      ]
     },
     "execution_count": 2,
     "metadata": {},
     "output_type": "execute_result"
    }
   ],
   "source": [
    "d.count('o')"
   ]
  },
  {
   "cell_type": "code",
   "execution_count": 3,
   "id": "9d2010aa",
   "metadata": {
    "ExecuteTime": {
     "end_time": "2023-01-25T06:54:04.762503Z",
     "start_time": "2023-01-25T06:54:04.733369Z"
    }
   },
   "outputs": [
    {
     "data": {
      "text/plain": [
       "\"I-t-'-s- -n-o-t-e-b-o-o-k\""
      ]
     },
     "execution_count": 3,
     "metadata": {},
     "output_type": "execute_result"
    }
   ],
   "source": [
    "'-'.join(d)"
   ]
  },
  {
   "cell_type": "code",
   "execution_count": 4,
   "id": "2b1e15cf",
   "metadata": {
    "ExecuteTime": {
     "end_time": "2023-01-25T06:54:04.793386Z",
     "start_time": "2023-01-25T06:54:04.766512Z"
    }
   },
   "outputs": [
    {
     "data": {
      "text/plain": [
       "\"It's notebook\""
      ]
     },
     "execution_count": 4,
     "metadata": {},
     "output_type": "execute_result"
    }
   ],
   "source": [
    "d"
   ]
  },
  {
   "cell_type": "code",
   "execution_count": 5,
   "id": "b081e583",
   "metadata": {
    "ExecuteTime": {
     "end_time": "2023-01-25T06:54:04.824229Z",
     "start_time": "2023-01-25T06:54:04.795302Z"
    }
   },
   "outputs": [],
   "source": [
    "d=d.replace(' ','*')"
   ]
  },
  {
   "cell_type": "code",
   "execution_count": 6,
   "id": "de246d6f",
   "metadata": {
    "ExecuteTime": {
     "end_time": "2023-01-25T06:54:04.949950Z",
     "start_time": "2023-01-25T06:54:04.826204Z"
    }
   },
   "outputs": [
    {
     "data": {
      "text/plain": [
       "\"It's*notebook\""
      ]
     },
     "execution_count": 6,
     "metadata": {},
     "output_type": "execute_result"
    }
   ],
   "source": [
    "d"
   ]
  },
  {
   "cell_type": "code",
   "execution_count": 7,
   "id": "641d9eed",
   "metadata": {
    "ExecuteTime": {
     "end_time": "2023-01-25T06:54:04.981457Z",
     "start_time": "2023-01-25T06:54:04.952950Z"
    }
   },
   "outputs": [],
   "source": [
    "d=d.replace(\"It's\",'Our')"
   ]
  },
  {
   "cell_type": "code",
   "execution_count": 8,
   "id": "368cc6b2",
   "metadata": {
    "ExecuteTime": {
     "end_time": "2023-01-25T06:54:05.029052Z",
     "start_time": "2023-01-25T06:54:04.982458Z"
    }
   },
   "outputs": [
    {
     "data": {
      "text/plain": [
       "'Our*notebook'"
      ]
     },
     "execution_count": 8,
     "metadata": {},
     "output_type": "execute_result"
    }
   ],
   "source": [
    "d"
   ]
  },
  {
   "cell_type": "code",
   "execution_count": 9,
   "id": "91840f37",
   "metadata": {
    "ExecuteTime": {
     "end_time": "2023-01-25T06:54:05.090240Z",
     "start_time": "2023-01-25T06:54:05.030051Z"
    }
   },
   "outputs": [
    {
     "data": {
      "text/plain": [
       "'O#u#r#*#n#o#t#e#b#o#o#k'"
      ]
     },
     "execution_count": 9,
     "metadata": {},
     "output_type": "execute_result"
    }
   ],
   "source": [
    "'#'.join(d)"
   ]
  },
  {
   "cell_type": "code",
   "execution_count": 10,
   "id": "ac118dd9",
   "metadata": {
    "ExecuteTime": {
     "end_time": "2023-01-25T06:54:05.151208Z",
     "start_time": "2023-01-25T06:54:05.094262Z"
    }
   },
   "outputs": [
    {
     "data": {
      "text/plain": [
       "'Our*notebook'"
      ]
     },
     "execution_count": 10,
     "metadata": {},
     "output_type": "execute_result"
    }
   ],
   "source": [
    "d"
   ]
  },
  {
   "cell_type": "code",
   "execution_count": 11,
   "id": "f3daeba5",
   "metadata": {
    "ExecuteTime": {
     "end_time": "2023-01-25T06:54:05.229047Z",
     "start_time": "2023-01-25T06:54:05.153210Z"
    }
   },
   "outputs": [],
   "source": [
    "s='We are learning python'"
   ]
  },
  {
   "cell_type": "code",
   "execution_count": 12,
   "id": "96c3c36a",
   "metadata": {
    "ExecuteTime": {
     "end_time": "2023-01-25T06:54:05.291766Z",
     "start_time": "2023-01-25T06:54:05.231049Z"
    }
   },
   "outputs": [
    {
     "data": {
      "text/plain": [
       "'We are learning python'"
      ]
     },
     "execution_count": 12,
     "metadata": {},
     "output_type": "execute_result"
    }
   ],
   "source": [
    "s"
   ]
  },
  {
   "cell_type": "code",
   "execution_count": 13,
   "id": "9809ea6c",
   "metadata": {
    "ExecuteTime": {
     "end_time": "2023-01-25T06:54:05.339248Z",
     "start_time": "2023-01-25T06:54:05.294267Z"
    }
   },
   "outputs": [
    {
     "data": {
      "text/plain": [
       "str"
      ]
     },
     "execution_count": 13,
     "metadata": {},
     "output_type": "execute_result"
    }
   ],
   "source": [
    "type(s)"
   ]
  },
  {
   "cell_type": "code",
   "execution_count": 14,
   "id": "428fedf6",
   "metadata": {
    "ExecuteTime": {
     "end_time": "2023-01-25T06:54:05.432139Z",
     "start_time": "2023-01-25T06:54:05.340250Z"
    }
   },
   "outputs": [
    {
     "data": {
      "text/plain": [
       "['We are learning python']"
      ]
     },
     "execution_count": 14,
     "metadata": {},
     "output_type": "execute_result"
    }
   ],
   "source": [
    "s.split('.')"
   ]
  },
  {
   "cell_type": "code",
   "execution_count": 15,
   "id": "47bb3152",
   "metadata": {
    "ExecuteTime": {
     "end_time": "2023-01-25T06:54:05.526137Z",
     "start_time": "2023-01-25T06:54:05.436141Z"
    }
   },
   "outputs": [],
   "source": [
    "q= 'shubham@gmail.com'"
   ]
  },
  {
   "cell_type": "code",
   "execution_count": 16,
   "id": "367dbf71",
   "metadata": {
    "ExecuteTime": {
     "end_time": "2023-01-25T06:54:05.588201Z",
     "start_time": "2023-01-25T06:54:05.528140Z"
    }
   },
   "outputs": [
    {
     "data": {
      "text/plain": [
       "str"
      ]
     },
     "execution_count": 16,
     "metadata": {},
     "output_type": "execute_result"
    }
   ],
   "source": [
    "type(q)"
   ]
  },
  {
   "cell_type": "code",
   "execution_count": 17,
   "id": "70d3007a",
   "metadata": {
    "ExecuteTime": {
     "end_time": "2023-01-25T06:54:05.635172Z",
     "start_time": "2023-01-25T06:54:05.590206Z"
    }
   },
   "outputs": [
    {
     "data": {
      "text/plain": [
       "['shubham', 'gmail.com']"
      ]
     },
     "execution_count": 17,
     "metadata": {},
     "output_type": "execute_result"
    }
   ],
   "source": [
    "q.split('@')"
   ]
  },
  {
   "cell_type": "code",
   "execution_count": 18,
   "id": "af2ade29",
   "metadata": {
    "ExecuteTime": {
     "end_time": "2023-01-25T06:54:05.696704Z",
     "start_time": "2023-01-25T06:54:05.637176Z"
    }
   },
   "outputs": [
    {
     "data": {
      "text/plain": [
       "'shubham@gmail.com'"
      ]
     },
     "execution_count": 18,
     "metadata": {},
     "output_type": "execute_result"
    }
   ],
   "source": [
    "q"
   ]
  },
  {
   "cell_type": "code",
   "execution_count": 19,
   "id": "08836e1e",
   "metadata": {
    "ExecuteTime": {
     "end_time": "2023-01-25T06:54:05.743162Z",
     "start_time": "2023-01-25T06:54:05.698702Z"
    }
   },
   "outputs": [],
   "source": [
    "q=q.replace('@','$')"
   ]
  },
  {
   "cell_type": "code",
   "execution_count": 20,
   "id": "48632517",
   "metadata": {
    "ExecuteTime": {
     "end_time": "2023-01-25T06:54:05.820334Z",
     "start_time": "2023-01-25T06:54:05.745167Z"
    }
   },
   "outputs": [],
   "source": [
    "q='shubham@gmail.com'"
   ]
  },
  {
   "cell_type": "code",
   "execution_count": 21,
   "id": "2c298757",
   "metadata": {
    "ExecuteTime": {
     "end_time": "2023-01-25T06:54:05.944140Z",
     "start_time": "2023-01-25T06:54:05.821334Z"
    }
   },
   "outputs": [
    {
     "data": {
      "text/plain": [
       "'shubham@gmail.com'"
      ]
     },
     "execution_count": 21,
     "metadata": {},
     "output_type": "execute_result"
    }
   ],
   "source": [
    "q"
   ]
  },
  {
   "cell_type": "code",
   "execution_count": 22,
   "id": "0e744645",
   "metadata": {
    "ExecuteTime": {
     "end_time": "2023-01-25T06:54:06.006963Z",
     "start_time": "2023-01-25T06:54:05.945136Z"
    }
   },
   "outputs": [
    {
     "data": {
      "text/plain": [
       "'s.h.u.b.h.a.m.@.g.m.a.i.l...c.o.m'"
      ]
     },
     "execution_count": 22,
     "metadata": {},
     "output_type": "execute_result"
    }
   ],
   "source": [
    "'.'.join(q)"
   ]
  },
  {
   "cell_type": "code",
   "execution_count": 23,
   "id": "ab3c4cdc",
   "metadata": {
    "ExecuteTime": {
     "end_time": "2023-01-25T06:54:06.070188Z",
     "start_time": "2023-01-25T06:54:06.008968Z"
    }
   },
   "outputs": [
    {
     "data": {
      "text/plain": [
       "'shubham@gmail.com'"
      ]
     },
     "execution_count": 23,
     "metadata": {},
     "output_type": "execute_result"
    }
   ],
   "source": [
    "q"
   ]
  },
  {
   "cell_type": "markdown",
   "id": "79f92aa2",
   "metadata": {},
   "source": [
    "# Data Stracture\n",
    "1. List\n",
    "2. Dictionary\n",
    "3. Sets\n",
    "4. Tuples"
   ]
  },
  {
   "cell_type": "code",
   "execution_count": 24,
   "id": "ab745700",
   "metadata": {
    "ExecuteTime": {
     "end_time": "2023-01-25T06:54:06.133128Z",
     "start_time": "2023-01-25T06:54:06.071189Z"
    }
   },
   "outputs": [],
   "source": [
    "#Lists"
   ]
  },
  {
   "cell_type": "code",
   "execution_count": 25,
   "id": "b42be96b",
   "metadata": {
    "ExecuteTime": {
     "end_time": "2023-01-25T06:54:06.210149Z",
     "start_time": "2023-01-25T06:54:06.136134Z"
    }
   },
   "outputs": [],
   "source": [
    "lst=[10,10.5,True,'Hello']"
   ]
  },
  {
   "cell_type": "code",
   "execution_count": 26,
   "id": "b9cf92d9",
   "metadata": {
    "ExecuteTime": {
     "end_time": "2023-01-25T06:54:06.272633Z",
     "start_time": "2023-01-25T06:54:06.212148Z"
    }
   },
   "outputs": [
    {
     "data": {
      "text/plain": [
       "list"
      ]
     },
     "execution_count": 26,
     "metadata": {},
     "output_type": "execute_result"
    }
   ],
   "source": [
    "type(lst)"
   ]
  },
  {
   "cell_type": "code",
   "execution_count": 27,
   "id": "fa384ea2",
   "metadata": {
    "ExecuteTime": {
     "end_time": "2023-01-25T06:54:06.334533Z",
     "start_time": "2023-01-25T06:54:06.274877Z"
    }
   },
   "outputs": [
    {
     "data": {
      "text/plain": [
       "'Hello'"
      ]
     },
     "execution_count": 27,
     "metadata": {},
     "output_type": "execute_result"
    }
   ],
   "source": [
    "lst[3]"
   ]
  },
  {
   "cell_type": "code",
   "execution_count": 28,
   "id": "0f22cf16",
   "metadata": {
    "ExecuteTime": {
     "end_time": "2023-01-25T06:54:06.411570Z",
     "start_time": "2023-01-25T06:54:06.342516Z"
    }
   },
   "outputs": [
    {
     "data": {
      "text/plain": [
       "[10.5, True]"
      ]
     },
     "execution_count": 28,
     "metadata": {},
     "output_type": "execute_result"
    }
   ],
   "source": [
    "lst[1:3]"
   ]
  },
  {
   "cell_type": "code",
   "execution_count": 29,
   "id": "979f1798",
   "metadata": {
    "ExecuteTime": {
     "end_time": "2023-01-25T06:54:06.473134Z",
     "start_time": "2023-01-25T06:54:06.412573Z"
    }
   },
   "outputs": [
    {
     "data": {
      "text/plain": [
       "[10, 10.5, True, 'Hello']"
      ]
     },
     "execution_count": 29,
     "metadata": {},
     "output_type": "execute_result"
    }
   ],
   "source": [
    "lst"
   ]
  },
  {
   "cell_type": "code",
   "execution_count": 30,
   "id": "e0ec5bfe",
   "metadata": {
    "ExecuteTime": {
     "end_time": "2023-01-25T06:54:06.535312Z",
     "start_time": "2023-01-25T06:54:06.475137Z"
    }
   },
   "outputs": [
    {
     "data": {
      "text/plain": [
       "10.5"
      ]
     },
     "execution_count": 30,
     "metadata": {},
     "output_type": "execute_result"
    }
   ],
   "source": [
    "lst[-3]"
   ]
  },
  {
   "cell_type": "code",
   "execution_count": 31,
   "id": "e61e76d6",
   "metadata": {
    "ExecuteTime": {
     "end_time": "2023-01-25T06:54:06.613144Z",
     "start_time": "2023-01-25T06:54:06.537307Z"
    }
   },
   "outputs": [],
   "source": [
    "lst.append('World')"
   ]
  },
  {
   "cell_type": "code",
   "execution_count": 32,
   "id": "6501b044",
   "metadata": {
    "ExecuteTime": {
     "end_time": "2023-01-25T06:54:06.722133Z",
     "start_time": "2023-01-25T06:54:06.615148Z"
    }
   },
   "outputs": [
    {
     "data": {
      "text/plain": [
       "[10, 10.5, True, 'Hello', 'World']"
      ]
     },
     "execution_count": 32,
     "metadata": {},
     "output_type": "execute_result"
    }
   ],
   "source": [
    "lst"
   ]
  },
  {
   "cell_type": "code",
   "execution_count": 33,
   "id": "d7195817",
   "metadata": {
    "ExecuteTime": {
     "end_time": "2023-01-25T06:54:06.785348Z",
     "start_time": "2023-01-25T06:54:06.724525Z"
    }
   },
   "outputs": [
    {
     "data": {
      "text/plain": [
       "1"
      ]
     },
     "execution_count": 33,
     "metadata": {},
     "output_type": "execute_result"
    }
   ],
   "source": [
    "lst.count(10)"
   ]
  },
  {
   "cell_type": "code",
   "execution_count": 34,
   "id": "2bba0d2a",
   "metadata": {
    "ExecuteTime": {
     "end_time": "2023-01-25T06:54:06.848791Z",
     "start_time": "2023-01-25T06:54:06.787351Z"
    }
   },
   "outputs": [
    {
     "data": {
      "text/plain": [
       "4"
      ]
     },
     "execution_count": 34,
     "metadata": {},
     "output_type": "execute_result"
    }
   ],
   "source": [
    "lst.index('World')"
   ]
  },
  {
   "cell_type": "code",
   "execution_count": 35,
   "id": "a5a01fa6",
   "metadata": {
    "ExecuteTime": {
     "end_time": "2023-01-25T06:54:06.895000Z",
     "start_time": "2023-01-25T06:54:06.850793Z"
    }
   },
   "outputs": [],
   "source": [
    "lst.insert(0,50)"
   ]
  },
  {
   "cell_type": "code",
   "execution_count": 36,
   "id": "ed5d1996",
   "metadata": {
    "ExecuteTime": {
     "end_time": "2023-01-25T06:54:06.957116Z",
     "start_time": "2023-01-25T06:54:06.896000Z"
    }
   },
   "outputs": [
    {
     "data": {
      "text/plain": [
       "[50, 10, 10.5, True, 'Hello', 'World']"
      ]
     },
     "execution_count": 36,
     "metadata": {},
     "output_type": "execute_result"
    }
   ],
   "source": [
    "lst"
   ]
  },
  {
   "cell_type": "code",
   "execution_count": 37,
   "id": "857da489",
   "metadata": {
    "ExecuteTime": {
     "end_time": "2023-01-25T06:54:07.003366Z",
     "start_time": "2023-01-25T06:54:06.959120Z"
    }
   },
   "outputs": [],
   "source": [
    "#pop"
   ]
  },
  {
   "cell_type": "code",
   "execution_count": 38,
   "id": "9dc4f1e5",
   "metadata": {
    "ExecuteTime": {
     "end_time": "2023-01-25T06:54:07.065771Z",
     "start_time": "2023-01-25T06:54:07.005347Z"
    }
   },
   "outputs": [
    {
     "data": {
      "text/plain": [
       "10.5"
      ]
     },
     "execution_count": 38,
     "metadata": {},
     "output_type": "execute_result"
    }
   ],
   "source": [
    "lst.pop(2)"
   ]
  },
  {
   "cell_type": "code",
   "execution_count": 39,
   "id": "afe5c780",
   "metadata": {
    "ExecuteTime": {
     "end_time": "2023-01-25T06:54:07.096099Z",
     "start_time": "2023-01-25T06:54:07.068031Z"
    }
   },
   "outputs": [
    {
     "data": {
      "text/plain": [
       "[50, 10, True, 'Hello', 'World']"
      ]
     },
     "execution_count": 39,
     "metadata": {},
     "output_type": "execute_result"
    }
   ],
   "source": [
    "lst"
   ]
  },
  {
   "cell_type": "code",
   "execution_count": 40,
   "id": "c9f56477",
   "metadata": {
    "ExecuteTime": {
     "end_time": "2023-01-25T06:54:07.127984Z",
     "start_time": "2023-01-25T06:54:07.097097Z"
    }
   },
   "outputs": [],
   "source": [
    "lst.insert(2,10.5)"
   ]
  },
  {
   "cell_type": "code",
   "execution_count": 41,
   "id": "0adb8e4b",
   "metadata": {
    "ExecuteTime": {
     "end_time": "2023-01-25T06:54:07.174034Z",
     "start_time": "2023-01-25T06:54:07.129985Z"
    }
   },
   "outputs": [
    {
     "data": {
      "text/plain": [
       "[50, 10, 10.5, True, 'Hello', 'World']"
      ]
     },
     "execution_count": 41,
     "metadata": {},
     "output_type": "execute_result"
    }
   ],
   "source": [
    "lst"
   ]
  },
  {
   "cell_type": "code",
   "execution_count": 42,
   "id": "55b735b3",
   "metadata": {
    "ExecuteTime": {
     "end_time": "2023-01-25T06:54:07.205146Z",
     "start_time": "2023-01-25T06:54:07.175987Z"
    }
   },
   "outputs": [],
   "source": [
    "#reverse"
   ]
  },
  {
   "cell_type": "code",
   "execution_count": 43,
   "id": "d1bca06e",
   "metadata": {
    "ExecuteTime": {
     "end_time": "2023-01-25T06:54:07.236171Z",
     "start_time": "2023-01-25T06:54:07.207149Z"
    }
   },
   "outputs": [],
   "source": [
    "lst.reverse()"
   ]
  },
  {
   "cell_type": "code",
   "execution_count": 44,
   "id": "d30e12d4",
   "metadata": {
    "ExecuteTime": {
     "end_time": "2023-01-25T06:54:07.268177Z",
     "start_time": "2023-01-25T06:54:07.238170Z"
    }
   },
   "outputs": [
    {
     "data": {
      "text/plain": [
       "['World', 'Hello', True, 10.5, 10, 50]"
      ]
     },
     "execution_count": 44,
     "metadata": {},
     "output_type": "execute_result"
    }
   ],
   "source": [
    "lst"
   ]
  },
  {
   "cell_type": "code",
   "execution_count": 45,
   "id": "ec1ecce1",
   "metadata": {
    "ExecuteTime": {
     "end_time": "2023-01-25T06:54:07.299640Z",
     "start_time": "2023-01-25T06:54:07.270177Z"
    }
   },
   "outputs": [],
   "source": [
    "#remove"
   ]
  },
  {
   "cell_type": "code",
   "execution_count": 46,
   "id": "3f0c1e7c",
   "metadata": {
    "ExecuteTime": {
     "end_time": "2023-01-25T06:54:07.330742Z",
     "start_time": "2023-01-25T06:54:07.302642Z"
    }
   },
   "outputs": [],
   "source": [
    "lst.remove('World')"
   ]
  },
  {
   "cell_type": "code",
   "execution_count": 47,
   "id": "5ed504f4",
   "metadata": {
    "ExecuteTime": {
     "end_time": "2023-01-25T06:54:07.377957Z",
     "start_time": "2023-01-25T06:54:07.332744Z"
    }
   },
   "outputs": [
    {
     "data": {
      "text/plain": [
       "['Hello', True, 10.5, 10, 50]"
      ]
     },
     "execution_count": 47,
     "metadata": {},
     "output_type": "execute_result"
    }
   ],
   "source": [
    "lst"
   ]
  },
  {
   "cell_type": "code",
   "execution_count": 48,
   "id": "6ada0e08",
   "metadata": {
    "ExecuteTime": {
     "end_time": "2023-01-25T06:54:07.408361Z",
     "start_time": "2023-01-25T06:54:07.379959Z"
    }
   },
   "outputs": [],
   "source": [
    "#replacing elements in lists"
   ]
  },
  {
   "cell_type": "code",
   "execution_count": 49,
   "id": "d649aaca",
   "metadata": {
    "ExecuteTime": {
     "end_time": "2023-01-25T06:54:07.455094Z",
     "start_time": "2023-01-25T06:54:07.410364Z"
    }
   },
   "outputs": [],
   "source": [
    "lst[1]= False"
   ]
  },
  {
   "cell_type": "code",
   "execution_count": null,
   "id": "fac6c708",
   "metadata": {},
   "outputs": [],
   "source": []
  },
  {
   "cell_type": "code",
   "execution_count": null,
   "id": "4ab874e0",
   "metadata": {},
   "outputs": [],
   "source": []
  },
  {
   "cell_type": "code",
   "execution_count": 50,
   "id": "6499d839",
   "metadata": {
    "ExecuteTime": {
     "end_time": "2023-01-25T06:54:07.550306Z",
     "start_time": "2023-01-25T06:54:07.457095Z"
    },
    "scrolled": false
   },
   "outputs": [
    {
     "data": {
      "text/plain": [
       "['Hello', False, 10.5, 10, 50]"
      ]
     },
     "execution_count": 50,
     "metadata": {},
     "output_type": "execute_result"
    }
   ],
   "source": [
    "lst"
   ]
  },
  {
   "cell_type": "code",
   "execution_count": 51,
   "id": "c9b7b1b7",
   "metadata": {
    "ExecuteTime": {
     "end_time": "2023-01-25T06:54:07.580392Z",
     "start_time": "2023-01-25T06:54:07.552839Z"
    }
   },
   "outputs": [],
   "source": [
    "#Tuple"
   ]
  },
  {
   "cell_type": "code",
   "execution_count": 52,
   "id": "adf1ca11",
   "metadata": {
    "ExecuteTime": {
     "end_time": "2023-01-25T06:54:07.611294Z",
     "start_time": "2023-01-25T06:54:07.582394Z"
    }
   },
   "outputs": [],
   "source": [
    "t=(100,15.4,'Hi')"
   ]
  },
  {
   "cell_type": "code",
   "execution_count": 53,
   "id": "7a61080d",
   "metadata": {
    "ExecuteTime": {
     "end_time": "2023-01-25T06:54:07.672958Z",
     "start_time": "2023-01-25T06:54:07.612295Z"
    }
   },
   "outputs": [
    {
     "data": {
      "text/plain": [
       "tuple"
      ]
     },
     "execution_count": 53,
     "metadata": {},
     "output_type": "execute_result"
    }
   ],
   "source": [
    "type(t)"
   ]
  },
  {
   "cell_type": "code",
   "execution_count": 54,
   "id": "485658ec",
   "metadata": {
    "ExecuteTime": {
     "end_time": "2023-01-25T06:54:07.943025Z",
     "start_time": "2023-01-25T06:54:07.674957Z"
    }
   },
   "outputs": [
    {
     "ename": "TypeError",
     "evalue": "'tuple' object does not support item assignment",
     "output_type": "error",
     "traceback": [
      "\u001b[1;31m---------------------------------------------------------------------------\u001b[0m",
      "\u001b[1;31mTypeError\u001b[0m                                 Traceback (most recent call last)",
      "\u001b[1;32m~\\AppData\\Local\\Temp\\ipykernel_12588\\4110229244.py\u001b[0m in \u001b[0;36m<module>\u001b[1;34m\u001b[0m\n\u001b[1;32m----> 1\u001b[1;33m \u001b[0mt\u001b[0m\u001b[1;33m[\u001b[0m\u001b[1;36m15.4\u001b[0m\u001b[1;33m]\u001b[0m\u001b[1;33m=\u001b[0m\u001b[1;36m23.5\u001b[0m\u001b[1;33m\u001b[0m\u001b[1;33m\u001b[0m\u001b[0m\n\u001b[0m",
      "\u001b[1;31mTypeError\u001b[0m: 'tuple' object does not support item assignment"
     ]
    }
   ],
   "source": [
    "t[15.4]=23.5"
   ]
  },
  {
   "cell_type": "code",
   "execution_count": null,
   "id": "a5586ba4",
   "metadata": {
    "ExecuteTime": {
     "end_time": "2023-01-25T06:54:07.945152Z",
     "start_time": "2023-01-25T06:54:07.945152Z"
    }
   },
   "outputs": [],
   "source": [
    "t=list(t)"
   ]
  },
  {
   "cell_type": "code",
   "execution_count": null,
   "id": "1e41530a",
   "metadata": {
    "ExecuteTime": {
     "end_time": "2023-01-25T06:54:07.947143Z",
     "start_time": "2023-01-25T06:54:07.947143Z"
    }
   },
   "outputs": [],
   "source": [
    "type(t)"
   ]
  },
  {
   "cell_type": "code",
   "execution_count": null,
   "id": "e10f23bc",
   "metadata": {
    "ExecuteTime": {
     "end_time": "2023-01-25T06:54:07.948143Z",
     "start_time": "2023-01-25T06:54:07.948143Z"
    }
   },
   "outputs": [],
   "source": [
    "t[1]=23"
   ]
  },
  {
   "cell_type": "code",
   "execution_count": null,
   "id": "26b95e3b",
   "metadata": {
    "ExecuteTime": {
     "end_time": "2023-01-25T06:54:07.950141Z",
     "start_time": "2023-01-25T06:54:07.950141Z"
    }
   },
   "outputs": [],
   "source": [
    "t"
   ]
  },
  {
   "cell_type": "code",
   "execution_count": null,
   "id": "3816c7bc",
   "metadata": {
    "ExecuteTime": {
     "end_time": "2023-01-25T06:54:07.952140Z",
     "start_time": "2023-01-25T06:54:07.952140Z"
    }
   },
   "outputs": [],
   "source": [
    "t=tuple(t)"
   ]
  },
  {
   "cell_type": "code",
   "execution_count": null,
   "id": "1043268e",
   "metadata": {
    "ExecuteTime": {
     "end_time": "2023-01-25T06:54:07.954157Z",
     "start_time": "2023-01-25T06:54:07.954157Z"
    }
   },
   "outputs": [],
   "source": [
    "type(t)"
   ]
  },
  {
   "cell_type": "code",
   "execution_count": null,
   "id": "b21a6c2f",
   "metadata": {
    "ExecuteTime": {
     "end_time": "2023-01-25T06:54:07.957142Z",
     "start_time": "2023-01-25T06:54:07.956145Z"
    }
   },
   "outputs": [],
   "source": [
    "t"
   ]
  },
  {
   "cell_type": "markdown",
   "id": "d72029fd",
   "metadata": {},
   "source": [
    "# Dictionary\n"
   ]
  },
  {
   "cell_type": "code",
   "execution_count": null,
   "id": "b3a2a145",
   "metadata": {
    "ExecuteTime": {
     "end_time": "2023-01-25T06:54:07.958143Z",
     "start_time": "2023-01-25T06:54:07.958143Z"
    }
   },
   "outputs": [],
   "source": [
    "d={}\n",
    "type(d)"
   ]
  },
  {
   "cell_type": "code",
   "execution_count": null,
   "id": "4454321d",
   "metadata": {
    "ExecuteTime": {
     "end_time": "2023-01-25T06:54:07.960146Z",
     "start_time": "2023-01-25T06:54:07.960146Z"
    }
   },
   "outputs": [],
   "source": [
    "d1=dict()\n",
    "type(d1)"
   ]
  },
  {
   "cell_type": "code",
   "execution_count": 57,
   "id": "abc12fcb",
   "metadata": {
    "ExecuteTime": {
     "end_time": "2023-01-25T06:54:17.053366Z",
     "start_time": "2023-01-25T06:54:17.035413Z"
    }
   },
   "outputs": [],
   "source": [
    "d={1:2,2:'s',3:2.5,5:True}"
   ]
  },
  {
   "cell_type": "code",
   "execution_count": 58,
   "id": "42642d78",
   "metadata": {
    "ExecuteTime": {
     "end_time": "2023-01-25T06:54:19.235045Z",
     "start_time": "2023-01-25T06:54:19.216165Z"
    }
   },
   "outputs": [
    {
     "data": {
      "text/plain": [
       "{1: 2, 2: 's', 3: 2.5, 5: True}"
      ]
     },
     "execution_count": 58,
     "metadata": {},
     "output_type": "execute_result"
    }
   ],
   "source": [
    "d"
   ]
  },
  {
   "cell_type": "code",
   "execution_count": 59,
   "id": "2b8f19a8",
   "metadata": {
    "ExecuteTime": {
     "end_time": "2023-01-25T06:54:20.370167Z",
     "start_time": "2023-01-25T06:54:20.352250Z"
    }
   },
   "outputs": [
    {
     "data": {
      "text/plain": [
       "True"
      ]
     },
     "execution_count": 59,
     "metadata": {},
     "output_type": "execute_result"
    }
   ],
   "source": [
    "d.get(5)"
   ]
  },
  {
   "cell_type": "code",
   "execution_count": 60,
   "id": "07bae3f1",
   "metadata": {
    "ExecuteTime": {
     "end_time": "2023-01-25T06:54:21.376861Z",
     "start_time": "2023-01-25T06:54:21.358871Z"
    }
   },
   "outputs": [
    {
     "data": {
      "text/plain": [
       "dict_items([(1, 2), (2, 's'), (3, 2.5), (5, True)])"
      ]
     },
     "execution_count": 60,
     "metadata": {},
     "output_type": "execute_result"
    }
   ],
   "source": [
    "d.items()"
   ]
  },
  {
   "cell_type": "code",
   "execution_count": 61,
   "id": "6b194bfb",
   "metadata": {
    "ExecuteTime": {
     "end_time": "2023-01-25T06:54:22.298179Z",
     "start_time": "2023-01-25T06:54:22.287264Z"
    }
   },
   "outputs": [
    {
     "data": {
      "text/plain": [
       "dict_keys([1, 2, 3, 5])"
      ]
     },
     "execution_count": 61,
     "metadata": {},
     "output_type": "execute_result"
    }
   ],
   "source": [
    "d.keys()"
   ]
  },
  {
   "cell_type": "code",
   "execution_count": 62,
   "id": "41707bf1",
   "metadata": {
    "ExecuteTime": {
     "end_time": "2023-01-25T06:54:23.654102Z",
     "start_time": "2023-01-25T06:54:23.646130Z"
    }
   },
   "outputs": [],
   "source": [
    "d.update({6:'BMW'})"
   ]
  },
  {
   "cell_type": "code",
   "execution_count": 63,
   "id": "55f5df7f",
   "metadata": {
    "ExecuteTime": {
     "end_time": "2023-01-25T06:54:25.367693Z",
     "start_time": "2023-01-25T06:54:25.345799Z"
    }
   },
   "outputs": [
    {
     "name": "stdout",
     "output_type": "stream",
     "text": [
      "{1: 2, 2: 's', 3: 2.5, 5: True, 6: 'BMW'}\n"
     ]
    }
   ],
   "source": [
    "print(d)"
   ]
  },
  {
   "cell_type": "code",
   "execution_count": 64,
   "id": "d01b4417",
   "metadata": {
    "ExecuteTime": {
     "end_time": "2023-01-25T06:54:27.170693Z",
     "start_time": "2023-01-25T06:54:27.150721Z"
    }
   },
   "outputs": [
    {
     "data": {
      "text/plain": [
       "'BMW'"
      ]
     },
     "execution_count": 64,
     "metadata": {},
     "output_type": "execute_result"
    }
   ],
   "source": [
    "d.pop(6)\n"
   ]
  },
  {
   "cell_type": "code",
   "execution_count": 72,
   "id": "30343762",
   "metadata": {
    "ExecuteTime": {
     "end_time": "2023-01-25T07:40:57.234616Z",
     "start_time": "2023-01-25T07:40:57.222820Z"
    }
   },
   "outputs": [],
   "source": [
    "s={1,2,4,'S',12.3}"
   ]
  },
  {
   "cell_type": "code",
   "execution_count": 73,
   "id": "316c477a",
   "metadata": {
    "ExecuteTime": {
     "end_time": "2023-01-25T07:41:00.252740Z",
     "start_time": "2023-01-25T07:41:00.244740Z"
    }
   },
   "outputs": [
    {
     "data": {
      "text/plain": [
       "{1, 12.3, 2, 4, 'S'}"
      ]
     },
     "execution_count": 73,
     "metadata": {},
     "output_type": "execute_result"
    }
   ],
   "source": [
    "s"
   ]
  },
  {
   "cell_type": "code",
   "execution_count": 74,
   "id": "c90c40a3",
   "metadata": {
    "ExecuteTime": {
     "end_time": "2023-01-25T07:41:02.504790Z",
     "start_time": "2023-01-25T07:41:02.498791Z"
    }
   },
   "outputs": [
    {
     "data": {
      "text/plain": [
       "set"
      ]
     },
     "execution_count": 74,
     "metadata": {},
     "output_type": "execute_result"
    }
   ],
   "source": [
    "type(s)"
   ]
  },
  {
   "cell_type": "code",
   "execution_count": 68,
   "id": "59dd1aac",
   "metadata": {
    "ExecuteTime": {
     "end_time": "2023-01-25T07:39:56.687860Z",
     "start_time": "2023-01-25T07:39:56.677860Z"
    }
   },
   "outputs": [],
   "source": [
    "s1={1,2,2,3,2,4}"
   ]
  },
  {
   "cell_type": "code",
   "execution_count": 69,
   "id": "caa1f767",
   "metadata": {
    "ExecuteTime": {
     "end_time": "2023-01-25T07:39:58.900081Z",
     "start_time": "2023-01-25T07:39:58.890081Z"
    }
   },
   "outputs": [
    {
     "data": {
      "text/plain": [
       "{1, 2, 3, 4}"
      ]
     },
     "execution_count": 69,
     "metadata": {},
     "output_type": "execute_result"
    }
   ],
   "source": [
    "s1"
   ]
  },
  {
   "cell_type": "code",
   "execution_count": 75,
   "id": "83aea96e",
   "metadata": {
    "ExecuteTime": {
     "end_time": "2023-01-25T07:41:09.619813Z",
     "start_time": "2023-01-25T07:41:09.606813Z"
    }
   },
   "outputs": [],
   "source": [
    "s.add(156)"
   ]
  },
  {
   "cell_type": "code",
   "execution_count": 76,
   "id": "5ee74ef5",
   "metadata": {
    "ExecuteTime": {
     "end_time": "2023-01-25T07:41:16.401875Z",
     "start_time": "2023-01-25T07:41:16.385269Z"
    }
   },
   "outputs": [
    {
     "data": {
      "text/plain": [
       "{1, 12.3, 156, 2, 4, 'S'}"
      ]
     },
     "execution_count": 76,
     "metadata": {},
     "output_type": "execute_result"
    }
   ],
   "source": [
    "s"
   ]
  },
  {
   "cell_type": "code",
   "execution_count": 77,
   "id": "64cc3d2c",
   "metadata": {
    "ExecuteTime": {
     "end_time": "2023-01-25T07:47:44.997154Z",
     "start_time": "2023-01-25T07:47:44.991147Z"
    }
   },
   "outputs": [],
   "source": [
    " a={'apple','mango','cherry'}\n",
    "b={'grapes','google','cherry'}"
   ]
  },
  {
   "cell_type": "code",
   "execution_count": 78,
   "id": "15c050ea",
   "metadata": {
    "ExecuteTime": {
     "end_time": "2023-01-25T07:47:57.033969Z",
     "start_time": "2023-01-25T07:47:57.024978Z"
    }
   },
   "outputs": [
    {
     "data": {
      "text/plain": [
       "{'apple', 'mango'}"
      ]
     },
     "execution_count": 78,
     "metadata": {},
     "output_type": "execute_result"
    }
   ],
   "source": [
    "a.difference(b)"
   ]
  },
  {
   "cell_type": "code",
   "execution_count": 79,
   "id": "97d6bd96",
   "metadata": {
    "ExecuteTime": {
     "end_time": "2023-01-25T07:48:06.615490Z",
     "start_time": "2023-01-25T07:48:06.603471Z"
    }
   },
   "outputs": [
    {
     "data": {
      "text/plain": [
       "{'google', 'grapes'}"
      ]
     },
     "execution_count": 79,
     "metadata": {},
     "output_type": "execute_result"
    }
   ],
   "source": [
    "b.difference(a)"
   ]
  },
  {
   "cell_type": "code",
   "execution_count": 80,
   "id": "738f7619",
   "metadata": {
    "ExecuteTime": {
     "end_time": "2023-01-25T07:48:17.595574Z",
     "start_time": "2023-01-25T07:48:17.588563Z"
    }
   },
   "outputs": [
    {
     "data": {
      "text/plain": [
       "{'cherry'}"
      ]
     },
     "execution_count": 80,
     "metadata": {},
     "output_type": "execute_result"
    }
   ],
   "source": [
    "a.intersection(b)"
   ]
  },
  {
   "cell_type": "code",
   "execution_count": 81,
   "id": "4d925865",
   "metadata": {
    "ExecuteTime": {
     "end_time": "2023-01-25T07:48:42.153951Z",
     "start_time": "2023-01-25T07:48:42.145951Z"
    }
   },
   "outputs": [
    {
     "data": {
      "text/plain": [
       "{'apple', 'cherry', 'google', 'grapes', 'mango'}"
      ]
     },
     "execution_count": 81,
     "metadata": {},
     "output_type": "execute_result"
    }
   ],
   "source": [
    "a.union(b)"
   ]
  },
  {
   "cell_type": "code",
   "execution_count": 83,
   "id": "d7b3f475",
   "metadata": {
    "ExecuteTime": {
     "end_time": "2023-01-25T07:49:11.839801Z",
     "start_time": "2023-01-25T07:49:11.820895Z"
    }
   },
   "outputs": [
    {
     "data": {
      "text/plain": [
       "'apple'"
      ]
     },
     "execution_count": 83,
     "metadata": {},
     "output_type": "execute_result"
    }
   ],
   "source": [
    "a.pop()"
   ]
  },
  {
   "cell_type": "code",
   "execution_count": 84,
   "id": "2d39260a",
   "metadata": {
    "ExecuteTime": {
     "end_time": "2023-01-25T07:49:18.875744Z",
     "start_time": "2023-01-25T07:49:18.860810Z"
    }
   },
   "outputs": [
    {
     "data": {
      "text/plain": [
       "{'cherry', 'mango'}"
      ]
     },
     "execution_count": 84,
     "metadata": {},
     "output_type": "execute_result"
    }
   ],
   "source": [
    "a"
   ]
  },
  {
   "cell_type": "code",
   "execution_count": 85,
   "id": "efda35b7",
   "metadata": {
    "ExecuteTime": {
     "end_time": "2023-01-25T07:49:36.107164Z",
     "start_time": "2023-01-25T07:49:36.100188Z"
    }
   },
   "outputs": [
    {
     "data": {
      "text/plain": [
       "{'cherry', 'google', 'grapes', 'mango'}"
      ]
     },
     "execution_count": 85,
     "metadata": {},
     "output_type": "execute_result"
    }
   ],
   "source": [
    "a.union(b)"
   ]
  },
  {
   "cell_type": "code",
   "execution_count": null,
   "id": "bf72723a",
   "metadata": {},
   "outputs": [],
   "source": []
  }
 ],
 "metadata": {
  "kernelspec": {
   "display_name": "Python 3 (ipykernel)",
   "language": "python",
   "name": "python3"
  },
  "language_info": {
   "codemirror_mode": {
    "name": "ipython",
    "version": 3
   },
   "file_extension": ".py",
   "mimetype": "text/x-python",
   "name": "python",
   "nbconvert_exporter": "python",
   "pygments_lexer": "ipython3",
   "version": "3.9.13"
  }
 },
 "nbformat": 4,
 "nbformat_minor": 5
}
