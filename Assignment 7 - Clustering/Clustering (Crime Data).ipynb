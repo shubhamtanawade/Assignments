{
 "cells": [
  {
   "cell_type": "markdown",
   "id": "b2de56db",
   "metadata": {},
   "source": [
    "# Clustering (Crime Data)"
   ]
  },
  {
   "cell_type": "markdown",
   "id": "a35ff19e",
   "metadata": {},
   "source": [
    "Shubham's Assignment"
   ]
  },
  {
   "cell_type": "code",
   "execution_count": 1,
   "id": "0d7573de",
   "metadata": {
    "ExecuteTime": {
     "end_time": "2023-03-16T13:10:07.369706Z",
     "start_time": "2023-03-16T13:10:04.855808Z"
    }
   },
   "outputs": [
    {
     "name": "stderr",
     "output_type": "stream",
     "text": [
      "C:\\Users\\Shubham\\AppData\\Local\\Temp\\ipykernel_15576\\1981789189.py:6: DeprecationWarning: `np.float` is a deprecated alias for the builtin `float`. To silence this warning, use `float` by itself. Doing this will not modify any behavior and is safe. If you specifically wanted the numpy scalar type, use `np.float64` here.\n",
      "Deprecated in NumPy 1.20; for more details and guidance: https://numpy.org/devdocs/release/1.20.0-notes.html#deprecations\n",
      "  from numpy import random, float, array\n"
     ]
    }
   ],
   "source": [
    "#import libraries\n",
    "import pandas as pd\n",
    "from sklearn.cluster import KMeans\n",
    "import matplotlib.pyplot as plt\n",
    "from sklearn.preprocessing import scale\n",
    "from numpy import random, float, array\n",
    "import numpy as np\n",
    "import seaborn as sns\n",
    "%matplotlib inline"
   ]
  },
  {
   "cell_type": "code",
   "execution_count": 2,
   "id": "8d31922a",
   "metadata": {
    "ExecuteTime": {
     "end_time": "2023-03-16T13:10:07.385399Z",
     "start_time": "2023-03-16T13:10:07.372707Z"
    }
   },
   "outputs": [],
   "source": [
    "import warnings\n",
    "warnings.filterwarnings('ignore')"
   ]
  },
  {
   "cell_type": "code",
   "execution_count": 3,
   "id": "71f7551e",
   "metadata": {
    "ExecuteTime": {
     "end_time": "2023-03-16T13:10:07.446421Z",
     "start_time": "2023-03-16T13:10:07.387398Z"
    }
   },
   "outputs": [
    {
     "data": {
      "text/html": [
       "<div>\n",
       "<style scoped>\n",
       "    .dataframe tbody tr th:only-of-type {\n",
       "        vertical-align: middle;\n",
       "    }\n",
       "\n",
       "    .dataframe tbody tr th {\n",
       "        vertical-align: top;\n",
       "    }\n",
       "\n",
       "    .dataframe thead th {\n",
       "        text-align: right;\n",
       "    }\n",
       "</style>\n",
       "<table border=\"1\" class=\"dataframe\">\n",
       "  <thead>\n",
       "    <tr style=\"text-align: right;\">\n",
       "      <th></th>\n",
       "      <th>Unnamed: 0</th>\n",
       "      <th>Murder</th>\n",
       "      <th>Assault</th>\n",
       "      <th>UrbanPop</th>\n",
       "      <th>Rape</th>\n",
       "    </tr>\n",
       "  </thead>\n",
       "  <tbody>\n",
       "    <tr>\n",
       "      <th>0</th>\n",
       "      <td>Alabama</td>\n",
       "      <td>13.2</td>\n",
       "      <td>236</td>\n",
       "      <td>58</td>\n",
       "      <td>21.2</td>\n",
       "    </tr>\n",
       "    <tr>\n",
       "      <th>1</th>\n",
       "      <td>Alaska</td>\n",
       "      <td>10.0</td>\n",
       "      <td>263</td>\n",
       "      <td>48</td>\n",
       "      <td>44.5</td>\n",
       "    </tr>\n",
       "    <tr>\n",
       "      <th>2</th>\n",
       "      <td>Arizona</td>\n",
       "      <td>8.1</td>\n",
       "      <td>294</td>\n",
       "      <td>80</td>\n",
       "      <td>31.0</td>\n",
       "    </tr>\n",
       "    <tr>\n",
       "      <th>3</th>\n",
       "      <td>Arkansas</td>\n",
       "      <td>8.8</td>\n",
       "      <td>190</td>\n",
       "      <td>50</td>\n",
       "      <td>19.5</td>\n",
       "    </tr>\n",
       "    <tr>\n",
       "      <th>4</th>\n",
       "      <td>California</td>\n",
       "      <td>9.0</td>\n",
       "      <td>276</td>\n",
       "      <td>91</td>\n",
       "      <td>40.6</td>\n",
       "    </tr>\n",
       "    <tr>\n",
       "      <th>5</th>\n",
       "      <td>Colorado</td>\n",
       "      <td>7.9</td>\n",
       "      <td>204</td>\n",
       "      <td>78</td>\n",
       "      <td>38.7</td>\n",
       "    </tr>\n",
       "    <tr>\n",
       "      <th>6</th>\n",
       "      <td>Connecticut</td>\n",
       "      <td>3.3</td>\n",
       "      <td>110</td>\n",
       "      <td>77</td>\n",
       "      <td>11.1</td>\n",
       "    </tr>\n",
       "    <tr>\n",
       "      <th>7</th>\n",
       "      <td>Delaware</td>\n",
       "      <td>5.9</td>\n",
       "      <td>238</td>\n",
       "      <td>72</td>\n",
       "      <td>15.8</td>\n",
       "    </tr>\n",
       "    <tr>\n",
       "      <th>8</th>\n",
       "      <td>Florida</td>\n",
       "      <td>15.4</td>\n",
       "      <td>335</td>\n",
       "      <td>80</td>\n",
       "      <td>31.9</td>\n",
       "    </tr>\n",
       "    <tr>\n",
       "      <th>9</th>\n",
       "      <td>Georgia</td>\n",
       "      <td>17.4</td>\n",
       "      <td>211</td>\n",
       "      <td>60</td>\n",
       "      <td>25.8</td>\n",
       "    </tr>\n",
       "  </tbody>\n",
       "</table>\n",
       "</div>"
      ],
      "text/plain": [
       "    Unnamed: 0  Murder  Assault  UrbanPop  Rape\n",
       "0      Alabama    13.2      236        58  21.2\n",
       "1       Alaska    10.0      263        48  44.5\n",
       "2      Arizona     8.1      294        80  31.0\n",
       "3     Arkansas     8.8      190        50  19.5\n",
       "4   California     9.0      276        91  40.6\n",
       "5     Colorado     7.9      204        78  38.7\n",
       "6  Connecticut     3.3      110        77  11.1\n",
       "7     Delaware     5.9      238        72  15.8\n",
       "8      Florida    15.4      335        80  31.9\n",
       "9      Georgia    17.4      211        60  25.8"
      ]
     },
     "execution_count": 3,
     "metadata": {},
     "output_type": "execute_result"
    }
   ],
   "source": [
    "#load data\n",
    "crime=pd.read_csv(\"crime_data.csv\")\n",
    "crime.head(10)"
   ]
  },
  {
   "cell_type": "code",
   "execution_count": 4,
   "id": "900342d0",
   "metadata": {
    "ExecuteTime": {
     "end_time": "2023-03-16T13:10:07.525447Z",
     "start_time": "2023-03-16T13:10:07.449423Z"
    }
   },
   "outputs": [
    {
     "data": {
      "text/plain": [
       "(50, 5)"
      ]
     },
     "execution_count": 4,
     "metadata": {},
     "output_type": "execute_result"
    }
   ],
   "source": [
    "crime.shape"
   ]
  },
  {
   "cell_type": "code",
   "execution_count": 5,
   "id": "e33f0198",
   "metadata": {
    "ExecuteTime": {
     "end_time": "2023-03-16T13:10:07.603382Z",
     "start_time": "2023-03-16T13:10:07.527450Z"
    }
   },
   "outputs": [
    {
     "name": "stdout",
     "output_type": "stream",
     "text": [
      "<class 'pandas.core.frame.DataFrame'>\n",
      "RangeIndex: 50 entries, 0 to 49\n",
      "Data columns (total 5 columns):\n",
      " #   Column      Non-Null Count  Dtype  \n",
      "---  ------      --------------  -----  \n",
      " 0   Unnamed: 0  50 non-null     object \n",
      " 1   Murder      50 non-null     float64\n",
      " 2   Assault     50 non-null     int64  \n",
      " 3   UrbanPop    50 non-null     int64  \n",
      " 4   Rape        50 non-null     float64\n",
      "dtypes: float64(2), int64(2), object(1)\n",
      "memory usage: 2.1+ KB\n"
     ]
    }
   ],
   "source": [
    "crime.info()"
   ]
  },
  {
   "cell_type": "code",
   "execution_count": 6,
   "id": "0d640328",
   "metadata": {
    "ExecuteTime": {
     "end_time": "2023-03-16T13:10:07.696423Z",
     "start_time": "2023-03-16T13:10:07.605383Z"
    }
   },
   "outputs": [],
   "source": [
    "#Normalization Function\n",
    "def norm_func(i):\n",
    "    x = (i-i.min())/(i.max()-i.min())\n",
    "    return (x)"
   ]
  },
  {
   "cell_type": "code",
   "execution_count": 7,
   "id": "e6bb1302",
   "metadata": {
    "ExecuteTime": {
     "end_time": "2023-03-16T13:10:07.790453Z",
     "start_time": "2023-03-16T13:10:07.698424Z"
    }
   },
   "outputs": [
    {
     "data": {
      "text/html": [
       "<div>\n",
       "<style scoped>\n",
       "    .dataframe tbody tr th:only-of-type {\n",
       "        vertical-align: middle;\n",
       "    }\n",
       "\n",
       "    .dataframe tbody tr th {\n",
       "        vertical-align: top;\n",
       "    }\n",
       "\n",
       "    .dataframe thead th {\n",
       "        text-align: right;\n",
       "    }\n",
       "</style>\n",
       "<table border=\"1\" class=\"dataframe\">\n",
       "  <thead>\n",
       "    <tr style=\"text-align: right;\">\n",
       "      <th></th>\n",
       "      <th>Murder</th>\n",
       "      <th>Assault</th>\n",
       "      <th>UrbanPop</th>\n",
       "      <th>Rape</th>\n",
       "    </tr>\n",
       "  </thead>\n",
       "  <tbody>\n",
       "    <tr>\n",
       "      <th>count</th>\n",
       "      <td>50.000000</td>\n",
       "      <td>50.000000</td>\n",
       "      <td>50.000000</td>\n",
       "      <td>50.000000</td>\n",
       "    </tr>\n",
       "    <tr>\n",
       "      <th>mean</th>\n",
       "      <td>0.420964</td>\n",
       "      <td>0.430685</td>\n",
       "      <td>0.568475</td>\n",
       "      <td>0.360000</td>\n",
       "    </tr>\n",
       "    <tr>\n",
       "      <th>std</th>\n",
       "      <td>0.262380</td>\n",
       "      <td>0.285403</td>\n",
       "      <td>0.245335</td>\n",
       "      <td>0.242025</td>\n",
       "    </tr>\n",
       "    <tr>\n",
       "      <th>min</th>\n",
       "      <td>0.000000</td>\n",
       "      <td>0.000000</td>\n",
       "      <td>0.000000</td>\n",
       "      <td>0.000000</td>\n",
       "    </tr>\n",
       "    <tr>\n",
       "      <th>25%</th>\n",
       "      <td>0.197289</td>\n",
       "      <td>0.219178</td>\n",
       "      <td>0.381356</td>\n",
       "      <td>0.200904</td>\n",
       "    </tr>\n",
       "    <tr>\n",
       "      <th>50%</th>\n",
       "      <td>0.388554</td>\n",
       "      <td>0.390411</td>\n",
       "      <td>0.576271</td>\n",
       "      <td>0.330749</td>\n",
       "    </tr>\n",
       "    <tr>\n",
       "      <th>75%</th>\n",
       "      <td>0.629518</td>\n",
       "      <td>0.698630</td>\n",
       "      <td>0.775424</td>\n",
       "      <td>0.487726</td>\n",
       "    </tr>\n",
       "    <tr>\n",
       "      <th>max</th>\n",
       "      <td>1.000000</td>\n",
       "      <td>1.000000</td>\n",
       "      <td>1.000000</td>\n",
       "      <td>1.000000</td>\n",
       "    </tr>\n",
       "  </tbody>\n",
       "</table>\n",
       "</div>"
      ],
      "text/plain": [
       "          Murder    Assault   UrbanPop       Rape\n",
       "count  50.000000  50.000000  50.000000  50.000000\n",
       "mean    0.420964   0.430685   0.568475   0.360000\n",
       "std     0.262380   0.285403   0.245335   0.242025\n",
       "min     0.000000   0.000000   0.000000   0.000000\n",
       "25%     0.197289   0.219178   0.381356   0.200904\n",
       "50%     0.388554   0.390411   0.576271   0.330749\n",
       "75%     0.629518   0.698630   0.775424   0.487726\n",
       "max     1.000000   1.000000   1.000000   1.000000"
      ]
     },
     "execution_count": 7,
     "metadata": {},
     "output_type": "execute_result"
    }
   ],
   "source": [
    "# Normalized data frame (considering the numerical part of data)\n",
    "df_norm = norm_func(crime.iloc[:,1:])\n",
    "df_norm.describe()"
   ]
  },
  {
   "cell_type": "code",
   "execution_count": 8,
   "id": "01724fec",
   "metadata": {
    "ExecuteTime": {
     "end_time": "2023-03-16T13:10:07.821760Z",
     "start_time": "2023-03-16T13:10:07.792457Z"
    }
   },
   "outputs": [],
   "source": [
    "from scipy.cluster.hierarchy import linkage \n",
    "import scipy.cluster.hierarchy as sch "
   ]
  },
  {
   "cell_type": "code",
   "execution_count": 9,
   "id": "0424b49b",
   "metadata": {
    "ExecuteTime": {
     "end_time": "2023-03-16T13:10:07.991818Z",
     "start_time": "2023-03-16T13:10:07.823763Z"
    }
   },
   "outputs": [],
   "source": [
    "# for creating dendrogram"
   ]
  },
  {
   "cell_type": "code",
   "execution_count": 10,
   "id": "616aa119",
   "metadata": {
    "ExecuteTime": {
     "end_time": "2023-03-16T13:10:08.117618Z",
     "start_time": "2023-03-16T13:10:07.996816Z"
    }
   },
   "outputs": [
    {
     "data": {
      "text/plain": [
       "array([[1.40000000e+01, 2.80000000e+01, 4.99862313e-02, 2.00000000e+00],\n",
       "       [1.20000000e+01, 3.10000000e+01, 8.71860232e-02, 2.00000000e+00],\n",
       "       [1.30000000e+01, 1.50000000e+01, 1.07560045e-01, 2.00000000e+00],\n",
       "       [2.20000000e+01, 4.80000000e+01, 1.24475500e-01, 2.00000000e+00],\n",
       "       [1.90000000e+01, 3.00000000e+01, 1.32688717e-01, 2.00000000e+00],\n",
       "       [3.50000000e+01, 4.50000000e+01, 1.44578065e-01, 2.00000000e+00],\n",
       "       [3.60000000e+01, 4.60000000e+01, 1.48312560e-01, 2.00000000e+00],\n",
       "       [1.80000000e+01, 5.00000000e+01, 1.64643019e-01, 3.00000000e+00],\n",
       "       [4.00000000e+01, 4.70000000e+01, 1.78647476e-01, 2.00000000e+00],\n",
       "       [4.90000000e+01, 5.50000000e+01, 1.80637986e-01, 3.00000000e+00],\n",
       "       [2.50000000e+01, 2.60000000e+01, 1.85305888e-01, 2.00000000e+00],\n",
       "       [3.40000000e+01, 3.70000000e+01, 1.91633219e-01, 2.00000000e+00],\n",
       "       [0.00000000e+00, 1.70000000e+01, 1.96467627e-01, 2.00000000e+00],\n",
       "       [2.30000000e+01, 3.90000000e+01, 1.98104543e-01, 2.00000000e+00],\n",
       "       [5.20000000e+01, 6.10000000e+01, 2.05998779e-01, 4.00000000e+00],\n",
       "       [2.00000000e+01, 2.90000000e+01, 2.06405099e-01, 2.00000000e+00],\n",
       "       [1.10000000e+01, 6.00000000e+01, 2.16538623e-01, 3.00000000e+00],\n",
       "       [4.20000000e+01, 5.10000000e+01, 2.29819788e-01, 3.00000000e+00],\n",
       "       [3.30000000e+01, 4.40000000e+01, 2.42366264e-01, 2.00000000e+00],\n",
       "       [9.00000000e+00, 4.10000000e+01, 2.67047825e-01, 2.00000000e+00],\n",
       "       [6.00000000e+00, 5.30000000e+01, 2.73319585e-01, 3.00000000e+00],\n",
       "       [2.10000000e+01, 5.40000000e+01, 2.75191180e-01, 3.00000000e+00],\n",
       "       [1.00000000e+01, 4.30000000e+01, 2.96109424e-01, 2.00000000e+00],\n",
       "       [3.00000000e+00, 1.60000000e+01, 2.96437177e-01, 2.00000000e+00],\n",
       "       [6.20000000e+01, 6.90000000e+01, 3.00051588e-01, 4.00000000e+00],\n",
       "       [4.00000000e+00, 2.70000000e+01, 3.03502126e-01, 2.00000000e+00],\n",
       "       [2.00000000e+00, 7.10000000e+01, 3.12198814e-01, 4.00000000e+00],\n",
       "       [5.00000000e+00, 2.40000000e+01, 3.22983376e-01, 2.00000000e+00],\n",
       "       [3.20000000e+01, 6.30000000e+01, 3.27390069e-01, 3.00000000e+00],\n",
       "       [5.90000000e+01, 6.40000000e+01, 3.28207764e-01, 7.00000000e+00],\n",
       "       [5.80000000e+01, 6.80000000e+01, 3.34938999e-01, 4.00000000e+00],\n",
       "       [5.70000000e+01, 6.60000000e+01, 3.48259065e-01, 6.00000000e+00],\n",
       "       [3.80000000e+01, 6.50000000e+01, 3.68055569e-01, 3.00000000e+00],\n",
       "       [7.00000000e+00, 8.20000000e+01, 4.15829960e-01, 4.00000000e+00],\n",
       "       [5.60000000e+01, 7.90000000e+01, 4.30920627e-01, 9.00000000e+00],\n",
       "       [6.70000000e+01, 7.60000000e+01, 4.45448922e-01, 7.00000000e+00],\n",
       "       [7.00000000e+01, 7.20000000e+01, 4.56089408e-01, 5.00000000e+00],\n",
       "       [7.70000000e+01, 8.50000000e+01, 5.13933573e-01, 9.00000000e+00],\n",
       "       [8.00000000e+00, 7.50000000e+01, 5.24182085e-01, 3.00000000e+00],\n",
       "       [7.30000000e+01, 8.40000000e+01, 5.70292660e-01, 1.10000000e+01],\n",
       "       [8.00000000e+01, 8.10000000e+01, 5.72280859e-01, 1.00000000e+01],\n",
       "       [7.40000000e+01, 7.80000000e+01, 6.28259724e-01, 7.00000000e+00],\n",
       "       [8.70000000e+01, 8.80000000e+01, 6.89638484e-01, 1.20000000e+01],\n",
       "       [8.30000000e+01, 8.60000000e+01, 6.93789893e-01, 9.00000000e+00],\n",
       "       [8.90000000e+01, 9.30000000e+01, 7.75126334e-01, 2.00000000e+01],\n",
       "       [1.00000000e+00, 9.10000000e+01, 8.00685195e-01, 8.00000000e+00],\n",
       "       [9.20000000e+01, 9.50000000e+01, 1.09071001e+00, 2.00000000e+01],\n",
       "       [9.00000000e+01, 9.40000000e+01, 1.10206630e+00, 3.00000000e+01],\n",
       "       [9.60000000e+01, 9.70000000e+01, 1.59572503e+00, 5.00000000e+01]])"
      ]
     },
     "execution_count": 10,
     "metadata": {},
     "output_type": "execute_result"
    }
   ],
   "source": [
    "z = linkage(df_norm, method=\"complete\",metric=\"euclidean\")\n",
    "z"
   ]
  },
  {
   "cell_type": "code",
   "execution_count": 11,
   "id": "61ce39e1",
   "metadata": {
    "ExecuteTime": {
     "end_time": "2023-03-16T13:10:08.241555Z",
     "start_time": "2023-03-16T13:10:08.119635Z"
    }
   },
   "outputs": [
    {
     "data": {
      "text/html": [
       "<div>\n",
       "<style scoped>\n",
       "    .dataframe tbody tr th:only-of-type {\n",
       "        vertical-align: middle;\n",
       "    }\n",
       "\n",
       "    .dataframe tbody tr th {\n",
       "        vertical-align: top;\n",
       "    }\n",
       "\n",
       "    .dataframe thead th {\n",
       "        text-align: right;\n",
       "    }\n",
       "</style>\n",
       "<table border=\"1\" class=\"dataframe\">\n",
       "  <thead>\n",
       "    <tr style=\"text-align: right;\">\n",
       "      <th></th>\n",
       "      <th>Murder</th>\n",
       "      <th>Assault</th>\n",
       "      <th>UrbanPop</th>\n",
       "      <th>Rape</th>\n",
       "    </tr>\n",
       "  </thead>\n",
       "  <tbody>\n",
       "    <tr>\n",
       "      <th>Murder</th>\n",
       "      <td>1.000000</td>\n",
       "      <td>0.801873</td>\n",
       "      <td>0.069573</td>\n",
       "      <td>0.563579</td>\n",
       "    </tr>\n",
       "    <tr>\n",
       "      <th>Assault</th>\n",
       "      <td>0.801873</td>\n",
       "      <td>1.000000</td>\n",
       "      <td>0.258872</td>\n",
       "      <td>0.665241</td>\n",
       "    </tr>\n",
       "    <tr>\n",
       "      <th>UrbanPop</th>\n",
       "      <td>0.069573</td>\n",
       "      <td>0.258872</td>\n",
       "      <td>1.000000</td>\n",
       "      <td>0.411341</td>\n",
       "    </tr>\n",
       "    <tr>\n",
       "      <th>Rape</th>\n",
       "      <td>0.563579</td>\n",
       "      <td>0.665241</td>\n",
       "      <td>0.411341</td>\n",
       "      <td>1.000000</td>\n",
       "    </tr>\n",
       "  </tbody>\n",
       "</table>\n",
       "</div>"
      ],
      "text/plain": [
       "            Murder   Assault  UrbanPop      Rape\n",
       "Murder    1.000000  0.801873  0.069573  0.563579\n",
       "Assault   0.801873  1.000000  0.258872  0.665241\n",
       "UrbanPop  0.069573  0.258872  1.000000  0.411341\n",
       "Rape      0.563579  0.665241  0.411341  1.000000"
      ]
     },
     "execution_count": 11,
     "metadata": {},
     "output_type": "execute_result"
    }
   ],
   "source": [
    "crime.corr()"
   ]
  },
  {
   "cell_type": "code",
   "execution_count": 12,
   "id": "f9fe18f7",
   "metadata": {
    "ExecuteTime": {
     "end_time": "2023-03-16T13:10:08.412097Z",
     "start_time": "2023-03-16T13:10:08.243543Z"
    }
   },
   "outputs": [],
   "source": [
    "#Graphical Visualization"
   ]
  },
  {
   "cell_type": "code",
   "execution_count": 13,
   "id": "204b0371",
   "metadata": {
    "ExecuteTime": {
     "end_time": "2023-03-16T13:10:09.550476Z",
     "start_time": "2023-03-16T13:10:08.414108Z"
    }
   },
   "outputs": [
    {
     "data": {
      "image/png": "[encoded data removed]",
      "text/plain": [
       "<Figure size 1800x600 with 1 Axes>"
      ]
     },
     "metadata": {},
     "output_type": "display_data"
    }
   ],
   "source": [
    "plt.figure(figsize=(18, 6))\n",
    "plt.title('Hierarchical Clustering Dendrogram')\n",
    "plt.xlabel('Features')\n",
    "plt.ylabel('Crime')\n",
    "sch.dendrogram(z,\n",
    "    leaf_rotation=0.,  # rotates the x axis labels\n",
    "    leaf_font_size=8.,  # font size for the x axis labels\n",
    ")\n",
    "plt.show()\n"
   ]
  },
  {
   "cell_type": "code",
   "execution_count": 14,
   "id": "2be677a2",
   "metadata": {
    "ExecuteTime": {
     "end_time": "2023-03-16T13:10:09.565486Z",
     "start_time": "2023-03-16T13:10:09.552481Z"
    }
   },
   "outputs": [
    {
     "data": {
      "text/plain": [
       "[2, 3, 4, 5, 6, 7, 8, 9, 10, 11, 12, 13, 14]"
      ]
     },
     "execution_count": 14,
     "metadata": {},
     "output_type": "execute_result"
    }
   ],
   "source": [
    "#screw plot / elbow curve\n",
    "k = list(range(2,15))\n",
    "k"
   ]
  },
  {
   "cell_type": "code",
   "execution_count": 15,
   "id": "768717ae",
   "metadata": {
    "ExecuteTime": {
     "end_time": "2023-03-16T13:10:09.627493Z",
     "start_time": "2023-03-16T13:10:09.567489Z"
    }
   },
   "outputs": [],
   "source": [
    "from sklearn.cluster import\tKMeans\n",
    "from scipy.spatial.distance import cdist \n",
    "import numpy as np"
   ]
  },
  {
   "cell_type": "code",
   "execution_count": 16,
   "id": "9b42d49d",
   "metadata": {
    "ExecuteTime": {
     "end_time": "2023-03-16T13:10:13.026870Z",
     "start_time": "2023-03-16T13:10:09.629506Z"
    }
   },
   "outputs": [],
   "source": [
    "TWSS = [] # variable for storing total within sum of squares for each kmeans \n",
    "for i in k:\n",
    "    kmeans = KMeans(n_clusters = i)\n",
    "    kmeans.fit(df_norm)\n",
    "    WSS = [] # variable for storing within sum of squares for each cluster \n",
    "    for j in range(i):\n",
    "        WSS.append(sum(cdist(df_norm.iloc[kmeans.labels_==j,:],kmeans.cluster_centers_[j].reshape(1,df_norm.shape[1]),\"euclidean\")))\n",
    "    TWSS.append(sum(WSS))"
   ]
  },
  {
   "cell_type": "code",
   "execution_count": 17,
   "id": "509482eb",
   "metadata": {
    "ExecuteTime": {
     "end_time": "2023-03-16T13:10:13.200791Z",
     "start_time": "2023-03-16T13:10:13.026870Z"
    }
   },
   "outputs": [
    {
     "data": {
      "text/plain": [
       "([<matplotlib.axis.XTick at 0x1cddd808a30>,\n",
       "  <matplotlib.axis.XTick at 0x1cddd808580>,\n",
       "  <matplotlib.axis.XTick at 0x1cddd069580>,\n",
       "  <matplotlib.axis.XTick at 0x1cddd0a4340>,\n",
       "  <matplotlib.axis.XTick at 0x1cddd0a4a90>,\n",
       "  <matplotlib.axis.XTick at 0x1cddd0ac220>,\n",
       "  <matplotlib.axis.XTick at 0x1cddd0a4af0>,\n",
       "  <matplotlib.axis.XTick at 0x1cddd0ac250>,\n",
       "  <matplotlib.axis.XTick at 0x1cddd0b2070>,\n",
       "  <matplotlib.axis.XTick at 0x1cddd0b2730>,\n",
       "  <matplotlib.axis.XTick at 0x1cddd0b2e80>,\n",
       "  <matplotlib.axis.XTick at 0x1cddd0b9610>,\n",
       "  <matplotlib.axis.XTick at 0x1cddd0b2ee0>],\n",
       " [Text(0, 0, ''),\n",
       "  Text(0, 0, ''),\n",
       "  Text(0, 0, ''),\n",
       "  Text(0, 0, ''),\n",
       "  Text(0, 0, ''),\n",
       "  Text(0, 0, ''),\n",
       "  Text(0, 0, ''),\n",
       "  Text(0, 0, ''),\n",
       "  Text(0, 0, ''),\n",
       "  Text(0, 0, ''),\n",
       "  Text(0, 0, ''),\n",
       "  Text(0, 0, ''),\n",
       "  Text(0, 0, '')])"
      ]
     },
     "execution_count": 17,
     "metadata": {},
     "output_type": "execute_result"
    },
    {
     "data": {
      "image/png": "[encoded data removed]",
      "text/plain": [
       "<Figure size 1600x600 with 1 Axes>"
      ]
     },
     "metadata": {},
     "output_type": "display_data"
    }
   ],
   "source": [
    "# Scree plot \n",
    "plt.figure(figsize=(16,6))\n",
    "plt.plot(k,TWSS,'ro-');plt.xlabel(\"No_of_Clusters\");plt.ylabel(\"total_within_SS\");plt.xticks(k)"
   ]
  },
  {
   "cell_type": "code",
   "execution_count": 18,
   "id": "53172baf",
   "metadata": {
    "ExecuteTime": {
     "end_time": "2023-03-16T13:10:13.216793Z",
     "start_time": "2023-03-16T13:10:13.202796Z"
    }
   },
   "outputs": [],
   "source": [
    "# The elbow appear to be smoothening out after four clusters indicating that the optimal number of clusters is 4."
   ]
  },
  {
   "cell_type": "code",
   "execution_count": 19,
   "id": "159269c0",
   "metadata": {
    "ExecuteTime": {
     "end_time": "2023-03-16T13:10:13.487248Z",
     "start_time": "2023-03-16T13:10:13.218794Z"
    }
   },
   "outputs": [
    {
     "data": {
      "text/html": [
       "<style>#sk-container-id-1 {color: black;background-color: white;}#sk-container-id-1 pre{padding: 0;}#sk-container-id-1 div.sk-toggleable {background-color: white;}#sk-container-id-1 label.sk-toggleable__label {cursor: pointer;display: block;width: 100%;margin-bottom: 0;padding: 0.3em;box-sizing: border-box;text-align: center;}#sk-container-id-1 label.sk-toggleable__label-arrow:before {content: \"▸\";float: left;margin-right: 0.25em;color: #696969;}#sk-container-id-1 label.sk-toggleable__label-arrow:hover:before {color: black;}#sk-container-id-1 div.sk-estimator:hover label.sk-toggleable__label-arrow:before {color: black;}#sk-container-id-1 div.sk-toggleable__content {max-height: 0;max-width: 0;overflow: hidden;text-align: left;background-color: #f0f8ff;}#sk-container-id-1 div.sk-toggleable__content pre {margin: 0.2em;color: black;border-radius: 0.25em;background-color: #f0f8ff;}#sk-container-id-1 input.sk-toggleable__control:checked~div.sk-toggleable__content {max-height: 200px;max-width: 100%;overflow: auto;}#sk-container-id-1 input.sk-toggleable__control:checked~label.sk-toggleable__label-arrow:before {content: \"▾\";}#sk-container-id-1 div.sk-estimator input.sk-toggleable__control:checked~label.sk-toggleable__label {background-color: #d4ebff;}#sk-container-id-1 div.sk-label input.sk-toggleable__control:checked~label.sk-toggleable__label {background-color: #d4ebff;}#sk-container-id-1 input.sk-hidden--visually {border: 0;clip: rect(1px 1px 1px 1px);clip: rect(1px, 1px, 1px, 1px);height: 1px;margin: -1px;overflow: hidden;padding: 0;position: absolute;width: 1px;}#sk-container-id-1 div.sk-estimator {font-family: monospace;background-color: #f0f8ff;border: 1px dotted black;border-radius: 0.25em;box-sizing: border-box;margin-bottom: 0.5em;}#sk-container-id-1 div.sk-estimator:hover {background-color: #d4ebff;}#sk-container-id-1 div.sk-parallel-item::after {content: \"\";width: 100%;border-bottom: 1px solid gray;flex-grow: 1;}#sk-container-id-1 div.sk-label:hover label.sk-toggleable__label {background-color: #d4ebff;}#sk-container-id-1 div.sk-serial::before {content: \"\";position: absolute;border-left: 1px solid gray;box-sizing: border-box;top: 0;bottom: 0;left: 50%;z-index: 0;}#sk-container-id-1 div.sk-serial {display: flex;flex-direction: column;align-items: center;background-color: white;padding-right: 0.2em;padding-left: 0.2em;position: relative;}#sk-container-id-1 div.sk-item {position: relative;z-index: 1;}#sk-container-id-1 div.sk-parallel {display: flex;align-items: stretch;justify-content: center;background-color: white;position: relative;}#sk-container-id-1 div.sk-item::before, #sk-container-id-1 div.sk-parallel-item::before {content: \"\";position: absolute;border-left: 1px solid gray;box-sizing: border-box;top: 0;bottom: 0;left: 50%;z-index: -1;}#sk-container-id-1 div.sk-parallel-item {display: flex;flex-direction: column;z-index: 1;position: relative;background-color: white;}#sk-container-id-1 div.sk-parallel-item:first-child::after {align-self: flex-end;width: 50%;}#sk-container-id-1 div.sk-parallel-item:last-child::after {align-self: flex-start;width: 50%;}#sk-container-id-1 div.sk-parallel-item:only-child::after {width: 0;}#sk-container-id-1 div.sk-dashed-wrapped {border: 1px dashed gray;margin: 0 0.4em 0.5em 0.4em;box-sizing: border-box;padding-bottom: 0.4em;background-color: white;}#sk-container-id-1 div.sk-label label {font-family: monospace;font-weight: bold;display: inline-block;line-height: 1.2em;}#sk-container-id-1 div.sk-label-container {text-align: center;}#sk-container-id-1 div.sk-container {/* jupyter's `normalize.less` sets `[hidden] { display: none; }` but bootstrap.min.css set `[hidden] { display: none !important; }` so we also need the `!important` here to be able to override the default hidden behavior on the sphinx rendered scikit-learn.org. See: https://github.com/scikit-learn/scikit-learn/issues/21755 */display: inline-block !important;position: relative;}#sk-container-id-1 div.sk-text-repr-fallback {display: none;}</style><div id=\"sk-container-id-1\" class=\"sk-top-container\"><div class=\"sk-text-repr-fallback\"><pre>KMeans(n_clusters=4)</pre><b>In a Jupyter environment, please rerun this cell to show the HTML representation or trust the notebook. <br />On GitHub, the HTML representation is unable to render, please try loading this page with nbviewer.org.</b></div><div class=\"sk-container\" hidden><div class=\"sk-item\"><div class=\"sk-estimator sk-toggleable\"><input class=\"sk-toggleable__control sk-hidden--visually\" id=\"sk-estimator-id-1\" type=\"checkbox\" checked><label for=\"sk-estimator-id-1\" class=\"sk-toggleable__label sk-toggleable__label-arrow\">KMeans</label><div class=\"sk-toggleable__content\"><pre>KMeans(n_clusters=4)</pre></div></div></div></div></div>"
      ],
      "text/plain": [
       "KMeans(n_clusters=4)"
      ]
     },
     "execution_count": 19,
     "metadata": {},
     "output_type": "execute_result"
    }
   ],
   "source": [
    "# Selecting 4 clusters from the above scree plot which is the optimum number of clusters \n",
    "model=KMeans(n_clusters=4) \n",
    "model.fit(df_norm)"
   ]
  },
  {
   "cell_type": "code",
   "execution_count": 20,
   "id": "e4dec314",
   "metadata": {
    "ExecuteTime": {
     "end_time": "2023-03-16T13:10:13.502252Z",
     "start_time": "2023-03-16T13:10:13.489250Z"
    }
   },
   "outputs": [
    {
     "data": {
      "text/html": [
       "<style>#sk-container-id-2 {color: black;background-color: white;}#sk-container-id-2 pre{padding: 0;}#sk-container-id-2 div.sk-toggleable {background-color: white;}#sk-container-id-2 label.sk-toggleable__label {cursor: pointer;display: block;width: 100%;margin-bottom: 0;padding: 0.3em;box-sizing: border-box;text-align: center;}#sk-container-id-2 label.sk-toggleable__label-arrow:before {content: \"▸\";float: left;margin-right: 0.25em;color: #696969;}#sk-container-id-2 label.sk-toggleable__label-arrow:hover:before {color: black;}#sk-container-id-2 div.sk-estimator:hover label.sk-toggleable__label-arrow:before {color: black;}#sk-container-id-2 div.sk-toggleable__content {max-height: 0;max-width: 0;overflow: hidden;text-align: left;background-color: #f0f8ff;}#sk-container-id-2 div.sk-toggleable__content pre {margin: 0.2em;color: black;border-radius: 0.25em;background-color: #f0f8ff;}#sk-container-id-2 input.sk-toggleable__control:checked~div.sk-toggleable__content {max-height: 200px;max-width: 100%;overflow: auto;}#sk-container-id-2 input.sk-toggleable__control:checked~label.sk-toggleable__label-arrow:before {content: \"▾\";}#sk-container-id-2 div.sk-estimator input.sk-toggleable__control:checked~label.sk-toggleable__label {background-color: #d4ebff;}#sk-container-id-2 div.sk-label input.sk-toggleable__control:checked~label.sk-toggleable__label {background-color: #d4ebff;}#sk-container-id-2 input.sk-hidden--visually {border: 0;clip: rect(1px 1px 1px 1px);clip: rect(1px, 1px, 1px, 1px);height: 1px;margin: -1px;overflow: hidden;padding: 0;position: absolute;width: 1px;}#sk-container-id-2 div.sk-estimator {font-family: monospace;background-color: #f0f8ff;border: 1px dotted black;border-radius: 0.25em;box-sizing: border-box;margin-bottom: 0.5em;}#sk-container-id-2 div.sk-estimator:hover {background-color: #d4ebff;}#sk-container-id-2 div.sk-parallel-item::after {content: \"\";width: 100%;border-bottom: 1px solid gray;flex-grow: 1;}#sk-container-id-2 div.sk-label:hover label.sk-toggleable__label {background-color: #d4ebff;}#sk-container-id-2 div.sk-serial::before {content: \"\";position: absolute;border-left: 1px solid gray;box-sizing: border-box;top: 0;bottom: 0;left: 50%;z-index: 0;}#sk-container-id-2 div.sk-serial {display: flex;flex-direction: column;align-items: center;background-color: white;padding-right: 0.2em;padding-left: 0.2em;position: relative;}#sk-container-id-2 div.sk-item {position: relative;z-index: 1;}#sk-container-id-2 div.sk-parallel {display: flex;align-items: stretch;justify-content: center;background-color: white;position: relative;}#sk-container-id-2 div.sk-item::before, #sk-container-id-2 div.sk-parallel-item::before {content: \"\";position: absolute;border-left: 1px solid gray;box-sizing: border-box;top: 0;bottom: 0;left: 50%;z-index: -1;}#sk-container-id-2 div.sk-parallel-item {display: flex;flex-direction: column;z-index: 1;position: relative;background-color: white;}#sk-container-id-2 div.sk-parallel-item:first-child::after {align-self: flex-end;width: 50%;}#sk-container-id-2 div.sk-parallel-item:last-child::after {align-self: flex-start;width: 50%;}#sk-container-id-2 div.sk-parallel-item:only-child::after {width: 0;}#sk-container-id-2 div.sk-dashed-wrapped {border: 1px dashed gray;margin: 0 0.4em 0.5em 0.4em;box-sizing: border-box;padding-bottom: 0.4em;background-color: white;}#sk-container-id-2 div.sk-label label {font-family: monospace;font-weight: bold;display: inline-block;line-height: 1.2em;}#sk-container-id-2 div.sk-label-container {text-align: center;}#sk-container-id-2 div.sk-container {/* jupyter's `normalize.less` sets `[hidden] { display: none; }` but bootstrap.min.css set `[hidden] { display: none !important; }` so we also need the `!important` here to be able to override the default hidden behavior on the sphinx rendered scikit-learn.org. See: https://github.com/scikit-learn/scikit-learn/issues/21755 */display: inline-block !important;position: relative;}#sk-container-id-2 div.sk-text-repr-fallback {display: none;}</style><div id=\"sk-container-id-2\" class=\"sk-top-container\"><div class=\"sk-text-repr-fallback\"><pre>KMeans(algorithm=&#x27;auto&#x27;, n_clusters=4, n_init=10)</pre><b>In a Jupyter environment, please rerun this cell to show the HTML representation or trust the notebook. <br />On GitHub, the HTML representation is unable to render, please try loading this page with nbviewer.org.</b></div><div class=\"sk-container\" hidden><div class=\"sk-item\"><div class=\"sk-estimator sk-toggleable\"><input class=\"sk-toggleable__control sk-hidden--visually\" id=\"sk-estimator-id-2\" type=\"checkbox\" checked><label for=\"sk-estimator-id-2\" class=\"sk-toggleable__label sk-toggleable__label-arrow\">KMeans</label><div class=\"sk-toggleable__content\"><pre>KMeans(algorithm=&#x27;auto&#x27;, n_clusters=4, n_init=10)</pre></div></div></div></div></div>"
      ],
      "text/plain": [
       "KMeans(algorithm='auto', n_clusters=4, n_init=10)"
      ]
     },
     "execution_count": 20,
     "metadata": {},
     "output_type": "execute_result"
    }
   ],
   "source": [
    "KMeans(algorithm='auto', copy_x=True, init='k-means++', max_iter=300,\n",
    "    n_clusters=4, n_init=10,\n",
    "    random_state=None, tol=0.0001, verbose=0)"
   ]
  },
  {
   "cell_type": "code",
   "execution_count": 21,
   "id": "c8bf4f48",
   "metadata": {
    "ExecuteTime": {
     "end_time": "2023-03-16T13:10:13.597262Z",
     "start_time": "2023-03-16T13:10:13.504251Z"
    }
   },
   "outputs": [
    {
     "data": {
      "text/plain": [
       "array([3, 1, 1, 3, 1, 1, 0, 0, 1, 3, 0, 2, 1, 0, 2, 0, 2, 3, 2, 1, 0, 1,\n",
       "       2, 3, 1, 2, 2, 1, 2, 0, 1, 1, 3, 2, 0, 0, 0, 0, 0, 3, 2, 3, 1, 0,\n",
       "       2, 0, 0, 2, 2, 0])"
      ]
     },
     "execution_count": 21,
     "metadata": {},
     "output_type": "execute_result"
    }
   ],
   "source": [
    "model.labels_ # getting the labels of clusters assigned to each row "
   ]
  },
  {
   "cell_type": "code",
   "execution_count": 22,
   "id": "7735d9dd",
   "metadata": {
    "ExecuteTime": {
     "end_time": "2023-03-16T13:10:13.708155Z",
     "start_time": "2023-03-16T13:10:13.599264Z"
    }
   },
   "outputs": [
    {
     "data": {
      "text/plain": [
       "array([[0.29254518, 0.32148973, 0.70974576, 0.29667313],\n",
       "       [0.60333642, 0.72734457, 0.74576271, 0.66905188],\n",
       "       [0.1686747 , 0.11485774, 0.34028683, 0.12601868],\n",
       "       [0.79141566, 0.6802226 , 0.36864407, 0.36466408]])"
      ]
     },
     "execution_count": 22,
     "metadata": {},
     "output_type": "execute_result"
    }
   ],
   "source": [
    "model.cluster_centers_"
   ]
  },
  {
   "cell_type": "code",
   "execution_count": 23,
   "id": "ef06baa2",
   "metadata": {
    "ExecuteTime": {
     "end_time": "2023-03-16T13:10:14.104417Z",
     "start_time": "2023-03-16T13:10:13.710158Z"
    }
   },
   "outputs": [
    {
     "data": {
      "text/html": [
       "<div>\n",
       "<style scoped>\n",
       "    .dataframe tbody tr th:only-of-type {\n",
       "        vertical-align: middle;\n",
       "    }\n",
       "\n",
       "    .dataframe tbody tr th {\n",
       "        vertical-align: top;\n",
       "    }\n",
       "\n",
       "    .dataframe thead th {\n",
       "        text-align: right;\n",
       "    }\n",
       "</style>\n",
       "<table border=\"1\" class=\"dataframe\">\n",
       "  <thead>\n",
       "    <tr style=\"text-align: right;\">\n",
       "      <th></th>\n",
       "      <th>Murder</th>\n",
       "      <th>Assault</th>\n",
       "      <th>Rape</th>\n",
       "      <th>UrbanPop</th>\n",
       "    </tr>\n",
       "  </thead>\n",
       "  <tbody>\n",
       "    <tr>\n",
       "      <th>0</th>\n",
       "      <td>13.2</td>\n",
       "      <td>236</td>\n",
       "      <td>21.2</td>\n",
       "      <td>58</td>\n",
       "    </tr>\n",
       "    <tr>\n",
       "      <th>1</th>\n",
       "      <td>10.0</td>\n",
       "      <td>263</td>\n",
       "      <td>44.5</td>\n",
       "      <td>48</td>\n",
       "    </tr>\n",
       "    <tr>\n",
       "      <th>2</th>\n",
       "      <td>8.1</td>\n",
       "      <td>294</td>\n",
       "      <td>31.0</td>\n",
       "      <td>80</td>\n",
       "    </tr>\n",
       "    <tr>\n",
       "      <th>3</th>\n",
       "      <td>8.8</td>\n",
       "      <td>190</td>\n",
       "      <td>19.5</td>\n",
       "      <td>50</td>\n",
       "    </tr>\n",
       "    <tr>\n",
       "      <th>4</th>\n",
       "      <td>9.0</td>\n",
       "      <td>276</td>\n",
       "      <td>40.6</td>\n",
       "      <td>91</td>\n",
       "    </tr>\n",
       "  </tbody>\n",
       "</table>\n",
       "</div>"
      ],
      "text/plain": [
       "   Murder  Assault  Rape  UrbanPop\n",
       "0    13.2      236  21.2        58\n",
       "1    10.0      263  44.5        48\n",
       "2     8.1      294  31.0        80\n",
       "3     8.8      190  19.5        50\n",
       "4     9.0      276  40.6        91"
      ]
     },
     "execution_count": 23,
     "metadata": {},
     "output_type": "execute_result"
    }
   ],
   "source": [
    "X = crime[['Murder', 'Assault', 'Rape', 'UrbanPop']]\n",
    "clusters = KMeans(4)  # 4 clusters!\n",
    "clusters.fit( X )\n",
    "clusters.cluster_centers_\n",
    "clusters.labels_\n",
    "crime['Crime_clusters'] = clusters.labels_\n",
    "crime.head()\n",
    "crime.sort_values(by=['Crime_clusters'],ascending = True)\n",
    "X.head()\n"
   ]
  },
  {
   "cell_type": "code",
   "execution_count": 24,
   "id": "4ec767cb",
   "metadata": {
    "ExecuteTime": {
     "end_time": "2023-03-16T13:10:14.136420Z",
     "start_time": "2023-03-16T13:10:14.106418Z"
    }
   },
   "outputs": [
    {
     "data": {
      "text/html": [
       "<div>\n",
       "<style scoped>\n",
       "    .dataframe tbody tr th:only-of-type {\n",
       "        vertical-align: middle;\n",
       "    }\n",
       "\n",
       "    .dataframe tbody tr th {\n",
       "        vertical-align: top;\n",
       "    }\n",
       "\n",
       "    .dataframe thead th {\n",
       "        text-align: right;\n",
       "    }\n",
       "</style>\n",
       "<table border=\"1\" class=\"dataframe\">\n",
       "  <thead>\n",
       "    <tr style=\"text-align: right;\">\n",
       "      <th></th>\n",
       "      <th>Unnamed: 0</th>\n",
       "      <th>Murder</th>\n",
       "      <th>Assault</th>\n",
       "      <th>UrbanPop</th>\n",
       "      <th>Rape</th>\n",
       "      <th>Crime_clusters</th>\n",
       "    </tr>\n",
       "  </thead>\n",
       "  <tbody>\n",
       "    <tr>\n",
       "      <th>33</th>\n",
       "      <td>North Dakota</td>\n",
       "      <td>0.8</td>\n",
       "      <td>45</td>\n",
       "      <td>44</td>\n",
       "      <td>7.3</td>\n",
       "      <td>0</td>\n",
       "    </tr>\n",
       "    <tr>\n",
       "      <th>28</th>\n",
       "      <td>New Hampshire</td>\n",
       "      <td>2.1</td>\n",
       "      <td>57</td>\n",
       "      <td>56</td>\n",
       "      <td>9.5</td>\n",
       "      <td>0</td>\n",
       "    </tr>\n",
       "    <tr>\n",
       "      <th>18</th>\n",
       "      <td>Maine</td>\n",
       "      <td>2.1</td>\n",
       "      <td>83</td>\n",
       "      <td>51</td>\n",
       "      <td>7.8</td>\n",
       "      <td>0</td>\n",
       "    </tr>\n",
       "    <tr>\n",
       "      <th>14</th>\n",
       "      <td>Iowa</td>\n",
       "      <td>2.2</td>\n",
       "      <td>56</td>\n",
       "      <td>57</td>\n",
       "      <td>11.3</td>\n",
       "      <td>0</td>\n",
       "    </tr>\n",
       "    <tr>\n",
       "      <th>44</th>\n",
       "      <td>Vermont</td>\n",
       "      <td>2.2</td>\n",
       "      <td>48</td>\n",
       "      <td>32</td>\n",
       "      <td>11.2</td>\n",
       "      <td>0</td>\n",
       "    </tr>\n",
       "    <tr>\n",
       "      <th>48</th>\n",
       "      <td>Wisconsin</td>\n",
       "      <td>2.6</td>\n",
       "      <td>53</td>\n",
       "      <td>66</td>\n",
       "      <td>10.8</td>\n",
       "      <td>0</td>\n",
       "    </tr>\n",
       "    <tr>\n",
       "      <th>11</th>\n",
       "      <td>Idaho</td>\n",
       "      <td>2.6</td>\n",
       "      <td>120</td>\n",
       "      <td>54</td>\n",
       "      <td>14.2</td>\n",
       "      <td>3</td>\n",
       "    </tr>\n",
       "    <tr>\n",
       "      <th>22</th>\n",
       "      <td>Minnesota</td>\n",
       "      <td>2.7</td>\n",
       "      <td>72</td>\n",
       "      <td>66</td>\n",
       "      <td>14.9</td>\n",
       "      <td>0</td>\n",
       "    </tr>\n",
       "    <tr>\n",
       "      <th>43</th>\n",
       "      <td>Utah</td>\n",
       "      <td>3.2</td>\n",
       "      <td>120</td>\n",
       "      <td>80</td>\n",
       "      <td>22.9</td>\n",
       "      <td>3</td>\n",
       "    </tr>\n",
       "    <tr>\n",
       "      <th>6</th>\n",
       "      <td>Connecticut</td>\n",
       "      <td>3.3</td>\n",
       "      <td>110</td>\n",
       "      <td>77</td>\n",
       "      <td>11.1</td>\n",
       "      <td>3</td>\n",
       "    </tr>\n",
       "    <tr>\n",
       "      <th>38</th>\n",
       "      <td>Rhode Island</td>\n",
       "      <td>3.4</td>\n",
       "      <td>174</td>\n",
       "      <td>87</td>\n",
       "      <td>8.3</td>\n",
       "      <td>2</td>\n",
       "    </tr>\n",
       "    <tr>\n",
       "      <th>40</th>\n",
       "      <td>South Dakota</td>\n",
       "      <td>3.8</td>\n",
       "      <td>86</td>\n",
       "      <td>45</td>\n",
       "      <td>12.8</td>\n",
       "      <td>0</td>\n",
       "    </tr>\n",
       "    <tr>\n",
       "      <th>46</th>\n",
       "      <td>Washington</td>\n",
       "      <td>4.0</td>\n",
       "      <td>145</td>\n",
       "      <td>73</td>\n",
       "      <td>26.2</td>\n",
       "      <td>2</td>\n",
       "    </tr>\n",
       "    <tr>\n",
       "      <th>26</th>\n",
       "      <td>Nebraska</td>\n",
       "      <td>4.3</td>\n",
       "      <td>102</td>\n",
       "      <td>62</td>\n",
       "      <td>16.5</td>\n",
       "      <td>3</td>\n",
       "    </tr>\n",
       "    <tr>\n",
       "      <th>20</th>\n",
       "      <td>Massachusetts</td>\n",
       "      <td>4.4</td>\n",
       "      <td>149</td>\n",
       "      <td>85</td>\n",
       "      <td>16.3</td>\n",
       "      <td>2</td>\n",
       "    </tr>\n",
       "    <tr>\n",
       "      <th>36</th>\n",
       "      <td>Oregon</td>\n",
       "      <td>4.9</td>\n",
       "      <td>159</td>\n",
       "      <td>67</td>\n",
       "      <td>29.3</td>\n",
       "      <td>2</td>\n",
       "    </tr>\n",
       "    <tr>\n",
       "      <th>10</th>\n",
       "      <td>Hawaii</td>\n",
       "      <td>5.3</td>\n",
       "      <td>46</td>\n",
       "      <td>83</td>\n",
       "      <td>20.2</td>\n",
       "      <td>0</td>\n",
       "    </tr>\n",
       "    <tr>\n",
       "      <th>47</th>\n",
       "      <td>West Virginia</td>\n",
       "      <td>5.7</td>\n",
       "      <td>81</td>\n",
       "      <td>39</td>\n",
       "      <td>9.3</td>\n",
       "      <td>0</td>\n",
       "    </tr>\n",
       "    <tr>\n",
       "      <th>7</th>\n",
       "      <td>Delaware</td>\n",
       "      <td>5.9</td>\n",
       "      <td>238</td>\n",
       "      <td>72</td>\n",
       "      <td>15.8</td>\n",
       "      <td>1</td>\n",
       "    </tr>\n",
       "    <tr>\n",
       "      <th>25</th>\n",
       "      <td>Montana</td>\n",
       "      <td>6.0</td>\n",
       "      <td>109</td>\n",
       "      <td>53</td>\n",
       "      <td>16.4</td>\n",
       "      <td>3</td>\n",
       "    </tr>\n",
       "    <tr>\n",
       "      <th>15</th>\n",
       "      <td>Kansas</td>\n",
       "      <td>6.0</td>\n",
       "      <td>115</td>\n",
       "      <td>66</td>\n",
       "      <td>18.0</td>\n",
       "      <td>3</td>\n",
       "    </tr>\n",
       "    <tr>\n",
       "      <th>37</th>\n",
       "      <td>Pennsylvania</td>\n",
       "      <td>6.3</td>\n",
       "      <td>106</td>\n",
       "      <td>72</td>\n",
       "      <td>14.9</td>\n",
       "      <td>3</td>\n",
       "    </tr>\n",
       "    <tr>\n",
       "      <th>35</th>\n",
       "      <td>Oklahoma</td>\n",
       "      <td>6.6</td>\n",
       "      <td>151</td>\n",
       "      <td>68</td>\n",
       "      <td>20.0</td>\n",
       "      <td>2</td>\n",
       "    </tr>\n",
       "    <tr>\n",
       "      <th>49</th>\n",
       "      <td>Wyoming</td>\n",
       "      <td>6.8</td>\n",
       "      <td>161</td>\n",
       "      <td>60</td>\n",
       "      <td>15.6</td>\n",
       "      <td>2</td>\n",
       "    </tr>\n",
       "    <tr>\n",
       "      <th>13</th>\n",
       "      <td>Indiana</td>\n",
       "      <td>7.2</td>\n",
       "      <td>113</td>\n",
       "      <td>65</td>\n",
       "      <td>21.0</td>\n",
       "      <td>3</td>\n",
       "    </tr>\n",
       "    <tr>\n",
       "      <th>34</th>\n",
       "      <td>Ohio</td>\n",
       "      <td>7.3</td>\n",
       "      <td>120</td>\n",
       "      <td>75</td>\n",
       "      <td>21.4</td>\n",
       "      <td>3</td>\n",
       "    </tr>\n",
       "    <tr>\n",
       "      <th>29</th>\n",
       "      <td>New Jersey</td>\n",
       "      <td>7.4</td>\n",
       "      <td>159</td>\n",
       "      <td>89</td>\n",
       "      <td>18.8</td>\n",
       "      <td>2</td>\n",
       "    </tr>\n",
       "    <tr>\n",
       "      <th>5</th>\n",
       "      <td>Colorado</td>\n",
       "      <td>7.9</td>\n",
       "      <td>204</td>\n",
       "      <td>78</td>\n",
       "      <td>38.7</td>\n",
       "      <td>2</td>\n",
       "    </tr>\n",
       "    <tr>\n",
       "      <th>2</th>\n",
       "      <td>Arizona</td>\n",
       "      <td>8.1</td>\n",
       "      <td>294</td>\n",
       "      <td>80</td>\n",
       "      <td>31.0</td>\n",
       "      <td>1</td>\n",
       "    </tr>\n",
       "    <tr>\n",
       "      <th>45</th>\n",
       "      <td>Virginia</td>\n",
       "      <td>8.5</td>\n",
       "      <td>156</td>\n",
       "      <td>63</td>\n",
       "      <td>20.7</td>\n",
       "      <td>2</td>\n",
       "    </tr>\n",
       "    <tr>\n",
       "      <th>3</th>\n",
       "      <td>Arkansas</td>\n",
       "      <td>8.8</td>\n",
       "      <td>190</td>\n",
       "      <td>50</td>\n",
       "      <td>19.5</td>\n",
       "      <td>2</td>\n",
       "    </tr>\n",
       "    <tr>\n",
       "      <th>24</th>\n",
       "      <td>Missouri</td>\n",
       "      <td>9.0</td>\n",
       "      <td>178</td>\n",
       "      <td>70</td>\n",
       "      <td>28.2</td>\n",
       "      <td>2</td>\n",
       "    </tr>\n",
       "    <tr>\n",
       "      <th>4</th>\n",
       "      <td>California</td>\n",
       "      <td>9.0</td>\n",
       "      <td>276</td>\n",
       "      <td>91</td>\n",
       "      <td>40.6</td>\n",
       "      <td>1</td>\n",
       "    </tr>\n",
       "    <tr>\n",
       "      <th>16</th>\n",
       "      <td>Kentucky</td>\n",
       "      <td>9.7</td>\n",
       "      <td>109</td>\n",
       "      <td>52</td>\n",
       "      <td>16.3</td>\n",
       "      <td>3</td>\n",
       "    </tr>\n",
       "    <tr>\n",
       "      <th>1</th>\n",
       "      <td>Alaska</td>\n",
       "      <td>10.0</td>\n",
       "      <td>263</td>\n",
       "      <td>48</td>\n",
       "      <td>44.5</td>\n",
       "      <td>1</td>\n",
       "    </tr>\n",
       "    <tr>\n",
       "      <th>12</th>\n",
       "      <td>Illinois</td>\n",
       "      <td>10.4</td>\n",
       "      <td>249</td>\n",
       "      <td>83</td>\n",
       "      <td>24.0</td>\n",
       "      <td>1</td>\n",
       "    </tr>\n",
       "    <tr>\n",
       "      <th>31</th>\n",
       "      <td>New York</td>\n",
       "      <td>11.1</td>\n",
       "      <td>254</td>\n",
       "      <td>86</td>\n",
       "      <td>26.1</td>\n",
       "      <td>1</td>\n",
       "    </tr>\n",
       "    <tr>\n",
       "      <th>19</th>\n",
       "      <td>Maryland</td>\n",
       "      <td>11.3</td>\n",
       "      <td>300</td>\n",
       "      <td>67</td>\n",
       "      <td>27.8</td>\n",
       "      <td>1</td>\n",
       "    </tr>\n",
       "    <tr>\n",
       "      <th>30</th>\n",
       "      <td>New Mexico</td>\n",
       "      <td>11.4</td>\n",
       "      <td>285</td>\n",
       "      <td>70</td>\n",
       "      <td>32.1</td>\n",
       "      <td>1</td>\n",
       "    </tr>\n",
       "    <tr>\n",
       "      <th>21</th>\n",
       "      <td>Michigan</td>\n",
       "      <td>12.1</td>\n",
       "      <td>255</td>\n",
       "      <td>74</td>\n",
       "      <td>35.1</td>\n",
       "      <td>1</td>\n",
       "    </tr>\n",
       "    <tr>\n",
       "      <th>27</th>\n",
       "      <td>Nevada</td>\n",
       "      <td>12.2</td>\n",
       "      <td>252</td>\n",
       "      <td>81</td>\n",
       "      <td>46.0</td>\n",
       "      <td>1</td>\n",
       "    </tr>\n",
       "    <tr>\n",
       "      <th>42</th>\n",
       "      <td>Texas</td>\n",
       "      <td>12.7</td>\n",
       "      <td>201</td>\n",
       "      <td>80</td>\n",
       "      <td>25.5</td>\n",
       "      <td>2</td>\n",
       "    </tr>\n",
       "    <tr>\n",
       "      <th>32</th>\n",
       "      <td>North Carolina</td>\n",
       "      <td>13.0</td>\n",
       "      <td>337</td>\n",
       "      <td>45</td>\n",
       "      <td>16.1</td>\n",
       "      <td>1</td>\n",
       "    </tr>\n",
       "    <tr>\n",
       "      <th>41</th>\n",
       "      <td>Tennessee</td>\n",
       "      <td>13.2</td>\n",
       "      <td>188</td>\n",
       "      <td>59</td>\n",
       "      <td>26.9</td>\n",
       "      <td>2</td>\n",
       "    </tr>\n",
       "    <tr>\n",
       "      <th>0</th>\n",
       "      <td>Alabama</td>\n",
       "      <td>13.2</td>\n",
       "      <td>236</td>\n",
       "      <td>58</td>\n",
       "      <td>21.2</td>\n",
       "      <td>1</td>\n",
       "    </tr>\n",
       "    <tr>\n",
       "      <th>39</th>\n",
       "      <td>South Carolina</td>\n",
       "      <td>14.4</td>\n",
       "      <td>279</td>\n",
       "      <td>48</td>\n",
       "      <td>22.5</td>\n",
       "      <td>1</td>\n",
       "    </tr>\n",
       "    <tr>\n",
       "      <th>8</th>\n",
       "      <td>Florida</td>\n",
       "      <td>15.4</td>\n",
       "      <td>335</td>\n",
       "      <td>80</td>\n",
       "      <td>31.9</td>\n",
       "      <td>1</td>\n",
       "    </tr>\n",
       "    <tr>\n",
       "      <th>17</th>\n",
       "      <td>Louisiana</td>\n",
       "      <td>15.4</td>\n",
       "      <td>249</td>\n",
       "      <td>66</td>\n",
       "      <td>22.2</td>\n",
       "      <td>1</td>\n",
       "    </tr>\n",
       "    <tr>\n",
       "      <th>23</th>\n",
       "      <td>Mississippi</td>\n",
       "      <td>16.1</td>\n",
       "      <td>259</td>\n",
       "      <td>44</td>\n",
       "      <td>17.1</td>\n",
       "      <td>1</td>\n",
       "    </tr>\n",
       "    <tr>\n",
       "      <th>9</th>\n",
       "      <td>Georgia</td>\n",
       "      <td>17.4</td>\n",
       "      <td>211</td>\n",
       "      <td>60</td>\n",
       "      <td>25.8</td>\n",
       "      <td>2</td>\n",
       "    </tr>\n",
       "  </tbody>\n",
       "</table>\n",
       "</div>"
      ],
      "text/plain": [
       "        Unnamed: 0  Murder  Assault  UrbanPop  Rape  Crime_clusters\n",
       "33    North Dakota     0.8       45        44   7.3               0\n",
       "28   New Hampshire     2.1       57        56   9.5               0\n",
       "18           Maine     2.1       83        51   7.8               0\n",
       "14            Iowa     2.2       56        57  11.3               0\n",
       "44         Vermont     2.2       48        32  11.2               0\n",
       "48       Wisconsin     2.6       53        66  10.8               0\n",
       "11           Idaho     2.6      120        54  14.2               3\n",
       "22       Minnesota     2.7       72        66  14.9               0\n",
       "43            Utah     3.2      120        80  22.9               3\n",
       "6      Connecticut     3.3      110        77  11.1               3\n",
       "38    Rhode Island     3.4      174        87   8.3               2\n",
       "40    South Dakota     3.8       86        45  12.8               0\n",
       "46      Washington     4.0      145        73  26.2               2\n",
       "26        Nebraska     4.3      102        62  16.5               3\n",
       "20   Massachusetts     4.4      149        85  16.3               2\n",
       "36          Oregon     4.9      159        67  29.3               2\n",
       "10          Hawaii     5.3       46        83  20.2               0\n",
       "47   West Virginia     5.7       81        39   9.3               0\n",
       "7         Delaware     5.9      238        72  15.8               1\n",
       "25         Montana     6.0      109        53  16.4               3\n",
       "15          Kansas     6.0      115        66  18.0               3\n",
       "37    Pennsylvania     6.3      106        72  14.9               3\n",
       "35        Oklahoma     6.6      151        68  20.0               2\n",
       "49         Wyoming     6.8      161        60  15.6               2\n",
       "13         Indiana     7.2      113        65  21.0               3\n",
       "34            Ohio     7.3      120        75  21.4               3\n",
       "29      New Jersey     7.4      159        89  18.8               2\n",
       "5         Colorado     7.9      204        78  38.7               2\n",
       "2          Arizona     8.1      294        80  31.0               1\n",
       "45        Virginia     8.5      156        63  20.7               2\n",
       "3         Arkansas     8.8      190        50  19.5               2\n",
       "24        Missouri     9.0      178        70  28.2               2\n",
       "4       California     9.0      276        91  40.6               1\n",
       "16        Kentucky     9.7      109        52  16.3               3\n",
       "1           Alaska    10.0      263        48  44.5               1\n",
       "12        Illinois    10.4      249        83  24.0               1\n",
       "31        New York    11.1      254        86  26.1               1\n",
       "19        Maryland    11.3      300        67  27.8               1\n",
       "30      New Mexico    11.4      285        70  32.1               1\n",
       "21        Michigan    12.1      255        74  35.1               1\n",
       "27          Nevada    12.2      252        81  46.0               1\n",
       "42           Texas    12.7      201        80  25.5               2\n",
       "32  North Carolina    13.0      337        45  16.1               1\n",
       "41       Tennessee    13.2      188        59  26.9               2\n",
       "0          Alabama    13.2      236        58  21.2               1\n",
       "39  South Carolina    14.4      279        48  22.5               1\n",
       "8          Florida    15.4      335        80  31.9               1\n",
       "17       Louisiana    15.4      249        66  22.2               1\n",
       "23     Mississippi    16.1      259        44  17.1               1\n",
       "9          Georgia    17.4      211        60  25.8               2"
      ]
     },
     "execution_count": 24,
     "metadata": {},
     "output_type": "execute_result"
    }
   ],
   "source": [
    "stats =crime.sort_values(\"Murder\", ascending=True)\n",
    "stats"
   ]
  },
  {
   "cell_type": "code",
   "execution_count": 25,
   "id": "a7b924bf",
   "metadata": {
    "ExecuteTime": {
     "end_time": "2023-03-16T13:10:14.612171Z",
     "start_time": "2023-03-16T13:10:14.138420Z"
    }
   },
   "outputs": [
    {
     "data": {
      "image/png": "[encoded data removed]",
      "text/plain": [
       "<Figure size 613.736x500 with 1 Axes>"
      ]
     },
     "metadata": {},
     "output_type": "display_data"
    }
   ],
   "source": [
    "# Plot between pairs Murder~Assault\n",
    "sns.lmplot( 'Murder','Assault',  data=crime,\n",
    "        hue = 'Crime_clusters',\n",
    "        fit_reg=False, size = 5 );"
   ]
  },
  {
   "cell_type": "code",
   "execution_count": 26,
   "id": "49e3adeb",
   "metadata": {
    "ExecuteTime": {
     "end_time": "2023-03-16T13:10:14.980201Z",
     "start_time": "2023-03-16T13:10:14.614170Z"
    }
   },
   "outputs": [
    {
     "data": {
      "image/png": "[encoded data removed]",
      "text/plain": [
       "<Figure size 613.736x500 with 1 Axes>"
      ]
     },
     "metadata": {},
     "output_type": "display_data"
    }
   ],
   "source": [
    "# Plot between pairs Murder~Rape\n",
    "sns.lmplot( 'Murder','Rape',  data=crime,\n",
    "        hue = 'Crime_clusters',\n",
    "        fit_reg=False, size = 5 );"
   ]
  },
  {
   "cell_type": "code",
   "execution_count": 27,
   "id": "788c055b",
   "metadata": {
    "ExecuteTime": {
     "end_time": "2023-03-16T13:10:15.360229Z",
     "start_time": "2023-03-16T13:10:14.982202Z"
    }
   },
   "outputs": [
    {
     "data": {
      "image/png": "[encoded data removed]",
      "text/plain": [
       "<Figure size 613.736x500 with 1 Axes>"
      ]
     },
     "metadata": {},
     "output_type": "display_data"
    }
   ],
   "source": [
    "# Plot between pairs Assault~Rape\n",
    "sns.lmplot( 'Assault','Rape',  data=crime,\n",
    "        hue = 'Crime_clusters',\n",
    "        fit_reg=False, size = 5 );"
   ]
  },
  {
   "cell_type": "code",
   "execution_count": 28,
   "id": "82ae6679",
   "metadata": {
    "ExecuteTime": {
     "end_time": "2023-03-16T13:10:15.376239Z",
     "start_time": "2023-03-16T13:10:15.366230Z"
    }
   },
   "outputs": [],
   "source": [
    "#dots represent states of US and different colors are one cluster showing clustering for the crime data."
   ]
  },
  {
   "cell_type": "code",
   "execution_count": 29,
   "id": "fdd316fe",
   "metadata": {
    "ExecuteTime": {
     "end_time": "2023-03-16T13:10:15.455453Z",
     "start_time": "2023-03-16T13:10:15.378240Z"
    }
   },
   "outputs": [],
   "source": [
    "# Done"
   ]
  },
  {
   "cell_type": "code",
   "execution_count": null,
   "id": "351c37de",
   "metadata": {},
   "outputs": [],
   "source": []
  }
 ],
 "metadata": {
  "kernelspec": {
   "display_name": "Python 3 (ipykernel)",
   "language": "python",
   "name": "python3"
  },
  "language_info": {
   "codemirror_mode": {
    "name": "ipython",
    "version": 3
   },
   "file_extension": ".py",
   "mimetype": "text/x-python",
   "name": "python",
   "nbconvert_exporter": "python",
   "pygments_lexer": "ipython3",
   "version": "3.9.13"
  }
 },
 "nbformat": 4,
 "nbformat_minor": 5
}
