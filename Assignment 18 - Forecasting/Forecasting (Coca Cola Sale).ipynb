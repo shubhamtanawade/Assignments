{
 "cells": [
  {
   "cell_type": "markdown",
   "id": "41f55092",
   "metadata": {},
   "source": [
    "# Forecasting (Coca Cola Sale)"
   ]
  },
  {
   "cell_type": "markdown",
   "id": "48c9868b",
   "metadata": {},
   "source": [
    "Shubham's Assignment"
   ]
  },
  {
   "cell_type": "code",
   "execution_count": 1,
   "id": "fd71c40c",
   "metadata": {
    "ExecuteTime": {
     "end_time": "2023-03-18T13:16:58.070953Z",
     "start_time": "2023-03-18T13:16:55.878393Z"
    }
   },
   "outputs": [],
   "source": [
    "# import libraries\n",
    "import numpy as np\n",
    "import pandas as pd\n",
    "import matplotlib.pyplot as plt\n",
    "import seaborn as sns"
   ]
  },
  {
   "cell_type": "code",
   "execution_count": 2,
   "id": "a72d9a2c",
   "metadata": {
    "ExecuteTime": {
     "end_time": "2023-03-18T13:17:01.627741Z",
     "start_time": "2023-03-18T13:17:01.615754Z"
    }
   },
   "outputs": [],
   "source": [
    "import warnings\n",
    "warnings.filterwarnings('ignore')"
   ]
  },
  {
   "cell_type": "code",
   "execution_count": 3,
   "id": "4aa1ca5e",
   "metadata": {
    "ExecuteTime": {
     "end_time": "2023-03-18T13:17:06.162045Z",
     "start_time": "2023-03-18T13:17:05.722945Z"
    }
   },
   "outputs": [
    {
     "data": {
      "text/html": [
       "<div>\n",
       "<style scoped>\n",
       "    .dataframe tbody tr th:only-of-type {\n",
       "        vertical-align: middle;\n",
       "    }\n",
       "\n",
       "    .dataframe tbody tr th {\n",
       "        vertical-align: top;\n",
       "    }\n",
       "\n",
       "    .dataframe thead th {\n",
       "        text-align: right;\n",
       "    }\n",
       "</style>\n",
       "<table border=\"1\" class=\"dataframe\">\n",
       "  <thead>\n",
       "    <tr style=\"text-align: right;\">\n",
       "      <th></th>\n",
       "      <th>Quarter</th>\n",
       "      <th>Sales</th>\n",
       "    </tr>\n",
       "  </thead>\n",
       "  <tbody>\n",
       "    <tr>\n",
       "      <th>0</th>\n",
       "      <td>Q1_86</td>\n",
       "      <td>1734.827000</td>\n",
       "    </tr>\n",
       "    <tr>\n",
       "      <th>1</th>\n",
       "      <td>Q2_86</td>\n",
       "      <td>2244.960999</td>\n",
       "    </tr>\n",
       "    <tr>\n",
       "      <th>2</th>\n",
       "      <td>Q3_86</td>\n",
       "      <td>2533.804993</td>\n",
       "    </tr>\n",
       "    <tr>\n",
       "      <th>3</th>\n",
       "      <td>Q4_86</td>\n",
       "      <td>2154.962997</td>\n",
       "    </tr>\n",
       "    <tr>\n",
       "      <th>4</th>\n",
       "      <td>Q1_87</td>\n",
       "      <td>1547.818996</td>\n",
       "    </tr>\n",
       "    <tr>\n",
       "      <th>5</th>\n",
       "      <td>Q2_87</td>\n",
       "      <td>2104.411995</td>\n",
       "    </tr>\n",
       "    <tr>\n",
       "      <th>6</th>\n",
       "      <td>Q3_87</td>\n",
       "      <td>2014.362999</td>\n",
       "    </tr>\n",
       "    <tr>\n",
       "      <th>7</th>\n",
       "      <td>Q4_87</td>\n",
       "      <td>1991.746998</td>\n",
       "    </tr>\n",
       "    <tr>\n",
       "      <th>8</th>\n",
       "      <td>Q1_88</td>\n",
       "      <td>1869.049999</td>\n",
       "    </tr>\n",
       "    <tr>\n",
       "      <th>9</th>\n",
       "      <td>Q2_88</td>\n",
       "      <td>2313.631996</td>\n",
       "    </tr>\n",
       "    <tr>\n",
       "      <th>10</th>\n",
       "      <td>Q3_88</td>\n",
       "      <td>2128.320000</td>\n",
       "    </tr>\n",
       "    <tr>\n",
       "      <th>11</th>\n",
       "      <td>Q4_88</td>\n",
       "      <td>2026.828999</td>\n",
       "    </tr>\n",
       "    <tr>\n",
       "      <th>12</th>\n",
       "      <td>Q1_89</td>\n",
       "      <td>1910.603996</td>\n",
       "    </tr>\n",
       "    <tr>\n",
       "      <th>13</th>\n",
       "      <td>Q2_89</td>\n",
       "      <td>2331.164993</td>\n",
       "    </tr>\n",
       "    <tr>\n",
       "      <th>14</th>\n",
       "      <td>Q3_89</td>\n",
       "      <td>2206.549995</td>\n",
       "    </tr>\n",
       "    <tr>\n",
       "      <th>15</th>\n",
       "      <td>Q4_89</td>\n",
       "      <td>2173.967995</td>\n",
       "    </tr>\n",
       "    <tr>\n",
       "      <th>16</th>\n",
       "      <td>Q1_90</td>\n",
       "      <td>2148.278000</td>\n",
       "    </tr>\n",
       "    <tr>\n",
       "      <th>17</th>\n",
       "      <td>Q2_90</td>\n",
       "      <td>2739.307999</td>\n",
       "    </tr>\n",
       "    <tr>\n",
       "      <th>18</th>\n",
       "      <td>Q3_90</td>\n",
       "      <td>2792.753998</td>\n",
       "    </tr>\n",
       "    <tr>\n",
       "      <th>19</th>\n",
       "      <td>Q4_90</td>\n",
       "      <td>2556.009995</td>\n",
       "    </tr>\n",
       "  </tbody>\n",
       "</table>\n",
       "</div>"
      ],
      "text/plain": [
       "   Quarter        Sales\n",
       "0    Q1_86  1734.827000\n",
       "1    Q2_86  2244.960999\n",
       "2    Q3_86  2533.804993\n",
       "3    Q4_86  2154.962997\n",
       "4    Q1_87  1547.818996\n",
       "5    Q2_87  2104.411995\n",
       "6    Q3_87  2014.362999\n",
       "7    Q4_87  1991.746998\n",
       "8    Q1_88  1869.049999\n",
       "9    Q2_88  2313.631996\n",
       "10   Q3_88  2128.320000\n",
       "11   Q4_88  2026.828999\n",
       "12   Q1_89  1910.603996\n",
       "13   Q2_89  2331.164993\n",
       "14   Q3_89  2206.549995\n",
       "15   Q4_89  2173.967995\n",
       "16   Q1_90  2148.278000\n",
       "17   Q2_90  2739.307999\n",
       "18   Q3_90  2792.753998\n",
       "19   Q4_90  2556.009995"
      ]
     },
     "execution_count": 3,
     "metadata": {},
     "output_type": "execute_result"
    }
   ],
   "source": [
    "# load data\n",
    "Coca=pd.read_excel(\"CocaCola_Sales_Rawdata.xlsx\")\n",
    "Coca.head(20)"
   ]
  },
  {
   "cell_type": "code",
   "execution_count": 4,
   "id": "d822151a",
   "metadata": {
    "ExecuteTime": {
     "end_time": "2023-03-18T13:17:10.437750Z",
     "start_time": "2023-03-18T13:17:10.430749Z"
    }
   },
   "outputs": [
    {
     "data": {
      "text/plain": [
       "(42, 2)"
      ]
     },
     "execution_count": 4,
     "metadata": {},
     "output_type": "execute_result"
    }
   ],
   "source": [
    "Coca.shape"
   ]
  },
  {
   "cell_type": "code",
   "execution_count": 5,
   "id": "4d5f2757",
   "metadata": {
    "ExecuteTime": {
     "end_time": "2023-03-18T13:17:17.260819Z",
     "start_time": "2023-03-18T13:17:17.253821Z"
    }
   },
   "outputs": [
    {
     "data": {
      "text/plain": [
       "Quarter     object\n",
       "Sales      float64\n",
       "dtype: object"
      ]
     },
     "execution_count": 5,
     "metadata": {},
     "output_type": "execute_result"
    }
   ],
   "source": [
    "Coca.dtypes"
   ]
  },
  {
   "cell_type": "code",
   "execution_count": 6,
   "id": "0dc2da51",
   "metadata": {
    "ExecuteTime": {
     "end_time": "2023-03-18T13:17:23.010027Z",
     "start_time": "2023-03-18T13:17:22.993029Z"
    }
   },
   "outputs": [
    {
     "name": "stdout",
     "output_type": "stream",
     "text": [
      "<class 'pandas.core.frame.DataFrame'>\n",
      "RangeIndex: 42 entries, 0 to 41\n",
      "Data columns (total 2 columns):\n",
      " #   Column   Non-Null Count  Dtype  \n",
      "---  ------   --------------  -----  \n",
      " 0   Quarter  42 non-null     object \n",
      " 1   Sales    42 non-null     float64\n",
      "dtypes: float64(1), object(1)\n",
      "memory usage: 800.0+ bytes\n"
     ]
    }
   ],
   "source": [
    "Coca.info()"
   ]
  },
  {
   "cell_type": "code",
   "execution_count": 7,
   "id": "0d84c91b",
   "metadata": {
    "ExecuteTime": {
     "end_time": "2023-03-18T13:17:27.310035Z",
     "start_time": "2023-03-18T13:17:27.269634Z"
    }
   },
   "outputs": [
    {
     "data": {
      "text/html": [
       "<div>\n",
       "<style scoped>\n",
       "    .dataframe tbody tr th:only-of-type {\n",
       "        vertical-align: middle;\n",
       "    }\n",
       "\n",
       "    .dataframe tbody tr th {\n",
       "        vertical-align: top;\n",
       "    }\n",
       "\n",
       "    .dataframe thead th {\n",
       "        text-align: right;\n",
       "    }\n",
       "</style>\n",
       "<table border=\"1\" class=\"dataframe\">\n",
       "  <thead>\n",
       "    <tr style=\"text-align: right;\">\n",
       "      <th></th>\n",
       "      <th>Sales</th>\n",
       "    </tr>\n",
       "  </thead>\n",
       "  <tbody>\n",
       "    <tr>\n",
       "      <th>count</th>\n",
       "      <td>42.000000</td>\n",
       "    </tr>\n",
       "    <tr>\n",
       "      <th>mean</th>\n",
       "      <td>2994.353308</td>\n",
       "    </tr>\n",
       "    <tr>\n",
       "      <th>std</th>\n",
       "      <td>977.930896</td>\n",
       "    </tr>\n",
       "    <tr>\n",
       "      <th>min</th>\n",
       "      <td>1547.818996</td>\n",
       "    </tr>\n",
       "    <tr>\n",
       "      <th>25%</th>\n",
       "      <td>2159.714247</td>\n",
       "    </tr>\n",
       "    <tr>\n",
       "      <th>50%</th>\n",
       "      <td>2782.376999</td>\n",
       "    </tr>\n",
       "    <tr>\n",
       "      <th>75%</th>\n",
       "      <td>3609.250000</td>\n",
       "    </tr>\n",
       "    <tr>\n",
       "      <th>max</th>\n",
       "      <td>5253.000000</td>\n",
       "    </tr>\n",
       "  </tbody>\n",
       "</table>\n",
       "</div>"
      ],
      "text/plain": [
       "             Sales\n",
       "count    42.000000\n",
       "mean   2994.353308\n",
       "std     977.930896\n",
       "min    1547.818996\n",
       "25%    2159.714247\n",
       "50%    2782.376999\n",
       "75%    3609.250000\n",
       "max    5253.000000"
      ]
     },
     "execution_count": 7,
     "metadata": {},
     "output_type": "execute_result"
    }
   ],
   "source": [
    "Coca.describe()"
   ]
  },
  {
   "cell_type": "code",
   "execution_count": 8,
   "id": "493de880",
   "metadata": {
    "ExecuteTime": {
     "end_time": "2023-03-18T13:17:31.643126Z",
     "start_time": "2023-03-18T13:17:31.632115Z"
    }
   },
   "outputs": [],
   "source": [
    "# Graphical Visualization"
   ]
  },
  {
   "cell_type": "code",
   "execution_count": 9,
   "id": "c2b8b9b7",
   "metadata": {
    "ExecuteTime": {
     "end_time": "2023-03-18T13:17:35.732064Z",
     "start_time": "2023-03-18T13:17:35.585084Z"
    }
   },
   "outputs": [
    {
     "data": {
      "text/plain": [
       "<AxesSubplot:xlabel='Sales'>"
      ]
     },
     "execution_count": 9,
     "metadata": {},
     "output_type": "execute_result"
    },
    {
     "data": {
      "image/png": "[encoded data removed]",
      "text/plain": [
       "<Figure size 640x480 with 1 Axes>"
      ]
     },
     "metadata": {},
     "output_type": "display_data"
    }
   ],
   "source": [
    "sns.boxplot(\"Sales\",data=Coca)"
   ]
  },
  {
   "cell_type": "code",
   "execution_count": 10,
   "id": "07e0f59b",
   "metadata": {
    "ExecuteTime": {
     "end_time": "2023-03-18T13:17:43.313336Z",
     "start_time": "2023-03-18T13:17:42.384144Z"
    }
   },
   "outputs": [
    {
     "data": {
      "text/plain": [
       "<seaborn.axisgrid.FacetGrid at 0x23cb3e90f70>"
      ]
     },
     "execution_count": 10,
     "metadata": {},
     "output_type": "execute_result"
    },
    {
     "data": {
      "image/png": "[encoded data removed]",
      "text/plain": [
       "<Figure size 500x500 with 1 Axes>"
      ]
     },
     "metadata": {},
     "output_type": "display_data"
    }
   ],
   "source": [
    "sns.catplot(\"Quarter\",\"Sales\",data=Coca,kind=\"box\")"
   ]
  },
  {
   "cell_type": "code",
   "execution_count": 11,
   "id": "ca671da3",
   "metadata": {
    "ExecuteTime": {
     "end_time": "2023-03-18T13:17:49.311211Z",
     "start_time": "2023-03-18T13:17:49.124310Z"
    }
   },
   "outputs": [
    {
     "data": {
      "text/plain": [
       "<matplotlib.legend.Legend at 0x23cb489f040>"
      ]
     },
     "execution_count": 11,
     "metadata": {},
     "output_type": "execute_result"
    },
    {
     "data": {
      "image/png": "[encoded data removed]",
      "text/plain": [
       "<Figure size 640x480 with 1 Axes>"
      ]
     },
     "metadata": {},
     "output_type": "display_data"
    }
   ],
   "source": [
    "Coca.Sales.plot(label=\"org\")\n",
    "for i in range(2,10,2):\n",
    "    Coca[\"Sales\"].rolling(i).mean().plot(label=str(i))\n",
    "plt.legend(loc=3)"
   ]
  },
  {
   "cell_type": "code",
   "execution_count": 12,
   "id": "5e3ac299",
   "metadata": {
    "ExecuteTime": {
     "end_time": "2023-03-18T13:17:53.833840Z",
     "start_time": "2023-03-18T13:17:53.716119Z"
    }
   },
   "outputs": [
    {
     "data": {
      "text/plain": [
       "<AxesSubplot:>"
      ]
     },
     "execution_count": 12,
     "metadata": {},
     "output_type": "execute_result"
    },
    {
     "data": {
      "image/png": "[encoded data removed]",
      "text/plain": [
       "<Figure size 640x480 with 1 Axes>"
      ]
     },
     "metadata": {},
     "output_type": "display_data"
    }
   ],
   "source": [
    "Coca.Sales.plot()"
   ]
  },
  {
   "cell_type": "code",
   "execution_count": 13,
   "id": "cc17e0af",
   "metadata": {
    "ExecuteTime": {
     "end_time": "2023-03-18T13:17:59.429487Z",
     "start_time": "2023-03-18T13:17:59.239327Z"
    }
   },
   "outputs": [
    {
     "data": {
      "text/plain": [
       "<AxesSubplot:>"
      ]
     },
     "execution_count": 13,
     "metadata": {},
     "output_type": "execute_result"
    },
    {
     "data": {
      "image/png": "[encoded data removed]",
      "text/plain": [
       "<Figure size 2800x600 with 1 Axes>"
      ]
     },
     "metadata": {},
     "output_type": "display_data"
    }
   ],
   "source": [
    "plt.figure(figsize=(28,6))\n",
    "Coca.Sales.plot()"
   ]
  },
  {
   "cell_type": "code",
   "execution_count": 14,
   "id": "027dda8e",
   "metadata": {
    "ExecuteTime": {
     "end_time": "2023-03-18T13:18:04.033777Z",
     "start_time": "2023-03-18T13:18:04.016777Z"
    }
   },
   "outputs": [],
   "source": [
    "# Preprocessing"
   ]
  },
  {
   "cell_type": "code",
   "execution_count": 15,
   "id": "c2c0e02b",
   "metadata": {
    "ExecuteTime": {
     "end_time": "2023-03-18T13:18:09.684384Z",
     "start_time": "2023-03-18T13:18:09.663383Z"
    }
   },
   "outputs": [
    {
     "data": {
      "text/plain": [
       "'Q1'"
      ]
     },
     "execution_count": 15,
     "metadata": {},
     "output_type": "execute_result"
    }
   ],
   "source": [
    "quarter=['Q1','Q2','Q3','Q4']\n",
    "n=Coca['Quarter'][0]\n",
    "n[0:2]"
   ]
  },
  {
   "cell_type": "code",
   "execution_count": 16,
   "id": "08a81592",
   "metadata": {
    "ExecuteTime": {
     "end_time": "2023-03-18T13:18:14.399891Z",
     "start_time": "2023-03-18T13:18:14.341707Z"
    }
   },
   "outputs": [],
   "source": [
    "Coca['quarter']=0\n",
    "for i in range(42):\n",
    "    n=Coca['Quarter'][i]\n",
    "    Coca['quarter'][i]=n[0:2]\n",
    "    dummy=pd.DataFrame(pd.get_dummies(Coca['quarter']))\n",
    "    coco=pd.concat((Coca,dummy),axis=1)\n",
    "t= np.arange(1,43)\n",
    "coco['t']=t\n",
    "coco['t_square']=coco['t']*coco['t']\n",
    "log_Sales=np.log(coco['Sales'])\n",
    "coco['log_Sales']=log_Sales\n"
   ]
  },
  {
   "cell_type": "code",
   "execution_count": 17,
   "id": "927bc5d8",
   "metadata": {
    "ExecuteTime": {
     "end_time": "2023-03-18T13:18:19.636579Z",
     "start_time": "2023-03-18T13:18:19.613581Z"
    }
   },
   "outputs": [
    {
     "data": {
      "text/html": [
       "<div>\n",
       "<style scoped>\n",
       "    .dataframe tbody tr th:only-of-type {\n",
       "        vertical-align: middle;\n",
       "    }\n",
       "\n",
       "    .dataframe tbody tr th {\n",
       "        vertical-align: top;\n",
       "    }\n",
       "\n",
       "    .dataframe thead th {\n",
       "        text-align: right;\n",
       "    }\n",
       "</style>\n",
       "<table border=\"1\" class=\"dataframe\">\n",
       "  <thead>\n",
       "    <tr style=\"text-align: right;\">\n",
       "      <th></th>\n",
       "      <th>Quarter</th>\n",
       "      <th>Sales</th>\n",
       "      <th>quarter</th>\n",
       "      <th>Q1</th>\n",
       "      <th>Q2</th>\n",
       "      <th>Q3</th>\n",
       "      <th>Q4</th>\n",
       "      <th>t</th>\n",
       "      <th>t_square</th>\n",
       "      <th>log_Sales</th>\n",
       "    </tr>\n",
       "  </thead>\n",
       "  <tbody>\n",
       "    <tr>\n",
       "      <th>0</th>\n",
       "      <td>Q1_86</td>\n",
       "      <td>1734.827000</td>\n",
       "      <td>Q1</td>\n",
       "      <td>1</td>\n",
       "      <td>0</td>\n",
       "      <td>0</td>\n",
       "      <td>0</td>\n",
       "      <td>1</td>\n",
       "      <td>1</td>\n",
       "      <td>7.458663</td>\n",
       "    </tr>\n",
       "    <tr>\n",
       "      <th>1</th>\n",
       "      <td>Q2_86</td>\n",
       "      <td>2244.960999</td>\n",
       "      <td>Q2</td>\n",
       "      <td>0</td>\n",
       "      <td>1</td>\n",
       "      <td>0</td>\n",
       "      <td>0</td>\n",
       "      <td>2</td>\n",
       "      <td>4</td>\n",
       "      <td>7.716443</td>\n",
       "    </tr>\n",
       "    <tr>\n",
       "      <th>2</th>\n",
       "      <td>Q3_86</td>\n",
       "      <td>2533.804993</td>\n",
       "      <td>Q3</td>\n",
       "      <td>0</td>\n",
       "      <td>0</td>\n",
       "      <td>1</td>\n",
       "      <td>0</td>\n",
       "      <td>3</td>\n",
       "      <td>9</td>\n",
       "      <td>7.837477</td>\n",
       "    </tr>\n",
       "    <tr>\n",
       "      <th>3</th>\n",
       "      <td>Q4_86</td>\n",
       "      <td>2154.962997</td>\n",
       "      <td>Q4</td>\n",
       "      <td>0</td>\n",
       "      <td>0</td>\n",
       "      <td>0</td>\n",
       "      <td>1</td>\n",
       "      <td>4</td>\n",
       "      <td>16</td>\n",
       "      <td>7.675529</td>\n",
       "    </tr>\n",
       "    <tr>\n",
       "      <th>4</th>\n",
       "      <td>Q1_87</td>\n",
       "      <td>1547.818996</td>\n",
       "      <td>Q1</td>\n",
       "      <td>1</td>\n",
       "      <td>0</td>\n",
       "      <td>0</td>\n",
       "      <td>0</td>\n",
       "      <td>5</td>\n",
       "      <td>25</td>\n",
       "      <td>7.344602</td>\n",
       "    </tr>\n",
       "    <tr>\n",
       "      <th>5</th>\n",
       "      <td>Q2_87</td>\n",
       "      <td>2104.411995</td>\n",
       "      <td>Q2</td>\n",
       "      <td>0</td>\n",
       "      <td>1</td>\n",
       "      <td>0</td>\n",
       "      <td>0</td>\n",
       "      <td>6</td>\n",
       "      <td>36</td>\n",
       "      <td>7.651791</td>\n",
       "    </tr>\n",
       "    <tr>\n",
       "      <th>6</th>\n",
       "      <td>Q3_87</td>\n",
       "      <td>2014.362999</td>\n",
       "      <td>Q3</td>\n",
       "      <td>0</td>\n",
       "      <td>0</td>\n",
       "      <td>1</td>\n",
       "      <td>0</td>\n",
       "      <td>7</td>\n",
       "      <td>49</td>\n",
       "      <td>7.608058</td>\n",
       "    </tr>\n",
       "    <tr>\n",
       "      <th>7</th>\n",
       "      <td>Q4_87</td>\n",
       "      <td>1991.746998</td>\n",
       "      <td>Q4</td>\n",
       "      <td>0</td>\n",
       "      <td>0</td>\n",
       "      <td>0</td>\n",
       "      <td>1</td>\n",
       "      <td>8</td>\n",
       "      <td>64</td>\n",
       "      <td>7.596767</td>\n",
       "    </tr>\n",
       "    <tr>\n",
       "      <th>8</th>\n",
       "      <td>Q1_88</td>\n",
       "      <td>1869.049999</td>\n",
       "      <td>Q1</td>\n",
       "      <td>1</td>\n",
       "      <td>0</td>\n",
       "      <td>0</td>\n",
       "      <td>0</td>\n",
       "      <td>9</td>\n",
       "      <td>81</td>\n",
       "      <td>7.533186</td>\n",
       "    </tr>\n",
       "    <tr>\n",
       "      <th>9</th>\n",
       "      <td>Q2_88</td>\n",
       "      <td>2313.631996</td>\n",
       "      <td>Q2</td>\n",
       "      <td>0</td>\n",
       "      <td>1</td>\n",
       "      <td>0</td>\n",
       "      <td>0</td>\n",
       "      <td>10</td>\n",
       "      <td>100</td>\n",
       "      <td>7.746574</td>\n",
       "    </tr>\n",
       "    <tr>\n",
       "      <th>10</th>\n",
       "      <td>Q3_88</td>\n",
       "      <td>2128.320000</td>\n",
       "      <td>Q3</td>\n",
       "      <td>0</td>\n",
       "      <td>0</td>\n",
       "      <td>1</td>\n",
       "      <td>0</td>\n",
       "      <td>11</td>\n",
       "      <td>121</td>\n",
       "      <td>7.663088</td>\n",
       "    </tr>\n",
       "    <tr>\n",
       "      <th>11</th>\n",
       "      <td>Q4_88</td>\n",
       "      <td>2026.828999</td>\n",
       "      <td>Q4</td>\n",
       "      <td>0</td>\n",
       "      <td>0</td>\n",
       "      <td>0</td>\n",
       "      <td>1</td>\n",
       "      <td>12</td>\n",
       "      <td>144</td>\n",
       "      <td>7.614228</td>\n",
       "    </tr>\n",
       "    <tr>\n",
       "      <th>12</th>\n",
       "      <td>Q1_89</td>\n",
       "      <td>1910.603996</td>\n",
       "      <td>Q1</td>\n",
       "      <td>1</td>\n",
       "      <td>0</td>\n",
       "      <td>0</td>\n",
       "      <td>0</td>\n",
       "      <td>13</td>\n",
       "      <td>169</td>\n",
       "      <td>7.555175</td>\n",
       "    </tr>\n",
       "    <tr>\n",
       "      <th>13</th>\n",
       "      <td>Q2_89</td>\n",
       "      <td>2331.164993</td>\n",
       "      <td>Q2</td>\n",
       "      <td>0</td>\n",
       "      <td>1</td>\n",
       "      <td>0</td>\n",
       "      <td>0</td>\n",
       "      <td>14</td>\n",
       "      <td>196</td>\n",
       "      <td>7.754123</td>\n",
       "    </tr>\n",
       "    <tr>\n",
       "      <th>14</th>\n",
       "      <td>Q3_89</td>\n",
       "      <td>2206.549995</td>\n",
       "      <td>Q3</td>\n",
       "      <td>0</td>\n",
       "      <td>0</td>\n",
       "      <td>1</td>\n",
       "      <td>0</td>\n",
       "      <td>15</td>\n",
       "      <td>225</td>\n",
       "      <td>7.699185</td>\n",
       "    </tr>\n",
       "    <tr>\n",
       "      <th>15</th>\n",
       "      <td>Q4_89</td>\n",
       "      <td>2173.967995</td>\n",
       "      <td>Q4</td>\n",
       "      <td>0</td>\n",
       "      <td>0</td>\n",
       "      <td>0</td>\n",
       "      <td>1</td>\n",
       "      <td>16</td>\n",
       "      <td>256</td>\n",
       "      <td>7.684309</td>\n",
       "    </tr>\n",
       "    <tr>\n",
       "      <th>16</th>\n",
       "      <td>Q1_90</td>\n",
       "      <td>2148.278000</td>\n",
       "      <td>Q1</td>\n",
       "      <td>1</td>\n",
       "      <td>0</td>\n",
       "      <td>0</td>\n",
       "      <td>0</td>\n",
       "      <td>17</td>\n",
       "      <td>289</td>\n",
       "      <td>7.672422</td>\n",
       "    </tr>\n",
       "    <tr>\n",
       "      <th>17</th>\n",
       "      <td>Q2_90</td>\n",
       "      <td>2739.307999</td>\n",
       "      <td>Q2</td>\n",
       "      <td>0</td>\n",
       "      <td>1</td>\n",
       "      <td>0</td>\n",
       "      <td>0</td>\n",
       "      <td>18</td>\n",
       "      <td>324</td>\n",
       "      <td>7.915461</td>\n",
       "    </tr>\n",
       "    <tr>\n",
       "      <th>18</th>\n",
       "      <td>Q3_90</td>\n",
       "      <td>2792.753998</td>\n",
       "      <td>Q3</td>\n",
       "      <td>0</td>\n",
       "      <td>0</td>\n",
       "      <td>1</td>\n",
       "      <td>0</td>\n",
       "      <td>19</td>\n",
       "      <td>361</td>\n",
       "      <td>7.934783</td>\n",
       "    </tr>\n",
       "    <tr>\n",
       "      <th>19</th>\n",
       "      <td>Q4_90</td>\n",
       "      <td>2556.009995</td>\n",
       "      <td>Q4</td>\n",
       "      <td>0</td>\n",
       "      <td>0</td>\n",
       "      <td>0</td>\n",
       "      <td>1</td>\n",
       "      <td>20</td>\n",
       "      <td>400</td>\n",
       "      <td>7.846203</td>\n",
       "    </tr>\n",
       "    <tr>\n",
       "      <th>20</th>\n",
       "      <td>Q1_91</td>\n",
       "      <td>2480.973999</td>\n",
       "      <td>Q1</td>\n",
       "      <td>1</td>\n",
       "      <td>0</td>\n",
       "      <td>0</td>\n",
       "      <td>0</td>\n",
       "      <td>21</td>\n",
       "      <td>441</td>\n",
       "      <td>7.816407</td>\n",
       "    </tr>\n",
       "    <tr>\n",
       "      <th>21</th>\n",
       "      <td>Q2_91</td>\n",
       "      <td>3039.522995</td>\n",
       "      <td>Q2</td>\n",
       "      <td>0</td>\n",
       "      <td>1</td>\n",
       "      <td>0</td>\n",
       "      <td>0</td>\n",
       "      <td>22</td>\n",
       "      <td>484</td>\n",
       "      <td>8.019456</td>\n",
       "    </tr>\n",
       "    <tr>\n",
       "      <th>22</th>\n",
       "      <td>Q3_91</td>\n",
       "      <td>3172.115997</td>\n",
       "      <td>Q3</td>\n",
       "      <td>0</td>\n",
       "      <td>0</td>\n",
       "      <td>1</td>\n",
       "      <td>0</td>\n",
       "      <td>23</td>\n",
       "      <td>529</td>\n",
       "      <td>8.062154</td>\n",
       "    </tr>\n",
       "    <tr>\n",
       "      <th>23</th>\n",
       "      <td>Q4_91</td>\n",
       "      <td>2879.000999</td>\n",
       "      <td>Q4</td>\n",
       "      <td>0</td>\n",
       "      <td>0</td>\n",
       "      <td>0</td>\n",
       "      <td>1</td>\n",
       "      <td>24</td>\n",
       "      <td>576</td>\n",
       "      <td>7.965199</td>\n",
       "    </tr>\n",
       "    <tr>\n",
       "      <th>24</th>\n",
       "      <td>Q1_92</td>\n",
       "      <td>2772.000000</td>\n",
       "      <td>Q1</td>\n",
       "      <td>1</td>\n",
       "      <td>0</td>\n",
       "      <td>0</td>\n",
       "      <td>0</td>\n",
       "      <td>25</td>\n",
       "      <td>625</td>\n",
       "      <td>7.927324</td>\n",
       "    </tr>\n",
       "    <tr>\n",
       "      <th>25</th>\n",
       "      <td>Q2_92</td>\n",
       "      <td>3550.000000</td>\n",
       "      <td>Q2</td>\n",
       "      <td>0</td>\n",
       "      <td>1</td>\n",
       "      <td>0</td>\n",
       "      <td>0</td>\n",
       "      <td>26</td>\n",
       "      <td>676</td>\n",
       "      <td>8.174703</td>\n",
       "    </tr>\n",
       "    <tr>\n",
       "      <th>26</th>\n",
       "      <td>Q3_92</td>\n",
       "      <td>3508.000000</td>\n",
       "      <td>Q3</td>\n",
       "      <td>0</td>\n",
       "      <td>0</td>\n",
       "      <td>1</td>\n",
       "      <td>0</td>\n",
       "      <td>27</td>\n",
       "      <td>729</td>\n",
       "      <td>8.162801</td>\n",
       "    </tr>\n",
       "    <tr>\n",
       "      <th>27</th>\n",
       "      <td>Q4_92</td>\n",
       "      <td>3243.859993</td>\n",
       "      <td>Q4</td>\n",
       "      <td>0</td>\n",
       "      <td>0</td>\n",
       "      <td>0</td>\n",
       "      <td>1</td>\n",
       "      <td>28</td>\n",
       "      <td>784</td>\n",
       "      <td>8.084519</td>\n",
       "    </tr>\n",
       "    <tr>\n",
       "      <th>28</th>\n",
       "      <td>Q1_93</td>\n",
       "      <td>3056.000000</td>\n",
       "      <td>Q1</td>\n",
       "      <td>1</td>\n",
       "      <td>0</td>\n",
       "      <td>0</td>\n",
       "      <td>0</td>\n",
       "      <td>29</td>\n",
       "      <td>841</td>\n",
       "      <td>8.024862</td>\n",
       "    </tr>\n",
       "    <tr>\n",
       "      <th>29</th>\n",
       "      <td>Q2_93</td>\n",
       "      <td>3899.000000</td>\n",
       "      <td>Q2</td>\n",
       "      <td>0</td>\n",
       "      <td>1</td>\n",
       "      <td>0</td>\n",
       "      <td>0</td>\n",
       "      <td>30</td>\n",
       "      <td>900</td>\n",
       "      <td>8.268475</td>\n",
       "    </tr>\n",
       "    <tr>\n",
       "      <th>30</th>\n",
       "      <td>Q3_93</td>\n",
       "      <td>3629.000000</td>\n",
       "      <td>Q3</td>\n",
       "      <td>0</td>\n",
       "      <td>0</td>\n",
       "      <td>1</td>\n",
       "      <td>0</td>\n",
       "      <td>31</td>\n",
       "      <td>961</td>\n",
       "      <td>8.196712</td>\n",
       "    </tr>\n",
       "    <tr>\n",
       "      <th>31</th>\n",
       "      <td>Q4_93</td>\n",
       "      <td>3373.000000</td>\n",
       "      <td>Q4</td>\n",
       "      <td>0</td>\n",
       "      <td>0</td>\n",
       "      <td>0</td>\n",
       "      <td>1</td>\n",
       "      <td>32</td>\n",
       "      <td>1024</td>\n",
       "      <td>8.123558</td>\n",
       "    </tr>\n",
       "    <tr>\n",
       "      <th>32</th>\n",
       "      <td>Q1_94</td>\n",
       "      <td>3352.000000</td>\n",
       "      <td>Q1</td>\n",
       "      <td>1</td>\n",
       "      <td>0</td>\n",
       "      <td>0</td>\n",
       "      <td>0</td>\n",
       "      <td>33</td>\n",
       "      <td>1089</td>\n",
       "      <td>8.117312</td>\n",
       "    </tr>\n",
       "    <tr>\n",
       "      <th>33</th>\n",
       "      <td>Q2_94</td>\n",
       "      <td>4342.000000</td>\n",
       "      <td>Q2</td>\n",
       "      <td>0</td>\n",
       "      <td>1</td>\n",
       "      <td>0</td>\n",
       "      <td>0</td>\n",
       "      <td>34</td>\n",
       "      <td>1156</td>\n",
       "      <td>8.376090</td>\n",
       "    </tr>\n",
       "    <tr>\n",
       "      <th>34</th>\n",
       "      <td>Q3_94</td>\n",
       "      <td>4461.000000</td>\n",
       "      <td>Q3</td>\n",
       "      <td>0</td>\n",
       "      <td>0</td>\n",
       "      <td>1</td>\n",
       "      <td>0</td>\n",
       "      <td>35</td>\n",
       "      <td>1225</td>\n",
       "      <td>8.403128</td>\n",
       "    </tr>\n",
       "    <tr>\n",
       "      <th>35</th>\n",
       "      <td>Q4_94</td>\n",
       "      <td>4017.000000</td>\n",
       "      <td>Q4</td>\n",
       "      <td>0</td>\n",
       "      <td>0</td>\n",
       "      <td>0</td>\n",
       "      <td>1</td>\n",
       "      <td>36</td>\n",
       "      <td>1296</td>\n",
       "      <td>8.298291</td>\n",
       "    </tr>\n",
       "    <tr>\n",
       "      <th>36</th>\n",
       "      <td>Q1_95</td>\n",
       "      <td>3854.000000</td>\n",
       "      <td>Q1</td>\n",
       "      <td>1</td>\n",
       "      <td>0</td>\n",
       "      <td>0</td>\n",
       "      <td>0</td>\n",
       "      <td>37</td>\n",
       "      <td>1369</td>\n",
       "      <td>8.256867</td>\n",
       "    </tr>\n",
       "    <tr>\n",
       "      <th>37</th>\n",
       "      <td>Q2_95</td>\n",
       "      <td>4936.000000</td>\n",
       "      <td>Q2</td>\n",
       "      <td>0</td>\n",
       "      <td>1</td>\n",
       "      <td>0</td>\n",
       "      <td>0</td>\n",
       "      <td>38</td>\n",
       "      <td>1444</td>\n",
       "      <td>8.504311</td>\n",
       "    </tr>\n",
       "    <tr>\n",
       "      <th>38</th>\n",
       "      <td>Q3_95</td>\n",
       "      <td>4895.000000</td>\n",
       "      <td>Q3</td>\n",
       "      <td>0</td>\n",
       "      <td>0</td>\n",
       "      <td>1</td>\n",
       "      <td>0</td>\n",
       "      <td>39</td>\n",
       "      <td>1521</td>\n",
       "      <td>8.495970</td>\n",
       "    </tr>\n",
       "    <tr>\n",
       "      <th>39</th>\n",
       "      <td>Q4_95</td>\n",
       "      <td>4333.000000</td>\n",
       "      <td>Q4</td>\n",
       "      <td>0</td>\n",
       "      <td>0</td>\n",
       "      <td>0</td>\n",
       "      <td>1</td>\n",
       "      <td>40</td>\n",
       "      <td>1600</td>\n",
       "      <td>8.374015</td>\n",
       "    </tr>\n",
       "    <tr>\n",
       "      <th>40</th>\n",
       "      <td>Q1_96</td>\n",
       "      <td>4194.000000</td>\n",
       "      <td>Q1</td>\n",
       "      <td>1</td>\n",
       "      <td>0</td>\n",
       "      <td>0</td>\n",
       "      <td>0</td>\n",
       "      <td>41</td>\n",
       "      <td>1681</td>\n",
       "      <td>8.341410</td>\n",
       "    </tr>\n",
       "    <tr>\n",
       "      <th>41</th>\n",
       "      <td>Q2_96</td>\n",
       "      <td>5253.000000</td>\n",
       "      <td>Q2</td>\n",
       "      <td>0</td>\n",
       "      <td>1</td>\n",
       "      <td>0</td>\n",
       "      <td>0</td>\n",
       "      <td>42</td>\n",
       "      <td>1764</td>\n",
       "      <td>8.566555</td>\n",
       "    </tr>\n",
       "  </tbody>\n",
       "</table>\n",
       "</div>"
      ],
      "text/plain": [
       "   Quarter        Sales quarter  Q1  Q2  Q3  Q4   t  t_square  log_Sales\n",
       "0    Q1_86  1734.827000      Q1   1   0   0   0   1         1   7.458663\n",
       "1    Q2_86  2244.960999      Q2   0   1   0   0   2         4   7.716443\n",
       "2    Q3_86  2533.804993      Q3   0   0   1   0   3         9   7.837477\n",
       "3    Q4_86  2154.962997      Q4   0   0   0   1   4        16   7.675529\n",
       "4    Q1_87  1547.818996      Q1   1   0   0   0   5        25   7.344602\n",
       "5    Q2_87  2104.411995      Q2   0   1   0   0   6        36   7.651791\n",
       "6    Q3_87  2014.362999      Q3   0   0   1   0   7        49   7.608058\n",
       "7    Q4_87  1991.746998      Q4   0   0   0   1   8        64   7.596767\n",
       "8    Q1_88  1869.049999      Q1   1   0   0   0   9        81   7.533186\n",
       "9    Q2_88  2313.631996      Q2   0   1   0   0  10       100   7.746574\n",
       "10   Q3_88  2128.320000      Q3   0   0   1   0  11       121   7.663088\n",
       "11   Q4_88  2026.828999      Q4   0   0   0   1  12       144   7.614228\n",
       "12   Q1_89  1910.603996      Q1   1   0   0   0  13       169   7.555175\n",
       "13   Q2_89  2331.164993      Q2   0   1   0   0  14       196   7.754123\n",
       "14   Q3_89  2206.549995      Q3   0   0   1   0  15       225   7.699185\n",
       "15   Q4_89  2173.967995      Q4   0   0   0   1  16       256   7.684309\n",
       "16   Q1_90  2148.278000      Q1   1   0   0   0  17       289   7.672422\n",
       "17   Q2_90  2739.307999      Q2   0   1   0   0  18       324   7.915461\n",
       "18   Q3_90  2792.753998      Q3   0   0   1   0  19       361   7.934783\n",
       "19   Q4_90  2556.009995      Q4   0   0   0   1  20       400   7.846203\n",
       "20   Q1_91  2480.973999      Q1   1   0   0   0  21       441   7.816407\n",
       "21   Q2_91  3039.522995      Q2   0   1   0   0  22       484   8.019456\n",
       "22   Q3_91  3172.115997      Q3   0   0   1   0  23       529   8.062154\n",
       "23   Q4_91  2879.000999      Q4   0   0   0   1  24       576   7.965199\n",
       "24   Q1_92  2772.000000      Q1   1   0   0   0  25       625   7.927324\n",
       "25   Q2_92  3550.000000      Q2   0   1   0   0  26       676   8.174703\n",
       "26   Q3_92  3508.000000      Q3   0   0   1   0  27       729   8.162801\n",
       "27   Q4_92  3243.859993      Q4   0   0   0   1  28       784   8.084519\n",
       "28   Q1_93  3056.000000      Q1   1   0   0   0  29       841   8.024862\n",
       "29   Q2_93  3899.000000      Q2   0   1   0   0  30       900   8.268475\n",
       "30   Q3_93  3629.000000      Q3   0   0   1   0  31       961   8.196712\n",
       "31   Q4_93  3373.000000      Q4   0   0   0   1  32      1024   8.123558\n",
       "32   Q1_94  3352.000000      Q1   1   0   0   0  33      1089   8.117312\n",
       "33   Q2_94  4342.000000      Q2   0   1   0   0  34      1156   8.376090\n",
       "34   Q3_94  4461.000000      Q3   0   0   1   0  35      1225   8.403128\n",
       "35   Q4_94  4017.000000      Q4   0   0   0   1  36      1296   8.298291\n",
       "36   Q1_95  3854.000000      Q1   1   0   0   0  37      1369   8.256867\n",
       "37   Q2_95  4936.000000      Q2   0   1   0   0  38      1444   8.504311\n",
       "38   Q3_95  4895.000000      Q3   0   0   1   0  39      1521   8.495970\n",
       "39   Q4_95  4333.000000      Q4   0   0   0   1  40      1600   8.374015\n",
       "40   Q1_96  4194.000000      Q1   1   0   0   0  41      1681   8.341410\n",
       "41   Q2_96  5253.000000      Q2   0   1   0   0  42      1764   8.566555"
      ]
     },
     "execution_count": 17,
     "metadata": {},
     "output_type": "execute_result"
    }
   ],
   "source": [
    "coco"
   ]
  },
  {
   "cell_type": "code",
   "execution_count": 18,
   "id": "0ecc7bd1",
   "metadata": {
    "ExecuteTime": {
     "end_time": "2023-03-18T13:18:26.450082Z",
     "start_time": "2023-03-18T13:18:26.236891Z"
    }
   },
   "outputs": [
    {
     "data": {
      "text/plain": [
       "<AxesSubplot:xlabel='quarter', ylabel='Sales'>"
      ]
     },
     "execution_count": 18,
     "metadata": {},
     "output_type": "execute_result"
    },
    {
     "data": {
      "image/png": "[encoded data removed]",
      "text/plain": [
       "<Figure size 1200x300 with 1 Axes>"
      ]
     },
     "metadata": {},
     "output_type": "display_data"
    }
   ],
   "source": [
    "plt.figure(figsize=(12,3))\n",
    "sns.lineplot(x=\"quarter\",y=\"Sales\",data=Coca)"
   ]
  },
  {
   "cell_type": "code",
   "execution_count": 19,
   "id": "d5a78ca7",
   "metadata": {
    "ExecuteTime": {
     "end_time": "2023-03-18T13:18:31.442887Z",
     "start_time": "2023-03-18T13:18:31.434874Z"
    }
   },
   "outputs": [],
   "source": [
    "# Splitting Data into training data and test data"
   ]
  },
  {
   "cell_type": "code",
   "execution_count": 20,
   "id": "e94d4470",
   "metadata": {
    "ExecuteTime": {
     "end_time": "2023-03-18T13:18:36.036079Z",
     "start_time": "2023-03-18T13:18:36.030076Z"
    }
   },
   "outputs": [],
   "source": [
    "Train = coco.head(34)"
   ]
  },
  {
   "cell_type": "code",
   "execution_count": 21,
   "id": "bbf11d23",
   "metadata": {
    "ExecuteTime": {
     "end_time": "2023-03-18T13:18:41.257003Z",
     "start_time": "2023-03-18T13:18:41.237002Z"
    }
   },
   "outputs": [],
   "source": [
    "Test = coco.iloc[34:38,:]"
   ]
  },
  {
   "cell_type": "code",
   "execution_count": 22,
   "id": "7d9fc874",
   "metadata": {
    "ExecuteTime": {
     "end_time": "2023-03-18T13:18:46.154764Z",
     "start_time": "2023-03-18T13:18:46.136763Z"
    }
   },
   "outputs": [],
   "source": [
    "predict_data = coco.tail(4)"
   ]
  },
  {
   "cell_type": "code",
   "execution_count": 23,
   "id": "e497a9ea",
   "metadata": {
    "ExecuteTime": {
     "end_time": "2023-03-18T13:18:49.993943Z",
     "start_time": "2023-03-18T13:18:49.987941Z"
    }
   },
   "outputs": [],
   "source": [
    "Coca2= coco.iloc[0:38,:]"
   ]
  },
  {
   "cell_type": "code",
   "execution_count": 24,
   "id": "c2016ccd",
   "metadata": {
    "ExecuteTime": {
     "end_time": "2023-03-18T13:18:54.677101Z",
     "start_time": "2023-03-18T13:18:54.657087Z"
    }
   },
   "outputs": [
    {
     "data": {
      "text/html": [
       "<div>\n",
       "<style scoped>\n",
       "    .dataframe tbody tr th:only-of-type {\n",
       "        vertical-align: middle;\n",
       "    }\n",
       "\n",
       "    .dataframe tbody tr th {\n",
       "        vertical-align: top;\n",
       "    }\n",
       "\n",
       "    .dataframe thead th {\n",
       "        text-align: right;\n",
       "    }\n",
       "</style>\n",
       "<table border=\"1\" class=\"dataframe\">\n",
       "  <thead>\n",
       "    <tr style=\"text-align: right;\">\n",
       "      <th></th>\n",
       "      <th>Quarter</th>\n",
       "      <th>Sales</th>\n",
       "      <th>quarter</th>\n",
       "      <th>Q1</th>\n",
       "      <th>Q2</th>\n",
       "      <th>Q3</th>\n",
       "      <th>Q4</th>\n",
       "      <th>t</th>\n",
       "      <th>t_square</th>\n",
       "      <th>log_Sales</th>\n",
       "    </tr>\n",
       "  </thead>\n",
       "  <tbody>\n",
       "    <tr>\n",
       "      <th>0</th>\n",
       "      <td>Q1_86</td>\n",
       "      <td>1734.827000</td>\n",
       "      <td>Q1</td>\n",
       "      <td>1</td>\n",
       "      <td>0</td>\n",
       "      <td>0</td>\n",
       "      <td>0</td>\n",
       "      <td>1</td>\n",
       "      <td>1</td>\n",
       "      <td>7.458663</td>\n",
       "    </tr>\n",
       "    <tr>\n",
       "      <th>1</th>\n",
       "      <td>Q2_86</td>\n",
       "      <td>2244.960999</td>\n",
       "      <td>Q2</td>\n",
       "      <td>0</td>\n",
       "      <td>1</td>\n",
       "      <td>0</td>\n",
       "      <td>0</td>\n",
       "      <td>2</td>\n",
       "      <td>4</td>\n",
       "      <td>7.716443</td>\n",
       "    </tr>\n",
       "    <tr>\n",
       "      <th>2</th>\n",
       "      <td>Q3_86</td>\n",
       "      <td>2533.804993</td>\n",
       "      <td>Q3</td>\n",
       "      <td>0</td>\n",
       "      <td>0</td>\n",
       "      <td>1</td>\n",
       "      <td>0</td>\n",
       "      <td>3</td>\n",
       "      <td>9</td>\n",
       "      <td>7.837477</td>\n",
       "    </tr>\n",
       "    <tr>\n",
       "      <th>3</th>\n",
       "      <td>Q4_86</td>\n",
       "      <td>2154.962997</td>\n",
       "      <td>Q4</td>\n",
       "      <td>0</td>\n",
       "      <td>0</td>\n",
       "      <td>0</td>\n",
       "      <td>1</td>\n",
       "      <td>4</td>\n",
       "      <td>16</td>\n",
       "      <td>7.675529</td>\n",
       "    </tr>\n",
       "    <tr>\n",
       "      <th>4</th>\n",
       "      <td>Q1_87</td>\n",
       "      <td>1547.818996</td>\n",
       "      <td>Q1</td>\n",
       "      <td>1</td>\n",
       "      <td>0</td>\n",
       "      <td>0</td>\n",
       "      <td>0</td>\n",
       "      <td>5</td>\n",
       "      <td>25</td>\n",
       "      <td>7.344602</td>\n",
       "    </tr>\n",
       "    <tr>\n",
       "      <th>5</th>\n",
       "      <td>Q2_87</td>\n",
       "      <td>2104.411995</td>\n",
       "      <td>Q2</td>\n",
       "      <td>0</td>\n",
       "      <td>1</td>\n",
       "      <td>0</td>\n",
       "      <td>0</td>\n",
       "      <td>6</td>\n",
       "      <td>36</td>\n",
       "      <td>7.651791</td>\n",
       "    </tr>\n",
       "    <tr>\n",
       "      <th>6</th>\n",
       "      <td>Q3_87</td>\n",
       "      <td>2014.362999</td>\n",
       "      <td>Q3</td>\n",
       "      <td>0</td>\n",
       "      <td>0</td>\n",
       "      <td>1</td>\n",
       "      <td>0</td>\n",
       "      <td>7</td>\n",
       "      <td>49</td>\n",
       "      <td>7.608058</td>\n",
       "    </tr>\n",
       "    <tr>\n",
       "      <th>7</th>\n",
       "      <td>Q4_87</td>\n",
       "      <td>1991.746998</td>\n",
       "      <td>Q4</td>\n",
       "      <td>0</td>\n",
       "      <td>0</td>\n",
       "      <td>0</td>\n",
       "      <td>1</td>\n",
       "      <td>8</td>\n",
       "      <td>64</td>\n",
       "      <td>7.596767</td>\n",
       "    </tr>\n",
       "    <tr>\n",
       "      <th>8</th>\n",
       "      <td>Q1_88</td>\n",
       "      <td>1869.049999</td>\n",
       "      <td>Q1</td>\n",
       "      <td>1</td>\n",
       "      <td>0</td>\n",
       "      <td>0</td>\n",
       "      <td>0</td>\n",
       "      <td>9</td>\n",
       "      <td>81</td>\n",
       "      <td>7.533186</td>\n",
       "    </tr>\n",
       "    <tr>\n",
       "      <th>9</th>\n",
       "      <td>Q2_88</td>\n",
       "      <td>2313.631996</td>\n",
       "      <td>Q2</td>\n",
       "      <td>0</td>\n",
       "      <td>1</td>\n",
       "      <td>0</td>\n",
       "      <td>0</td>\n",
       "      <td>10</td>\n",
       "      <td>100</td>\n",
       "      <td>7.746574</td>\n",
       "    </tr>\n",
       "    <tr>\n",
       "      <th>10</th>\n",
       "      <td>Q3_88</td>\n",
       "      <td>2128.320000</td>\n",
       "      <td>Q3</td>\n",
       "      <td>0</td>\n",
       "      <td>0</td>\n",
       "      <td>1</td>\n",
       "      <td>0</td>\n",
       "      <td>11</td>\n",
       "      <td>121</td>\n",
       "      <td>7.663088</td>\n",
       "    </tr>\n",
       "    <tr>\n",
       "      <th>11</th>\n",
       "      <td>Q4_88</td>\n",
       "      <td>2026.828999</td>\n",
       "      <td>Q4</td>\n",
       "      <td>0</td>\n",
       "      <td>0</td>\n",
       "      <td>0</td>\n",
       "      <td>1</td>\n",
       "      <td>12</td>\n",
       "      <td>144</td>\n",
       "      <td>7.614228</td>\n",
       "    </tr>\n",
       "    <tr>\n",
       "      <th>12</th>\n",
       "      <td>Q1_89</td>\n",
       "      <td>1910.603996</td>\n",
       "      <td>Q1</td>\n",
       "      <td>1</td>\n",
       "      <td>0</td>\n",
       "      <td>0</td>\n",
       "      <td>0</td>\n",
       "      <td>13</td>\n",
       "      <td>169</td>\n",
       "      <td>7.555175</td>\n",
       "    </tr>\n",
       "    <tr>\n",
       "      <th>13</th>\n",
       "      <td>Q2_89</td>\n",
       "      <td>2331.164993</td>\n",
       "      <td>Q2</td>\n",
       "      <td>0</td>\n",
       "      <td>1</td>\n",
       "      <td>0</td>\n",
       "      <td>0</td>\n",
       "      <td>14</td>\n",
       "      <td>196</td>\n",
       "      <td>7.754123</td>\n",
       "    </tr>\n",
       "    <tr>\n",
       "      <th>14</th>\n",
       "      <td>Q3_89</td>\n",
       "      <td>2206.549995</td>\n",
       "      <td>Q3</td>\n",
       "      <td>0</td>\n",
       "      <td>0</td>\n",
       "      <td>1</td>\n",
       "      <td>0</td>\n",
       "      <td>15</td>\n",
       "      <td>225</td>\n",
       "      <td>7.699185</td>\n",
       "    </tr>\n",
       "    <tr>\n",
       "      <th>15</th>\n",
       "      <td>Q4_89</td>\n",
       "      <td>2173.967995</td>\n",
       "      <td>Q4</td>\n",
       "      <td>0</td>\n",
       "      <td>0</td>\n",
       "      <td>0</td>\n",
       "      <td>1</td>\n",
       "      <td>16</td>\n",
       "      <td>256</td>\n",
       "      <td>7.684309</td>\n",
       "    </tr>\n",
       "    <tr>\n",
       "      <th>16</th>\n",
       "      <td>Q1_90</td>\n",
       "      <td>2148.278000</td>\n",
       "      <td>Q1</td>\n",
       "      <td>1</td>\n",
       "      <td>0</td>\n",
       "      <td>0</td>\n",
       "      <td>0</td>\n",
       "      <td>17</td>\n",
       "      <td>289</td>\n",
       "      <td>7.672422</td>\n",
       "    </tr>\n",
       "    <tr>\n",
       "      <th>17</th>\n",
       "      <td>Q2_90</td>\n",
       "      <td>2739.307999</td>\n",
       "      <td>Q2</td>\n",
       "      <td>0</td>\n",
       "      <td>1</td>\n",
       "      <td>0</td>\n",
       "      <td>0</td>\n",
       "      <td>18</td>\n",
       "      <td>324</td>\n",
       "      <td>7.915461</td>\n",
       "    </tr>\n",
       "    <tr>\n",
       "      <th>18</th>\n",
       "      <td>Q3_90</td>\n",
       "      <td>2792.753998</td>\n",
       "      <td>Q3</td>\n",
       "      <td>0</td>\n",
       "      <td>0</td>\n",
       "      <td>1</td>\n",
       "      <td>0</td>\n",
       "      <td>19</td>\n",
       "      <td>361</td>\n",
       "      <td>7.934783</td>\n",
       "    </tr>\n",
       "    <tr>\n",
       "      <th>19</th>\n",
       "      <td>Q4_90</td>\n",
       "      <td>2556.009995</td>\n",
       "      <td>Q4</td>\n",
       "      <td>0</td>\n",
       "      <td>0</td>\n",
       "      <td>0</td>\n",
       "      <td>1</td>\n",
       "      <td>20</td>\n",
       "      <td>400</td>\n",
       "      <td>7.846203</td>\n",
       "    </tr>\n",
       "    <tr>\n",
       "      <th>20</th>\n",
       "      <td>Q1_91</td>\n",
       "      <td>2480.973999</td>\n",
       "      <td>Q1</td>\n",
       "      <td>1</td>\n",
       "      <td>0</td>\n",
       "      <td>0</td>\n",
       "      <td>0</td>\n",
       "      <td>21</td>\n",
       "      <td>441</td>\n",
       "      <td>7.816407</td>\n",
       "    </tr>\n",
       "    <tr>\n",
       "      <th>21</th>\n",
       "      <td>Q2_91</td>\n",
       "      <td>3039.522995</td>\n",
       "      <td>Q2</td>\n",
       "      <td>0</td>\n",
       "      <td>1</td>\n",
       "      <td>0</td>\n",
       "      <td>0</td>\n",
       "      <td>22</td>\n",
       "      <td>484</td>\n",
       "      <td>8.019456</td>\n",
       "    </tr>\n",
       "    <tr>\n",
       "      <th>22</th>\n",
       "      <td>Q3_91</td>\n",
       "      <td>3172.115997</td>\n",
       "      <td>Q3</td>\n",
       "      <td>0</td>\n",
       "      <td>0</td>\n",
       "      <td>1</td>\n",
       "      <td>0</td>\n",
       "      <td>23</td>\n",
       "      <td>529</td>\n",
       "      <td>8.062154</td>\n",
       "    </tr>\n",
       "    <tr>\n",
       "      <th>23</th>\n",
       "      <td>Q4_91</td>\n",
       "      <td>2879.000999</td>\n",
       "      <td>Q4</td>\n",
       "      <td>0</td>\n",
       "      <td>0</td>\n",
       "      <td>0</td>\n",
       "      <td>1</td>\n",
       "      <td>24</td>\n",
       "      <td>576</td>\n",
       "      <td>7.965199</td>\n",
       "    </tr>\n",
       "    <tr>\n",
       "      <th>24</th>\n",
       "      <td>Q1_92</td>\n",
       "      <td>2772.000000</td>\n",
       "      <td>Q1</td>\n",
       "      <td>1</td>\n",
       "      <td>0</td>\n",
       "      <td>0</td>\n",
       "      <td>0</td>\n",
       "      <td>25</td>\n",
       "      <td>625</td>\n",
       "      <td>7.927324</td>\n",
       "    </tr>\n",
       "    <tr>\n",
       "      <th>25</th>\n",
       "      <td>Q2_92</td>\n",
       "      <td>3550.000000</td>\n",
       "      <td>Q2</td>\n",
       "      <td>0</td>\n",
       "      <td>1</td>\n",
       "      <td>0</td>\n",
       "      <td>0</td>\n",
       "      <td>26</td>\n",
       "      <td>676</td>\n",
       "      <td>8.174703</td>\n",
       "    </tr>\n",
       "    <tr>\n",
       "      <th>26</th>\n",
       "      <td>Q3_92</td>\n",
       "      <td>3508.000000</td>\n",
       "      <td>Q3</td>\n",
       "      <td>0</td>\n",
       "      <td>0</td>\n",
       "      <td>1</td>\n",
       "      <td>0</td>\n",
       "      <td>27</td>\n",
       "      <td>729</td>\n",
       "      <td>8.162801</td>\n",
       "    </tr>\n",
       "    <tr>\n",
       "      <th>27</th>\n",
       "      <td>Q4_92</td>\n",
       "      <td>3243.859993</td>\n",
       "      <td>Q4</td>\n",
       "      <td>0</td>\n",
       "      <td>0</td>\n",
       "      <td>0</td>\n",
       "      <td>1</td>\n",
       "      <td>28</td>\n",
       "      <td>784</td>\n",
       "      <td>8.084519</td>\n",
       "    </tr>\n",
       "    <tr>\n",
       "      <th>28</th>\n",
       "      <td>Q1_93</td>\n",
       "      <td>3056.000000</td>\n",
       "      <td>Q1</td>\n",
       "      <td>1</td>\n",
       "      <td>0</td>\n",
       "      <td>0</td>\n",
       "      <td>0</td>\n",
       "      <td>29</td>\n",
       "      <td>841</td>\n",
       "      <td>8.024862</td>\n",
       "    </tr>\n",
       "    <tr>\n",
       "      <th>29</th>\n",
       "      <td>Q2_93</td>\n",
       "      <td>3899.000000</td>\n",
       "      <td>Q2</td>\n",
       "      <td>0</td>\n",
       "      <td>1</td>\n",
       "      <td>0</td>\n",
       "      <td>0</td>\n",
       "      <td>30</td>\n",
       "      <td>900</td>\n",
       "      <td>8.268475</td>\n",
       "    </tr>\n",
       "    <tr>\n",
       "      <th>30</th>\n",
       "      <td>Q3_93</td>\n",
       "      <td>3629.000000</td>\n",
       "      <td>Q3</td>\n",
       "      <td>0</td>\n",
       "      <td>0</td>\n",
       "      <td>1</td>\n",
       "      <td>0</td>\n",
       "      <td>31</td>\n",
       "      <td>961</td>\n",
       "      <td>8.196712</td>\n",
       "    </tr>\n",
       "    <tr>\n",
       "      <th>31</th>\n",
       "      <td>Q4_93</td>\n",
       "      <td>3373.000000</td>\n",
       "      <td>Q4</td>\n",
       "      <td>0</td>\n",
       "      <td>0</td>\n",
       "      <td>0</td>\n",
       "      <td>1</td>\n",
       "      <td>32</td>\n",
       "      <td>1024</td>\n",
       "      <td>8.123558</td>\n",
       "    </tr>\n",
       "    <tr>\n",
       "      <th>32</th>\n",
       "      <td>Q1_94</td>\n",
       "      <td>3352.000000</td>\n",
       "      <td>Q1</td>\n",
       "      <td>1</td>\n",
       "      <td>0</td>\n",
       "      <td>0</td>\n",
       "      <td>0</td>\n",
       "      <td>33</td>\n",
       "      <td>1089</td>\n",
       "      <td>8.117312</td>\n",
       "    </tr>\n",
       "    <tr>\n",
       "      <th>33</th>\n",
       "      <td>Q2_94</td>\n",
       "      <td>4342.000000</td>\n",
       "      <td>Q2</td>\n",
       "      <td>0</td>\n",
       "      <td>1</td>\n",
       "      <td>0</td>\n",
       "      <td>0</td>\n",
       "      <td>34</td>\n",
       "      <td>1156</td>\n",
       "      <td>8.376090</td>\n",
       "    </tr>\n",
       "  </tbody>\n",
       "</table>\n",
       "</div>"
      ],
      "text/plain": [
       "   Quarter        Sales quarter  Q1  Q2  Q3  Q4   t  t_square  log_Sales\n",
       "0    Q1_86  1734.827000      Q1   1   0   0   0   1         1   7.458663\n",
       "1    Q2_86  2244.960999      Q2   0   1   0   0   2         4   7.716443\n",
       "2    Q3_86  2533.804993      Q3   0   0   1   0   3         9   7.837477\n",
       "3    Q4_86  2154.962997      Q4   0   0   0   1   4        16   7.675529\n",
       "4    Q1_87  1547.818996      Q1   1   0   0   0   5        25   7.344602\n",
       "5    Q2_87  2104.411995      Q2   0   1   0   0   6        36   7.651791\n",
       "6    Q3_87  2014.362999      Q3   0   0   1   0   7        49   7.608058\n",
       "7    Q4_87  1991.746998      Q4   0   0   0   1   8        64   7.596767\n",
       "8    Q1_88  1869.049999      Q1   1   0   0   0   9        81   7.533186\n",
       "9    Q2_88  2313.631996      Q2   0   1   0   0  10       100   7.746574\n",
       "10   Q3_88  2128.320000      Q3   0   0   1   0  11       121   7.663088\n",
       "11   Q4_88  2026.828999      Q4   0   0   0   1  12       144   7.614228\n",
       "12   Q1_89  1910.603996      Q1   1   0   0   0  13       169   7.555175\n",
       "13   Q2_89  2331.164993      Q2   0   1   0   0  14       196   7.754123\n",
       "14   Q3_89  2206.549995      Q3   0   0   1   0  15       225   7.699185\n",
       "15   Q4_89  2173.967995      Q4   0   0   0   1  16       256   7.684309\n",
       "16   Q1_90  2148.278000      Q1   1   0   0   0  17       289   7.672422\n",
       "17   Q2_90  2739.307999      Q2   0   1   0   0  18       324   7.915461\n",
       "18   Q3_90  2792.753998      Q3   0   0   1   0  19       361   7.934783\n",
       "19   Q4_90  2556.009995      Q4   0   0   0   1  20       400   7.846203\n",
       "20   Q1_91  2480.973999      Q1   1   0   0   0  21       441   7.816407\n",
       "21   Q2_91  3039.522995      Q2   0   1   0   0  22       484   8.019456\n",
       "22   Q3_91  3172.115997      Q3   0   0   1   0  23       529   8.062154\n",
       "23   Q4_91  2879.000999      Q4   0   0   0   1  24       576   7.965199\n",
       "24   Q1_92  2772.000000      Q1   1   0   0   0  25       625   7.927324\n",
       "25   Q2_92  3550.000000      Q2   0   1   0   0  26       676   8.174703\n",
       "26   Q3_92  3508.000000      Q3   0   0   1   0  27       729   8.162801\n",
       "27   Q4_92  3243.859993      Q4   0   0   0   1  28       784   8.084519\n",
       "28   Q1_93  3056.000000      Q1   1   0   0   0  29       841   8.024862\n",
       "29   Q2_93  3899.000000      Q2   0   1   0   0  30       900   8.268475\n",
       "30   Q3_93  3629.000000      Q3   0   0   1   0  31       961   8.196712\n",
       "31   Q4_93  3373.000000      Q4   0   0   0   1  32      1024   8.123558\n",
       "32   Q1_94  3352.000000      Q1   1   0   0   0  33      1089   8.117312\n",
       "33   Q2_94  4342.000000      Q2   0   1   0   0  34      1156   8.376090"
      ]
     },
     "execution_count": 24,
     "metadata": {},
     "output_type": "execute_result"
    }
   ],
   "source": [
    "Train"
   ]
  },
  {
   "cell_type": "code",
   "execution_count": 25,
   "id": "085f4c26",
   "metadata": {
    "ExecuteTime": {
     "end_time": "2023-03-18T13:18:59.591498Z",
     "start_time": "2023-03-18T13:18:59.572482Z"
    }
   },
   "outputs": [
    {
     "data": {
      "text/html": [
       "<div>\n",
       "<style scoped>\n",
       "    .dataframe tbody tr th:only-of-type {\n",
       "        vertical-align: middle;\n",
       "    }\n",
       "\n",
       "    .dataframe tbody tr th {\n",
       "        vertical-align: top;\n",
       "    }\n",
       "\n",
       "    .dataframe thead th {\n",
       "        text-align: right;\n",
       "    }\n",
       "</style>\n",
       "<table border=\"1\" class=\"dataframe\">\n",
       "  <thead>\n",
       "    <tr style=\"text-align: right;\">\n",
       "      <th></th>\n",
       "      <th>Quarter</th>\n",
       "      <th>Sales</th>\n",
       "      <th>quarter</th>\n",
       "      <th>Q1</th>\n",
       "      <th>Q2</th>\n",
       "      <th>Q3</th>\n",
       "      <th>Q4</th>\n",
       "      <th>t</th>\n",
       "      <th>t_square</th>\n",
       "      <th>log_Sales</th>\n",
       "    </tr>\n",
       "  </thead>\n",
       "  <tbody>\n",
       "    <tr>\n",
       "      <th>34</th>\n",
       "      <td>Q3_94</td>\n",
       "      <td>4461.0</td>\n",
       "      <td>Q3</td>\n",
       "      <td>0</td>\n",
       "      <td>0</td>\n",
       "      <td>1</td>\n",
       "      <td>0</td>\n",
       "      <td>35</td>\n",
       "      <td>1225</td>\n",
       "      <td>8.403128</td>\n",
       "    </tr>\n",
       "    <tr>\n",
       "      <th>35</th>\n",
       "      <td>Q4_94</td>\n",
       "      <td>4017.0</td>\n",
       "      <td>Q4</td>\n",
       "      <td>0</td>\n",
       "      <td>0</td>\n",
       "      <td>0</td>\n",
       "      <td>1</td>\n",
       "      <td>36</td>\n",
       "      <td>1296</td>\n",
       "      <td>8.298291</td>\n",
       "    </tr>\n",
       "    <tr>\n",
       "      <th>36</th>\n",
       "      <td>Q1_95</td>\n",
       "      <td>3854.0</td>\n",
       "      <td>Q1</td>\n",
       "      <td>1</td>\n",
       "      <td>0</td>\n",
       "      <td>0</td>\n",
       "      <td>0</td>\n",
       "      <td>37</td>\n",
       "      <td>1369</td>\n",
       "      <td>8.256867</td>\n",
       "    </tr>\n",
       "    <tr>\n",
       "      <th>37</th>\n",
       "      <td>Q2_95</td>\n",
       "      <td>4936.0</td>\n",
       "      <td>Q2</td>\n",
       "      <td>0</td>\n",
       "      <td>1</td>\n",
       "      <td>0</td>\n",
       "      <td>0</td>\n",
       "      <td>38</td>\n",
       "      <td>1444</td>\n",
       "      <td>8.504311</td>\n",
       "    </tr>\n",
       "  </tbody>\n",
       "</table>\n",
       "</div>"
      ],
      "text/plain": [
       "   Quarter   Sales quarter  Q1  Q2  Q3  Q4   t  t_square  log_Sales\n",
       "34   Q3_94  4461.0      Q3   0   0   1   0  35      1225   8.403128\n",
       "35   Q4_94  4017.0      Q4   0   0   0   1  36      1296   8.298291\n",
       "36   Q1_95  3854.0      Q1   1   0   0   0  37      1369   8.256867\n",
       "37   Q2_95  4936.0      Q2   0   1   0   0  38      1444   8.504311"
      ]
     },
     "execution_count": 25,
     "metadata": {},
     "output_type": "execute_result"
    }
   ],
   "source": [
    "Test"
   ]
  },
  {
   "cell_type": "code",
   "execution_count": 26,
   "id": "fb8be111",
   "metadata": {
    "ExecuteTime": {
     "end_time": "2023-03-18T13:19:04.875843Z",
     "start_time": "2023-03-18T13:19:04.846839Z"
    }
   },
   "outputs": [
    {
     "data": {
      "text/html": [
       "<div>\n",
       "<style scoped>\n",
       "    .dataframe tbody tr th:only-of-type {\n",
       "        vertical-align: middle;\n",
       "    }\n",
       "\n",
       "    .dataframe tbody tr th {\n",
       "        vertical-align: top;\n",
       "    }\n",
       "\n",
       "    .dataframe thead th {\n",
       "        text-align: right;\n",
       "    }\n",
       "</style>\n",
       "<table border=\"1\" class=\"dataframe\">\n",
       "  <thead>\n",
       "    <tr style=\"text-align: right;\">\n",
       "      <th></th>\n",
       "      <th>Quarter</th>\n",
       "      <th>Sales</th>\n",
       "      <th>quarter</th>\n",
       "      <th>Q1</th>\n",
       "      <th>Q2</th>\n",
       "      <th>Q3</th>\n",
       "      <th>Q4</th>\n",
       "      <th>t</th>\n",
       "      <th>t_square</th>\n",
       "      <th>log_Sales</th>\n",
       "    </tr>\n",
       "  </thead>\n",
       "  <tbody>\n",
       "    <tr>\n",
       "      <th>38</th>\n",
       "      <td>Q3_95</td>\n",
       "      <td>4895.0</td>\n",
       "      <td>Q3</td>\n",
       "      <td>0</td>\n",
       "      <td>0</td>\n",
       "      <td>1</td>\n",
       "      <td>0</td>\n",
       "      <td>39</td>\n",
       "      <td>1521</td>\n",
       "      <td>8.495970</td>\n",
       "    </tr>\n",
       "    <tr>\n",
       "      <th>39</th>\n",
       "      <td>Q4_95</td>\n",
       "      <td>4333.0</td>\n",
       "      <td>Q4</td>\n",
       "      <td>0</td>\n",
       "      <td>0</td>\n",
       "      <td>0</td>\n",
       "      <td>1</td>\n",
       "      <td>40</td>\n",
       "      <td>1600</td>\n",
       "      <td>8.374015</td>\n",
       "    </tr>\n",
       "    <tr>\n",
       "      <th>40</th>\n",
       "      <td>Q1_96</td>\n",
       "      <td>4194.0</td>\n",
       "      <td>Q1</td>\n",
       "      <td>1</td>\n",
       "      <td>0</td>\n",
       "      <td>0</td>\n",
       "      <td>0</td>\n",
       "      <td>41</td>\n",
       "      <td>1681</td>\n",
       "      <td>8.341410</td>\n",
       "    </tr>\n",
       "    <tr>\n",
       "      <th>41</th>\n",
       "      <td>Q2_96</td>\n",
       "      <td>5253.0</td>\n",
       "      <td>Q2</td>\n",
       "      <td>0</td>\n",
       "      <td>1</td>\n",
       "      <td>0</td>\n",
       "      <td>0</td>\n",
       "      <td>42</td>\n",
       "      <td>1764</td>\n",
       "      <td>8.566555</td>\n",
       "    </tr>\n",
       "  </tbody>\n",
       "</table>\n",
       "</div>"
      ],
      "text/plain": [
       "   Quarter   Sales quarter  Q1  Q2  Q3  Q4   t  t_square  log_Sales\n",
       "38   Q3_95  4895.0      Q3   0   0   1   0  39      1521   8.495970\n",
       "39   Q4_95  4333.0      Q4   0   0   0   1  40      1600   8.374015\n",
       "40   Q1_96  4194.0      Q1   1   0   0   0  41      1681   8.341410\n",
       "41   Q2_96  5253.0      Q2   0   1   0   0  42      1764   8.566555"
      ]
     },
     "execution_count": 26,
     "metadata": {},
     "output_type": "execute_result"
    }
   ],
   "source": [
    "predict_data"
   ]
  },
  {
   "cell_type": "code",
   "execution_count": 27,
   "id": "b3cabc9f",
   "metadata": {
    "ExecuteTime": {
     "end_time": "2023-03-18T13:19:09.931205Z",
     "start_time": "2023-03-18T13:19:09.784405Z"
    }
   },
   "outputs": [
    {
     "data": {
      "text/plain": [
       "669.4685590402645"
      ]
     },
     "execution_count": 27,
     "metadata": {},
     "output_type": "execute_result"
    }
   ],
   "source": [
    "# Linear Model\n",
    "import statsmodels.formula.api as smf \n",
    "linear_model = smf.ols('Sales~t',data=Train).fit()\n",
    "pred_linear =  pd.Series(linear_model.predict(pd.DataFrame(Test['t'])))\n",
    "rmse_linear = np.sqrt(np.mean((np.array(Test['Sales'])-np.array(pred_linear))**2))\n",
    "rmse_linear"
   ]
  },
  {
   "cell_type": "code",
   "execution_count": 28,
   "id": "d4476478",
   "metadata": {
    "ExecuteTime": {
     "end_time": "2023-03-18T13:19:15.108314Z",
     "start_time": "2023-03-18T13:19:15.091316Z"
    }
   },
   "outputs": [
    {
     "data": {
      "text/plain": [
       "564.5012993862488"
      ]
     },
     "execution_count": 28,
     "metadata": {},
     "output_type": "execute_result"
    }
   ],
   "source": [
    "# Exponential\n",
    "Exp = smf.ols('log_Sales~t',data=Train).fit()\n",
    "pred_Exp = pd.Series(Exp.predict(pd.DataFrame(Test['t'])))\n",
    "rmse_Exp = np.sqrt(np.mean((np.array(Test['Sales'])-np.array(np.exp(pred_Exp)))**2))\n",
    "rmse_Exp"
   ]
  },
  {
   "cell_type": "code",
   "execution_count": 29,
   "id": "939a0db4",
   "metadata": {
    "ExecuteTime": {
     "end_time": "2023-03-18T13:19:19.973559Z",
     "start_time": "2023-03-18T13:19:19.940568Z"
    }
   },
   "outputs": [
    {
     "data": {
      "text/plain": [
       "394.6747277541497"
      ]
     },
     "execution_count": 29,
     "metadata": {},
     "output_type": "execute_result"
    }
   ],
   "source": [
    "# Quadratic \n",
    "Quad = smf.ols('Sales~t+t_square',data=Train).fit()\n",
    "pred_Quad = pd.Series(Quad.predict(Test[[\"t\",\"t_square\"]]))\n",
    "rmse_Quad = np.sqrt(np.mean((np.array(Test['Sales'])-np.array(pred_Quad))**2))\n",
    "rmse_Quad"
   ]
  },
  {
   "cell_type": "code",
   "execution_count": 30,
   "id": "21862a36",
   "metadata": {
    "ExecuteTime": {
     "end_time": "2023-03-18T13:19:24.476165Z",
     "start_time": "2023-03-18T13:19:24.443166Z"
    }
   },
   "outputs": [
    {
     "data": {
      "text/plain": [
       "1686.7389646362878"
      ]
     },
     "execution_count": 30,
     "metadata": {},
     "output_type": "execute_result"
    }
   ],
   "source": [
    "# Additive seasonality \n",
    "add_sea = smf.ols('Sales~Q1+Q2+Q3+Q4',data=Train).fit()\n",
    "pred_add_sea = pd.Series(add_sea.predict(Test[['Q1','Q2','Q3','Q4']]))\n",
    "rmse_add_sea = np.sqrt(np.mean((np.array(Test['Sales'])-np.array(pred_add_sea))**2))\n",
    "rmse_add_sea"
   ]
  },
  {
   "cell_type": "code",
   "execution_count": 31,
   "id": "55a2eedc",
   "metadata": {
    "ExecuteTime": {
     "end_time": "2023-03-18T13:19:30.271861Z",
     "start_time": "2023-03-18T13:19:30.231871Z"
    }
   },
   "outputs": [
    {
     "data": {
      "text/plain": [
       "174.88610047129032"
      ]
     },
     "execution_count": 31,
     "metadata": {},
     "output_type": "execute_result"
    }
   ],
   "source": [
    "# Additive Seasonality Quadratic \n",
    "add_sea_Quad = smf.ols('Sales~t+t_square+Q1+Q2+Q3+Q4',data=Train).fit()\n",
    "pred_add_sea_quad = pd.Series(add_sea_Quad.predict(Test[['Q1','Q2','Q3','Q4','t','t_square']]))\n",
    "rmse_add_sea_quad = np.sqrt(np.mean((np.array(Test['Sales'])-np.array(pred_add_sea_quad))**2))\n",
    "rmse_add_sea_quad"
   ]
  },
  {
   "cell_type": "code",
   "execution_count": 32,
   "id": "26500f1c",
   "metadata": {
    "ExecuteTime": {
     "end_time": "2023-03-18T13:19:34.913171Z",
     "start_time": "2023-03-18T13:19:34.888175Z"
    }
   },
   "outputs": [
    {
     "data": {
      "text/plain": [
       "1757.774041420225"
      ]
     },
     "execution_count": 32,
     "metadata": {},
     "output_type": "execute_result"
    }
   ],
   "source": [
    "# Multiplicative Seasonality\n",
    "Mul_sea = smf.ols('log_Sales~Q1+Q2+Q3+Q4',data = Train).fit()\n",
    "pred_Mult_sea = pd.Series(Mul_sea.predict(Test))\n",
    "rmse_Mult_sea = np.sqrt(np.mean((np.array(Test['Sales'])-np.array(np.exp(pred_Mult_sea)))**2))\n",
    "rmse_Mult_sea"
   ]
  },
  {
   "cell_type": "code",
   "execution_count": 33,
   "id": "89fdc248",
   "metadata": {
    "ExecuteTime": {
     "end_time": "2023-03-18T13:19:39.725003Z",
     "start_time": "2023-03-18T13:19:39.688004Z"
    }
   },
   "outputs": [
    {
     "data": {
      "text/plain": [
       "404.5642262159375"
      ]
     },
     "execution_count": 33,
     "metadata": {},
     "output_type": "execute_result"
    }
   ],
   "source": [
    "# Multiplicative Additive Seasonality\n",
    "Mul_Add_sea = smf.ols('log_Sales~t+Q1+Q2+Q3+Q4',data = Train).fit()\n",
    "pred_Mult_add_sea = pd.Series(Mul_Add_sea.predict(Test))\n",
    "rmse_Mult_add_sea = np.sqrt(np.mean((np.array(Test['Sales'])-np.array(np.exp(pred_Mult_add_sea)))**2))\n",
    "rmse_Mult_add_sea"
   ]
  },
  {
   "cell_type": "code",
   "execution_count": 34,
   "id": "99f968ac",
   "metadata": {
    "ExecuteTime": {
     "end_time": "2023-03-18T13:19:43.961160Z",
     "start_time": "2023-03-18T13:19:43.950161Z"
    }
   },
   "outputs": [],
   "source": [
    "# Compare the results"
   ]
  },
  {
   "cell_type": "code",
   "execution_count": 35,
   "id": "78d3ae2d",
   "metadata": {
    "ExecuteTime": {
     "end_time": "2023-03-18T13:19:48.973798Z",
     "start_time": "2023-03-18T13:19:48.945785Z"
    }
   },
   "outputs": [
    {
     "data": {
      "text/html": [
       "<div>\n",
       "<style scoped>\n",
       "    .dataframe tbody tr th:only-of-type {\n",
       "        vertical-align: middle;\n",
       "    }\n",
       "\n",
       "    .dataframe tbody tr th {\n",
       "        vertical-align: top;\n",
       "    }\n",
       "\n",
       "    .dataframe thead th {\n",
       "        text-align: right;\n",
       "    }\n",
       "</style>\n",
       "<table border=\"1\" class=\"dataframe\">\n",
       "  <thead>\n",
       "    <tr style=\"text-align: right;\">\n",
       "      <th></th>\n",
       "      <th>MODEL</th>\n",
       "      <th>RMSE_Values</th>\n",
       "    </tr>\n",
       "  </thead>\n",
       "  <tbody>\n",
       "    <tr>\n",
       "      <th>4</th>\n",
       "      <td>rmse_add_sea_quad</td>\n",
       "      <td>174.886100</td>\n",
       "    </tr>\n",
       "    <tr>\n",
       "      <th>2</th>\n",
       "      <td>rmse_Quad</td>\n",
       "      <td>394.674728</td>\n",
       "    </tr>\n",
       "    <tr>\n",
       "      <th>6</th>\n",
       "      <td>rmse_Mult_add_sea</td>\n",
       "      <td>404.564226</td>\n",
       "    </tr>\n",
       "    <tr>\n",
       "      <th>1</th>\n",
       "      <td>rmse_Exp</td>\n",
       "      <td>564.501299</td>\n",
       "    </tr>\n",
       "    <tr>\n",
       "      <th>0</th>\n",
       "      <td>rmse_linear</td>\n",
       "      <td>669.468559</td>\n",
       "    </tr>\n",
       "    <tr>\n",
       "      <th>3</th>\n",
       "      <td>rmse_add_sea</td>\n",
       "      <td>1686.738965</td>\n",
       "    </tr>\n",
       "    <tr>\n",
       "      <th>5</th>\n",
       "      <td>rmse_Mult_sea</td>\n",
       "      <td>1757.774041</td>\n",
       "    </tr>\n",
       "  </tbody>\n",
       "</table>\n",
       "</div>"
      ],
      "text/plain": [
       "               MODEL  RMSE_Values\n",
       "4  rmse_add_sea_quad   174.886100\n",
       "2          rmse_Quad   394.674728\n",
       "6  rmse_Mult_add_sea   404.564226\n",
       "1           rmse_Exp   564.501299\n",
       "0        rmse_linear   669.468559\n",
       "3       rmse_add_sea  1686.738965\n",
       "5      rmse_Mult_sea  1757.774041"
      ]
     },
     "execution_count": 35,
     "metadata": {},
     "output_type": "execute_result"
    }
   ],
   "source": [
    "data = {\"MODEL\":pd.Series([\"rmse_linear\",\"rmse_Exp\",\"rmse_Quad\",\"rmse_add_sea\",\"rmse_add_sea_quad\",\"rmse_Mult_sea\",\"rmse_Mult_add_sea\"]),\"RMSE_Values\":pd.Series([rmse_linear,rmse_Exp,rmse_Quad,rmse_add_sea,rmse_add_sea_quad,rmse_Mult_sea,rmse_Mult_add_sea])}\n",
    "table_rmse=pd.DataFrame(data)\n",
    "table_rmse.sort_values(['RMSE_Values'])"
   ]
  },
  {
   "cell_type": "code",
   "execution_count": 36,
   "id": "c675521f",
   "metadata": {
    "ExecuteTime": {
     "end_time": "2023-03-18T13:19:53.678017Z",
     "start_time": "2023-03-18T13:19:53.672025Z"
    }
   },
   "outputs": [],
   "source": [
    "# Predict New Model"
   ]
  },
  {
   "cell_type": "code",
   "execution_count": 37,
   "id": "61b099cf",
   "metadata": {
    "ExecuteTime": {
     "end_time": "2023-03-18T13:19:57.398752Z",
     "start_time": "2023-03-18T13:19:57.382754Z"
    }
   },
   "outputs": [
    {
     "data": {
      "text/html": [
       "<div>\n",
       "<style scoped>\n",
       "    .dataframe tbody tr th:only-of-type {\n",
       "        vertical-align: middle;\n",
       "    }\n",
       "\n",
       "    .dataframe tbody tr th {\n",
       "        vertical-align: top;\n",
       "    }\n",
       "\n",
       "    .dataframe thead th {\n",
       "        text-align: right;\n",
       "    }\n",
       "</style>\n",
       "<table border=\"1\" class=\"dataframe\">\n",
       "  <thead>\n",
       "    <tr style=\"text-align: right;\">\n",
       "      <th></th>\n",
       "      <th>Quarter</th>\n",
       "      <th>Sales</th>\n",
       "      <th>quarter</th>\n",
       "      <th>Q1</th>\n",
       "      <th>Q2</th>\n",
       "      <th>Q3</th>\n",
       "      <th>Q4</th>\n",
       "      <th>t</th>\n",
       "      <th>t_square</th>\n",
       "      <th>log_Sales</th>\n",
       "    </tr>\n",
       "  </thead>\n",
       "  <tbody>\n",
       "    <tr>\n",
       "      <th>38</th>\n",
       "      <td>Q3_95</td>\n",
       "      <td>4895.0</td>\n",
       "      <td>Q3</td>\n",
       "      <td>0</td>\n",
       "      <td>0</td>\n",
       "      <td>1</td>\n",
       "      <td>0</td>\n",
       "      <td>39</td>\n",
       "      <td>1521</td>\n",
       "      <td>8.495970</td>\n",
       "    </tr>\n",
       "    <tr>\n",
       "      <th>39</th>\n",
       "      <td>Q4_95</td>\n",
       "      <td>4333.0</td>\n",
       "      <td>Q4</td>\n",
       "      <td>0</td>\n",
       "      <td>0</td>\n",
       "      <td>0</td>\n",
       "      <td>1</td>\n",
       "      <td>40</td>\n",
       "      <td>1600</td>\n",
       "      <td>8.374015</td>\n",
       "    </tr>\n",
       "    <tr>\n",
       "      <th>40</th>\n",
       "      <td>Q1_96</td>\n",
       "      <td>4194.0</td>\n",
       "      <td>Q1</td>\n",
       "      <td>1</td>\n",
       "      <td>0</td>\n",
       "      <td>0</td>\n",
       "      <td>0</td>\n",
       "      <td>41</td>\n",
       "      <td>1681</td>\n",
       "      <td>8.341410</td>\n",
       "    </tr>\n",
       "    <tr>\n",
       "      <th>41</th>\n",
       "      <td>Q2_96</td>\n",
       "      <td>5253.0</td>\n",
       "      <td>Q2</td>\n",
       "      <td>0</td>\n",
       "      <td>1</td>\n",
       "      <td>0</td>\n",
       "      <td>0</td>\n",
       "      <td>42</td>\n",
       "      <td>1764</td>\n",
       "      <td>8.566555</td>\n",
       "    </tr>\n",
       "  </tbody>\n",
       "</table>\n",
       "</div>"
      ],
      "text/plain": [
       "   Quarter   Sales quarter  Q1  Q2  Q3  Q4   t  t_square  log_Sales\n",
       "38   Q3_95  4895.0      Q3   0   0   1   0  39      1521   8.495970\n",
       "39   Q4_95  4333.0      Q4   0   0   0   1  40      1600   8.374015\n",
       "40   Q1_96  4194.0      Q1   1   0   0   0  41      1681   8.341410\n",
       "41   Q2_96  5253.0      Q2   0   1   0   0  42      1764   8.566555"
      ]
     },
     "execution_count": 37,
     "metadata": {},
     "output_type": "execute_result"
    }
   ],
   "source": [
    "predict_data"
   ]
  },
  {
   "cell_type": "code",
   "execution_count": 38,
   "id": "4e68ec29",
   "metadata": {
    "ExecuteTime": {
     "end_time": "2023-03-18T13:20:02.339490Z",
     "start_time": "2023-03-18T13:20:02.330485Z"
    }
   },
   "outputs": [],
   "source": [
    "# Build the model on entire data set"
   ]
  },
  {
   "cell_type": "code",
   "execution_count": 39,
   "id": "99d45d22",
   "metadata": {
    "ExecuteTime": {
     "end_time": "2023-03-18T13:20:08.019892Z",
     "start_time": "2023-03-18T13:20:07.992891Z"
    }
   },
   "outputs": [],
   "source": [
    "model_full = smf.ols('Sales~t+t_square+Q1+Q2+Q3+Q4',data=Coca2).fit()"
   ]
  },
  {
   "cell_type": "code",
   "execution_count": 40,
   "id": "f63c0d71",
   "metadata": {
    "ExecuteTime": {
     "end_time": "2023-03-18T13:20:13.494961Z",
     "start_time": "2023-03-18T13:20:13.466970Z"
    }
   },
   "outputs": [
    {
     "data": {
      "text/plain": [
       "38    4839.220330\n",
       "39    4731.881928\n",
       "40    4668.345851\n",
       "41    5399.952382\n",
       "dtype: float64"
      ]
     },
     "execution_count": 40,
     "metadata": {},
     "output_type": "execute_result"
    }
   ],
   "source": [
    "pred_new  = pd.Series(add_sea_Quad.predict(predict_data))\n",
    "pred_new"
   ]
  },
  {
   "cell_type": "code",
   "execution_count": 41,
   "id": "5411c724",
   "metadata": {
    "ExecuteTime": {
     "end_time": "2023-03-18T13:20:18.375946Z",
     "start_time": "2023-03-18T13:20:18.356948Z"
    }
   },
   "outputs": [],
   "source": [
    "predict_data[\"forecasted_Sales\"] = pd.DataFrame(pred_new)"
   ]
  },
  {
   "cell_type": "code",
   "execution_count": 42,
   "id": "98cb5ee1",
   "metadata": {
    "ExecuteTime": {
     "end_time": "2023-03-18T13:20:24.042449Z",
     "start_time": "2023-03-18T13:20:24.028451Z"
    }
   },
   "outputs": [
    {
     "data": {
      "text/html": [
       "<div>\n",
       "<style scoped>\n",
       "    .dataframe tbody tr th:only-of-type {\n",
       "        vertical-align: middle;\n",
       "    }\n",
       "\n",
       "    .dataframe tbody tr th {\n",
       "        vertical-align: top;\n",
       "    }\n",
       "\n",
       "    .dataframe thead th {\n",
       "        text-align: right;\n",
       "    }\n",
       "</style>\n",
       "<table border=\"1\" class=\"dataframe\">\n",
       "  <thead>\n",
       "    <tr style=\"text-align: right;\">\n",
       "      <th></th>\n",
       "      <th>Quarter</th>\n",
       "      <th>Sales</th>\n",
       "      <th>quarter</th>\n",
       "      <th>Q1</th>\n",
       "      <th>Q2</th>\n",
       "      <th>Q3</th>\n",
       "      <th>Q4</th>\n",
       "      <th>t</th>\n",
       "      <th>t_square</th>\n",
       "      <th>log_Sales</th>\n",
       "      <th>forecasted_Sales</th>\n",
       "    </tr>\n",
       "  </thead>\n",
       "  <tbody>\n",
       "    <tr>\n",
       "      <th>38</th>\n",
       "      <td>Q3_95</td>\n",
       "      <td>4895.0</td>\n",
       "      <td>Q3</td>\n",
       "      <td>0</td>\n",
       "      <td>0</td>\n",
       "      <td>1</td>\n",
       "      <td>0</td>\n",
       "      <td>39</td>\n",
       "      <td>1521</td>\n",
       "      <td>8.495970</td>\n",
       "      <td>4839.220330</td>\n",
       "    </tr>\n",
       "    <tr>\n",
       "      <th>39</th>\n",
       "      <td>Q4_95</td>\n",
       "      <td>4333.0</td>\n",
       "      <td>Q4</td>\n",
       "      <td>0</td>\n",
       "      <td>0</td>\n",
       "      <td>0</td>\n",
       "      <td>1</td>\n",
       "      <td>40</td>\n",
       "      <td>1600</td>\n",
       "      <td>8.374015</td>\n",
       "      <td>4731.881928</td>\n",
       "    </tr>\n",
       "    <tr>\n",
       "      <th>40</th>\n",
       "      <td>Q1_96</td>\n",
       "      <td>4194.0</td>\n",
       "      <td>Q1</td>\n",
       "      <td>1</td>\n",
       "      <td>0</td>\n",
       "      <td>0</td>\n",
       "      <td>0</td>\n",
       "      <td>41</td>\n",
       "      <td>1681</td>\n",
       "      <td>8.341410</td>\n",
       "      <td>4668.345851</td>\n",
       "    </tr>\n",
       "    <tr>\n",
       "      <th>41</th>\n",
       "      <td>Q2_96</td>\n",
       "      <td>5253.0</td>\n",
       "      <td>Q2</td>\n",
       "      <td>0</td>\n",
       "      <td>1</td>\n",
       "      <td>0</td>\n",
       "      <td>0</td>\n",
       "      <td>42</td>\n",
       "      <td>1764</td>\n",
       "      <td>8.566555</td>\n",
       "      <td>5399.952382</td>\n",
       "    </tr>\n",
       "  </tbody>\n",
       "</table>\n",
       "</div>"
      ],
      "text/plain": [
       "   Quarter   Sales quarter  Q1  Q2  Q3  Q4   t  t_square  log_Sales  \\\n",
       "38   Q3_95  4895.0      Q3   0   0   1   0  39      1521   8.495970   \n",
       "39   Q4_95  4333.0      Q4   0   0   0   1  40      1600   8.374015   \n",
       "40   Q1_96  4194.0      Q1   1   0   0   0  41      1681   8.341410   \n",
       "41   Q2_96  5253.0      Q2   0   1   0   0  42      1764   8.566555   \n",
       "\n",
       "    forecasted_Sales  \n",
       "38       4839.220330  \n",
       "39       4731.881928  \n",
       "40       4668.345851  \n",
       "41       5399.952382  "
      ]
     },
     "execution_count": 42,
     "metadata": {},
     "output_type": "execute_result"
    }
   ],
   "source": [
    "predict_data"
   ]
  },
  {
   "cell_type": "code",
   "execution_count": 43,
   "id": "2246895e",
   "metadata": {
    "ExecuteTime": {
     "end_time": "2023-03-18T13:20:33.415564Z",
     "start_time": "2023-03-18T13:20:33.409560Z"
    }
   },
   "outputs": [],
   "source": [
    "#Done"
   ]
  },
  {
   "cell_type": "code",
   "execution_count": null,
   "id": "e58e5125",
   "metadata": {},
   "outputs": [],
   "source": []
  }
 ],
 "metadata": {
  "kernelspec": {
   "display_name": "Python 3 (ipykernel)",
   "language": "python",
   "name": "python3"
  },
  "language_info": {
   "codemirror_mode": {
    "name": "ipython",
    "version": 3
   },
   "file_extension": ".py",
   "mimetype": "text/x-python",
   "name": "python",
   "nbconvert_exporter": "python",
   "pygments_lexer": "ipython3",
   "version": "3.9.13"
  }
 },
 "nbformat": 4,
 "nbformat_minor": 5
}
