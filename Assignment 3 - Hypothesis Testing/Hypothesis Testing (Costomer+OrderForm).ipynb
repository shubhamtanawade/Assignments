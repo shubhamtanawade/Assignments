{
 "cells": [
  {
   "cell_type": "markdown",
   "id": "5b460e56",
   "metadata": {},
   "source": [
    "# Hypothesis Testing (Costomer+OrderForm)"
   ]
  },
  {
   "cell_type": "markdown",
   "id": "f5d82675",
   "metadata": {},
   "source": [
    "Shubham's Assignment"
   ]
  },
  {
   "cell_type": "code",
   "execution_count": 1,
   "id": "baf892f5",
   "metadata": {
    "ExecuteTime": {
     "end_time": "2023-03-15T14:10:47.146036Z",
     "start_time": "2023-03-15T14:10:44.430599Z"
    }
   },
   "outputs": [],
   "source": [
    "#Import libraries\n",
    "import numpy as np\n",
    "import scipy as sp\n",
    "import pandas as pd\n",
    "import statsmodels.api as sm\n",
    "import statsmodels.formula.api as smf\n",
    "import matplotlib as mpl\n",
    "import matplotlib.pyplot as plt\n",
    "import seaborn as sns\n",
    "from statsmodels.stats.proportion import proportions_ztest\n",
    "%matplotlib inline"
   ]
  },
  {
   "cell_type": "code",
   "execution_count": 2,
   "id": "4f1816b8",
   "metadata": {
    "ExecuteTime": {
     "end_time": "2023-03-15T14:10:52.370086Z",
     "start_time": "2023-03-15T14:10:52.360091Z"
    }
   },
   "outputs": [],
   "source": [
    "import warnings\n",
    "warnings.filterwarnings('ignore')"
   ]
  },
  {
   "cell_type": "code",
   "execution_count": 3,
   "id": "1fd209e5",
   "metadata": {
    "ExecuteTime": {
     "end_time": "2023-03-15T14:10:57.822910Z",
     "start_time": "2023-03-15T14:10:57.786909Z"
    }
   },
   "outputs": [
    {
     "data": {
      "text/html": [
       "<div>\n",
       "<style scoped>\n",
       "    .dataframe tbody tr th:only-of-type {\n",
       "        vertical-align: middle;\n",
       "    }\n",
       "\n",
       "    .dataframe tbody tr th {\n",
       "        vertical-align: top;\n",
       "    }\n",
       "\n",
       "    .dataframe thead th {\n",
       "        text-align: right;\n",
       "    }\n",
       "</style>\n",
       "<table border=\"1\" class=\"dataframe\">\n",
       "  <thead>\n",
       "    <tr style=\"text-align: right;\">\n",
       "      <th></th>\n",
       "      <th>Phillippines</th>\n",
       "      <th>Indonesia</th>\n",
       "      <th>Malta</th>\n",
       "      <th>India</th>\n",
       "    </tr>\n",
       "  </thead>\n",
       "  <tbody>\n",
       "    <tr>\n",
       "      <th>0</th>\n",
       "      <td>Error Free</td>\n",
       "      <td>Error Free</td>\n",
       "      <td>Defective</td>\n",
       "      <td>Error Free</td>\n",
       "    </tr>\n",
       "    <tr>\n",
       "      <th>1</th>\n",
       "      <td>Error Free</td>\n",
       "      <td>Error Free</td>\n",
       "      <td>Error Free</td>\n",
       "      <td>Defective</td>\n",
       "    </tr>\n",
       "    <tr>\n",
       "      <th>2</th>\n",
       "      <td>Error Free</td>\n",
       "      <td>Defective</td>\n",
       "      <td>Defective</td>\n",
       "      <td>Error Free</td>\n",
       "    </tr>\n",
       "    <tr>\n",
       "      <th>3</th>\n",
       "      <td>Error Free</td>\n",
       "      <td>Error Free</td>\n",
       "      <td>Error Free</td>\n",
       "      <td>Error Free</td>\n",
       "    </tr>\n",
       "    <tr>\n",
       "      <th>4</th>\n",
       "      <td>Error Free</td>\n",
       "      <td>Error Free</td>\n",
       "      <td>Defective</td>\n",
       "      <td>Error Free</td>\n",
       "    </tr>\n",
       "    <tr>\n",
       "      <th>5</th>\n",
       "      <td>Error Free</td>\n",
       "      <td>Error Free</td>\n",
       "      <td>Error Free</td>\n",
       "      <td>Error Free</td>\n",
       "    </tr>\n",
       "    <tr>\n",
       "      <th>6</th>\n",
       "      <td>Error Free</td>\n",
       "      <td>Defective</td>\n",
       "      <td>Error Free</td>\n",
       "      <td>Error Free</td>\n",
       "    </tr>\n",
       "    <tr>\n",
       "      <th>7</th>\n",
       "      <td>Error Free</td>\n",
       "      <td>Error Free</td>\n",
       "      <td>Error Free</td>\n",
       "      <td>Error Free</td>\n",
       "    </tr>\n",
       "    <tr>\n",
       "      <th>8</th>\n",
       "      <td>Error Free</td>\n",
       "      <td>Error Free</td>\n",
       "      <td>Error Free</td>\n",
       "      <td>Error Free</td>\n",
       "    </tr>\n",
       "    <tr>\n",
       "      <th>9</th>\n",
       "      <td>Error Free</td>\n",
       "      <td>Error Free</td>\n",
       "      <td>Error Free</td>\n",
       "      <td>Error Free</td>\n",
       "    </tr>\n",
       "  </tbody>\n",
       "</table>\n",
       "</div>"
      ],
      "text/plain": [
       "  Phillippines   Indonesia       Malta       India\n",
       "0   Error Free  Error Free   Defective  Error Free\n",
       "1   Error Free  Error Free  Error Free   Defective\n",
       "2   Error Free   Defective   Defective  Error Free\n",
       "3   Error Free  Error Free  Error Free  Error Free\n",
       "4   Error Free  Error Free   Defective  Error Free\n",
       "5   Error Free  Error Free  Error Free  Error Free\n",
       "6   Error Free   Defective  Error Free  Error Free\n",
       "7   Error Free  Error Free  Error Free  Error Free\n",
       "8   Error Free  Error Free  Error Free  Error Free\n",
       "9   Error Free  Error Free  Error Free  Error Free"
      ]
     },
     "execution_count": 3,
     "metadata": {},
     "output_type": "execute_result"
    }
   ],
   "source": [
    "#load dataset\n",
    "Customer = pd.read_csv('Costomer+OrderForm.csv')\n",
    "Customer.head(10)"
   ]
  },
  {
   "cell_type": "code",
   "execution_count": 4,
   "id": "d6b42d00",
   "metadata": {
    "ExecuteTime": {
     "end_time": "2023-03-15T14:11:09.228323Z",
     "start_time": "2023-03-15T14:11:09.216336Z"
    }
   },
   "outputs": [],
   "source": [
    "# Analyzing Data"
   ]
  },
  {
   "cell_type": "code",
   "execution_count": 5,
   "id": "e1e53b48",
   "metadata": {
    "ExecuteTime": {
     "end_time": "2023-03-15T14:11:27.153176Z",
     "start_time": "2023-03-15T14:11:27.138161Z"
    }
   },
   "outputs": [
    {
     "data": {
      "text/plain": [
       "(300, 4)"
      ]
     },
     "execution_count": 5,
     "metadata": {},
     "output_type": "execute_result"
    }
   ],
   "source": [
    "Customer.shape"
   ]
  },
  {
   "cell_type": "code",
   "execution_count": 6,
   "id": "271d31d4",
   "metadata": {
    "ExecuteTime": {
     "end_time": "2023-03-15T14:11:31.262376Z",
     "start_time": "2023-03-15T14:11:31.250375Z"
    }
   },
   "outputs": [
    {
     "data": {
      "text/plain": [
       "Phillippines    object\n",
       "Indonesia       object\n",
       "Malta           object\n",
       "India           object\n",
       "dtype: object"
      ]
     },
     "execution_count": 6,
     "metadata": {},
     "output_type": "execute_result"
    }
   ],
   "source": [
    "Customer.dtypes"
   ]
  },
  {
   "cell_type": "code",
   "execution_count": 7,
   "id": "0cad5778",
   "metadata": {
    "ExecuteTime": {
     "end_time": "2023-03-15T14:11:38.511322Z",
     "start_time": "2023-03-15T14:11:38.484324Z"
    }
   },
   "outputs": [
    {
     "name": "stdout",
     "output_type": "stream",
     "text": [
      "<class 'pandas.core.frame.DataFrame'>\n",
      "RangeIndex: 300 entries, 0 to 299\n",
      "Data columns (total 4 columns):\n",
      " #   Column        Non-Null Count  Dtype \n",
      "---  ------        --------------  ----- \n",
      " 0   Phillippines  300 non-null    object\n",
      " 1   Indonesia     300 non-null    object\n",
      " 2   Malta         300 non-null    object\n",
      " 3   India         300 non-null    object\n",
      "dtypes: object(4)\n",
      "memory usage: 9.5+ KB\n"
     ]
    }
   ],
   "source": [
    "Customer.info()"
   ]
  },
  {
   "cell_type": "code",
   "execution_count": 8,
   "id": "d25cec9e",
   "metadata": {
    "ExecuteTime": {
     "end_time": "2023-03-15T14:11:46.684402Z",
     "start_time": "2023-03-15T14:11:46.657404Z"
    }
   },
   "outputs": [
    {
     "data": {
      "text/html": [
       "<div>\n",
       "<style scoped>\n",
       "    .dataframe tbody tr th:only-of-type {\n",
       "        vertical-align: middle;\n",
       "    }\n",
       "\n",
       "    .dataframe tbody tr th {\n",
       "        vertical-align: top;\n",
       "    }\n",
       "\n",
       "    .dataframe thead th {\n",
       "        text-align: right;\n",
       "    }\n",
       "</style>\n",
       "<table border=\"1\" class=\"dataframe\">\n",
       "  <thead>\n",
       "    <tr style=\"text-align: right;\">\n",
       "      <th></th>\n",
       "      <th>Phillippines</th>\n",
       "      <th>Indonesia</th>\n",
       "      <th>Malta</th>\n",
       "      <th>India</th>\n",
       "    </tr>\n",
       "  </thead>\n",
       "  <tbody>\n",
       "    <tr>\n",
       "      <th>count</th>\n",
       "      <td>300</td>\n",
       "      <td>300</td>\n",
       "      <td>300</td>\n",
       "      <td>300</td>\n",
       "    </tr>\n",
       "    <tr>\n",
       "      <th>unique</th>\n",
       "      <td>2</td>\n",
       "      <td>2</td>\n",
       "      <td>2</td>\n",
       "      <td>2</td>\n",
       "    </tr>\n",
       "    <tr>\n",
       "      <th>top</th>\n",
       "      <td>Error Free</td>\n",
       "      <td>Error Free</td>\n",
       "      <td>Error Free</td>\n",
       "      <td>Error Free</td>\n",
       "    </tr>\n",
       "    <tr>\n",
       "      <th>freq</th>\n",
       "      <td>271</td>\n",
       "      <td>267</td>\n",
       "      <td>269</td>\n",
       "      <td>280</td>\n",
       "    </tr>\n",
       "  </tbody>\n",
       "</table>\n",
       "</div>"
      ],
      "text/plain": [
       "       Phillippines   Indonesia       Malta       India\n",
       "count           300         300         300         300\n",
       "unique            2           2           2           2\n",
       "top      Error Free  Error Free  Error Free  Error Free\n",
       "freq            271         267         269         280"
      ]
     },
     "execution_count": 8,
     "metadata": {},
     "output_type": "execute_result"
    }
   ],
   "source": [
    "Customer.describe()"
   ]
  },
  {
   "cell_type": "code",
   "execution_count": 9,
   "id": "557238d3",
   "metadata": {
    "ExecuteTime": {
     "end_time": "2023-03-15T14:11:53.394972Z",
     "start_time": "2023-03-15T14:11:53.381650Z"
    }
   },
   "outputs": [
    {
     "name": "stdout",
     "output_type": "stream",
     "text": [
      "Error Free    271\n",
      "Defective      29\n",
      "Name: Phillippines, dtype: int64\n"
     ]
    }
   ],
   "source": [
    "Phillippines_value=Customer['Phillippines'].value_counts()\n",
    "print(Phillippines_value)"
   ]
  },
  {
   "cell_type": "code",
   "execution_count": 10,
   "id": "1d74d3f1",
   "metadata": {
    "ExecuteTime": {
     "end_time": "2023-03-15T14:12:01.563588Z",
     "start_time": "2023-03-15T14:12:01.554588Z"
    }
   },
   "outputs": [
    {
     "name": "stdout",
     "output_type": "stream",
     "text": [
      "Error Free    267\n",
      "Defective      33\n",
      "Name: Indonesia, dtype: int64\n"
     ]
    }
   ],
   "source": [
    "Indonesia_value=Customer['Indonesia'].value_counts()\n",
    "print(Indonesia_value)"
   ]
  },
  {
   "cell_type": "code",
   "execution_count": 11,
   "id": "158cbf37",
   "metadata": {
    "ExecuteTime": {
     "end_time": "2023-03-15T14:12:06.875962Z",
     "start_time": "2023-03-15T14:12:06.857960Z"
    }
   },
   "outputs": [
    {
     "name": "stdout",
     "output_type": "stream",
     "text": [
      "Error Free    269\n",
      "Defective      31\n",
      "Name: Malta, dtype: int64\n"
     ]
    }
   ],
   "source": [
    "Malta_value=Customer['Malta'].value_counts()\n",
    "print(Malta_value)"
   ]
  },
  {
   "cell_type": "code",
   "execution_count": 12,
   "id": "06958618",
   "metadata": {
    "ExecuteTime": {
     "end_time": "2023-03-15T14:12:12.293687Z",
     "start_time": "2023-03-15T14:12:12.283675Z"
    }
   },
   "outputs": [
    {
     "name": "stdout",
     "output_type": "stream",
     "text": [
      "Error Free    280\n",
      "Defective      20\n",
      "Name: India, dtype: int64\n"
     ]
    }
   ],
   "source": [
    "India_value=Customer['India'].value_counts()\n",
    "print(India_value)"
   ]
  },
  {
   "cell_type": "code",
   "execution_count": 14,
   "id": "e8c30b43",
   "metadata": {
    "ExecuteTime": {
     "end_time": "2023-03-15T14:12:32.381090Z",
     "start_time": "2023-03-15T14:12:32.365090Z"
    }
   },
   "outputs": [],
   "source": [
    "#Hypothesis Testing"
   ]
  },
  {
   "cell_type": "code",
   "execution_count": 15,
   "id": "a16e3ee0",
   "metadata": {
    "ExecuteTime": {
     "end_time": "2023-03-15T14:12:34.324394Z",
     "start_time": "2023-03-15T14:12:34.314379Z"
    }
   },
   "outputs": [],
   "source": [
    "chiStats = sp.stats.chi2_contingency([[271,267,269,280],[29,33,31,20]])"
   ]
  },
  {
   "cell_type": "code",
   "execution_count": 16,
   "id": "d16616fa",
   "metadata": {
    "ExecuteTime": {
     "end_time": "2023-03-15T14:12:42.291840Z",
     "start_time": "2023-03-15T14:12:42.283832Z"
    }
   },
   "outputs": [
    {
     "name": "stdout",
     "output_type": "stream",
     "text": [
      "Test t=3.858961 p-value=0.277102\n"
     ]
    }
   ],
   "source": [
    "print('Test t=%f p-value=%f' % (chiStats[0], chiStats[1]))"
   ]
  },
  {
   "cell_type": "code",
   "execution_count": 17,
   "id": "f8c8d7b7",
   "metadata": {
    "ExecuteTime": {
     "end_time": "2023-03-15T14:12:46.926557Z",
     "start_time": "2023-03-15T14:12:46.912558Z"
    }
   },
   "outputs": [
    {
     "name": "stdout",
     "output_type": "stream",
     "text": [
      "Interpret by p-Value\n"
     ]
    }
   ],
   "source": [
    "print('Interpret by p-Value')"
   ]
  },
  {
   "cell_type": "code",
   "execution_count": 18,
   "id": "28673253",
   "metadata": {
    "ExecuteTime": {
     "end_time": "2023-03-15T14:12:52.667695Z",
     "start_time": "2023-03-15T14:12:52.652680Z"
    }
   },
   "outputs": [
    {
     "name": "stdout",
     "output_type": "stream",
     "text": [
      "we accept null hypothesis\n"
     ]
    }
   ],
   "source": [
    "if chiStats[1] < 0.05:\n",
    "  print('we reject null hypothesis')\n",
    "else:\n",
    "  print('we accept null hypothesis')"
   ]
  },
  {
   "cell_type": "code",
   "execution_count": 19,
   "id": "0ed1701d",
   "metadata": {
    "ExecuteTime": {
     "end_time": "2023-03-15T14:12:57.976233Z",
     "start_time": "2023-03-15T14:12:57.964233Z"
    }
   },
   "outputs": [],
   "source": [
    "#critical value = 0.1\n",
    "alpha = 0.05\n",
    "critical_value = sp.stats.chi2.ppf(q = 1 - alpha,df=chiStats[2])\n",
    "observed_chi_val = chiStats[0]"
   ]
  },
  {
   "cell_type": "code",
   "execution_count": 20,
   "id": "1212cfc8",
   "metadata": {
    "ExecuteTime": {
     "end_time": "2023-03-15T14:13:03.683939Z",
     "start_time": "2023-03-15T14:13:03.675926Z"
    }
   },
   "outputs": [
    {
     "name": "stdout",
     "output_type": "stream",
     "text": [
      "Interpret by critical value\n"
     ]
    }
   ],
   "source": [
    "print('Interpret by critical value')"
   ]
  },
  {
   "cell_type": "code",
   "execution_count": 21,
   "id": "00179c7b",
   "metadata": {
    "ExecuteTime": {
     "end_time": "2023-03-15T14:13:24.874079Z",
     "start_time": "2023-03-15T14:13:24.858075Z"
    }
   },
   "outputs": [
    {
     "name": "stdout",
     "output_type": "stream",
     "text": [
      "Null hypothesis cannot be rejected (variables are not related)\n"
     ]
    }
   ],
   "source": [
    "if observed_chi_val <= critical_value:\n",
    "       print ('Null hypothesis cannot be rejected (variables are not related)')\n",
    "else:\n",
    "       print ('Null hypothesis cannot be excepted (variables are not independent)')"
   ]
  },
  {
   "cell_type": "code",
   "execution_count": 22,
   "id": "efab7748",
   "metadata": {
    "ExecuteTime": {
     "end_time": "2023-03-15T14:13:30.963429Z",
     "start_time": "2023-03-15T14:13:30.945411Z"
    }
   },
   "outputs": [],
   "source": [
    "#Inference : Proportion of Percentage Defective across all center is same"
   ]
  },
  {
   "cell_type": "code",
   "execution_count": 23,
   "id": "910d1822",
   "metadata": {
    "ExecuteTime": {
     "end_time": "2023-03-15T14:13:36.150707Z",
     "start_time": "2023-03-15T14:13:36.141707Z"
    }
   },
   "outputs": [],
   "source": [
    "# Done"
   ]
  },
  {
   "cell_type": "code",
   "execution_count": null,
   "id": "1c568fa4",
   "metadata": {},
   "outputs": [],
   "source": []
  }
 ],
 "metadata": {
  "kernelspec": {
   "display_name": "Python 3 (ipykernel)",
   "language": "python",
   "name": "python3"
  },
  "language_info": {
   "codemirror_mode": {
    "name": "ipython",
    "version": 3
   },
   "file_extension": ".py",
   "mimetype": "text/x-python",
   "name": "python",
   "nbconvert_exporter": "python",
   "pygments_lexer": "ipython3",
   "version": "3.9.13"
  }
 },
 "nbformat": 4,
 "nbformat_minor": 5
}
